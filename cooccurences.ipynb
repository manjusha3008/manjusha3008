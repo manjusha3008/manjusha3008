{
 "cells": [
  {
   "cell_type": "code",
   "execution_count": 3,
   "metadata": {},
   "outputs": [],
   "source": [
    "import pandas as pd\n",
    "import chardet\n",
    "import nltk\n",
    "from nltk.corpus import stopwords\n",
    "from collections import Counter\n",
    "import re\n",
    "from sklearn.feature_extraction.text import CountVectorizer\n",
    "from twitter_program import connect_Twitter,tweet_clean_tp,tweet_parse_tp,retrieve_hashtags,retrieve_mentions,retrieve_urls,pos_tags,extract_emojis,spell_check,lemmatise\n",
    "from nltk.stem import PorterStemmer\n",
    "import numpy as np\n"
   ]
  },
  {
   "cell_type": "code",
   "execution_count": 4,
   "metadata": {},
   "outputs": [
    {
     "data": {
      "text/plain": [
       "'C:\\\\Users\\\\Manjusha Pattadkal'"
      ]
     },
     "execution_count": 4,
     "metadata": {},
     "output_type": "execute_result"
    }
   ],
   "source": [
    "import os\n",
    "os.getcwd()"
   ]
  },
  {
   "cell_type": "code",
   "execution_count": 5,
   "metadata": {},
   "outputs": [],
   "source": [
    "os.chdir(r\"C:\\Users\\Manjusha Pattadkal\\Documents\\ML Project\")"
   ]
  },
  {
   "cell_type": "code",
   "execution_count": 6,
   "metadata": {},
   "outputs": [],
   "source": [
    "usernames = pd.read_csv('usernames_depressed.txt',index_col= False,header=None,sep='\\t',error_bad_lines=False)\n",
    "rowcount = len(usernames.axes[0])\n",
    "\n",
    "usernames=usernames.values.tolist()"
   ]
  },
  {
   "cell_type": "code",
   "execution_count": 7,
   "metadata": {},
   "outputs": [],
   "source": [
    "dep_tweets = []\n",
    "\n",
    "for i in range (0,rowcount):\n",
    "    try:\n",
    "    \n",
    "        filename = \"userdata_\"+usernames[i][0]+\"_2_months.csv\"\n",
    "    \n",
    "    \n",
    "        tweets=pd.read_csv(filename,encoding='mbcs')\n",
    "        tweets.dropna(subset = ['twittername'],inplace=True)\n",
    "\n",
    "        row=len(tweets.axes[0])\n",
    "        \n",
    "        for i in range (0,row):\n",
    "            dep_tweets.append(str(tweets.iloc[i,3]))\n",
    "            \n",
    "\n",
    "    except:\n",
    "        pass"
   ]
  },
  {
   "cell_type": "code",
   "execution_count": 8,
   "metadata": {},
   "outputs": [],
   "source": [
    "dep_tweets_df = pd.DataFrame(dep_tweets)\n"
   ]
  },
  {
   "cell_type": "code",
   "execution_count": 9,
   "metadata": {},
   "outputs": [],
   "source": [
    "def preprocessing(String): #default value is always true for stemming and stopwords\n",
    "    \n",
    "    '''\n",
    "    This function is used for preprocessing\n",
    "    - Tokenization\n",
    "    - Stemming\n",
    "    - Stop Words\n",
    "        \n",
    "    '''\n",
    "    tokens = nltk.word_tokenize(String)\n",
    "    token = [word for word in tokens if word.isalpha()]\n",
    "    influential_words = \" \".join(token)\n",
    "    influential_words = influential_words.lower()\n",
    "    influential_words = influential_words.split()\n",
    "    stop_words = set(stopwords.words('english'))\n",
    "    influentialwords = []\n",
    "    \n",
    "    for w in influential_words:\n",
    "        if w not in stop_words: \n",
    "            influentialwords.append(w)\n",
    "    ps= PorterStemmer()\n",
    "    \n",
    "    # if stopwordFlag==False:\n",
    "    stemwords=[]    \n",
    "    for w in influentialwords:\n",
    "          stemwords.append(ps.stem(w))\n",
    "    stemwords_string = \" \".join(stemwords)\n",
    "    return stemwords_string"
   ]
  },
  {
   "cell_type": "code",
   "execution_count": 10,
   "metadata": {},
   "outputs": [],
   "source": [
    "def preprocess(data,fun):\n",
    "    data_df=pd.DataFrame(data)\n",
    "    pre = data_df[0].apply(fun)\n",
    "    return pre"
   ]
  },
  {
   "cell_type": "code",
   "execution_count": 11,
   "metadata": {},
   "outputs": [],
   "source": [
    "clean = preprocess(dep_tweets,tweet_clean_tp)\n",
    "tags = preprocess(clean,pos_tags)\n",
    "nan_value = float(\"NaN\")\n",
    "tags.replace(\"\",nan_value, inplace=True)\n",
    "tags.dropna(inplace=True)\n",
    "tags=tags.reset_index(drop=True)\n",
    "\n",
    "rowc = len(tags)"
   ]
  },
  {
   "cell_type": "code",
   "execution_count": 12,
   "metadata": {},
   "outputs": [],
   "source": [
    "final_text = []\n",
    "for i in range(0,rowc):\n",
    "    final_text.append(str(preprocessing(tags[i])))"
   ]
  },
  {
   "cell_type": "code",
   "execution_count": 13,
   "metadata": {},
   "outputs": [],
   "source": [
    "x = pd.Series(final_text)\n",
    "\n",
    "for i in range(len(final_text)):\n",
    "    tokens=final_text[i].split()\n",
    "    if len(tokens)==1:\n",
    "        x.drop(i,inplace=True)\n",
    "\n",
    "final_text=x.reset_index(drop=True)"
   ]
  },
  {
   "cell_type": "code",
   "execution_count": 14,
   "metadata": {},
   "outputs": [],
   "source": [
    "DF = {}\n",
    "for i in range(len(final_text)):\n",
    "    tokens = final_text[i].split()\n",
    "    for w in tokens:\n",
    "        try:\n",
    "            DF[w].add(i)\n",
    "        except:\n",
    "            DF[w] = {i}"
   ]
  },
  {
   "cell_type": "code",
   "execution_count": 15,
   "metadata": {},
   "outputs": [],
   "source": [
    "def doc_freq(token):\n",
    "    return len(DF[token])"
   ]
  },
  {
   "cell_type": "code",
   "execution_count": 16,
   "metadata": {},
   "outputs": [],
   "source": [
    "token_dict = {}\n",
    "for i in range(len(final_text)):\n",
    "    tokens = final_text[i].split()\n",
    "    #counter = Counter(tokens + final_text[i])\n",
    "    for token in np.unique(tokens):\n",
    "        #tf = counter[token]/words_count\n",
    "        df = doc_freq(token)\n",
    "        token_dict[token] = np.log(len(final_text)/(df+1))"
   ]
  },
  {
   "cell_type": "code",
   "execution_count": 2,
   "metadata": {},
   "outputs": [
    {
     "ename": "NameError",
     "evalue": "name 'token_dict' is not defined",
     "output_type": "error",
     "traceback": [
      "\u001b[1;31m---------------------------------------------------------------------------\u001b[0m",
      "\u001b[1;31mNameError\u001b[0m                                 Traceback (most recent call last)",
      "\u001b[1;32m<ipython-input-2-2bf004effd1c>\u001b[0m in \u001b[0;36m<module>\u001b[1;34m\u001b[0m\n\u001b[0;32m      1\u001b[0m \u001b[0mlist_idf\u001b[0m \u001b[1;33m=\u001b[0m \u001b[1;33m[\u001b[0m\u001b[1;33m]\u001b[0m\u001b[1;33m\u001b[0m\u001b[1;33m\u001b[0m\u001b[0m\n\u001b[1;32m----> 2\u001b[1;33m \u001b[1;32mfor\u001b[0m \u001b[0mi\u001b[0m \u001b[1;32min\u001b[0m \u001b[0mtoken_dict\u001b[0m\u001b[1;33m.\u001b[0m\u001b[0mkeys\u001b[0m\u001b[1;33m(\u001b[0m\u001b[1;33m)\u001b[0m\u001b[1;33m:\u001b[0m\u001b[1;33m\u001b[0m\u001b[1;33m\u001b[0m\u001b[0m\n\u001b[0m\u001b[0;32m      3\u001b[0m  \u001b[0mlist_idf\u001b[0m\u001b[1;33m.\u001b[0m\u001b[0mappend\u001b[0m\u001b[1;33m(\u001b[0m\u001b[0mtoken_dict\u001b[0m\u001b[1;33m[\u001b[0m\u001b[0mi\u001b[0m\u001b[1;33m]\u001b[0m\u001b[1;33m)\u001b[0m\u001b[1;33m\u001b[0m\u001b[1;33m\u001b[0m\u001b[0m\n",
      "\u001b[1;31mNameError\u001b[0m: name 'token_dict' is not defined"
     ]
    }
   ],
   "source": [
    "list_idf = []\n",
    "for i in token_dict.keys():\n",
    " list_idf.append(token_dict[i])"
   ]
  },
  {
   "cell_type": "code",
   "execution_count": 1,
   "metadata": {},
   "outputs": [
    {
     "ename": "NameError",
     "evalue": "name 'list_idf' is not defined",
     "output_type": "error",
     "traceback": [
      "\u001b[1;31m---------------------------------------------------------------------------\u001b[0m",
      "\u001b[1;31mNameError\u001b[0m                                 Traceback (most recent call last)",
      "\u001b[1;32m<ipython-input-1-5566d351146b>\u001b[0m in \u001b[0;36m<module>\u001b[1;34m\u001b[0m\n\u001b[0;32m      1\u001b[0m \u001b[1;32mimport\u001b[0m \u001b[0mpandas\u001b[0m \u001b[1;32mas\u001b[0m \u001b[0mpd\u001b[0m\u001b[1;33m\u001b[0m\u001b[1;33m\u001b[0m\u001b[0m\n\u001b[1;32m----> 2\u001b[1;33m \u001b[0mlist_idf\u001b[0m \u001b[1;33m=\u001b[0m \u001b[0mpd\u001b[0m\u001b[1;33m.\u001b[0m\u001b[0mSeries\u001b[0m\u001b[1;33m(\u001b[0m\u001b[0mlist_idf\u001b[0m\u001b[1;33m,\u001b[0m \u001b[0mname\u001b[0m\u001b[1;33m=\u001b[0m\u001b[1;34m\"IDF values\"\u001b[0m\u001b[1;33m)\u001b[0m\u001b[1;33m\u001b[0m\u001b[1;33m\u001b[0m\u001b[0m\n\u001b[0m",
      "\u001b[1;31mNameError\u001b[0m: name 'list_idf' is not defined"
     ]
    }
   ],
   "source": [
    "import pandas as pd\n",
    "list_idf = pd.Series(list_idf, name=\"IDF values\")\n"
   ]
  },
  {
   "cell_type": "code",
   "execution_count": 18,
   "metadata": {},
   "outputs": [
    {
     "data": {
      "text/plain": [
       "<matplotlib.axes._subplots.AxesSubplot at 0x1cc27119448>"
      ]
     },
     "execution_count": 18,
     "metadata": {},
     "output_type": "execute_result"
    },
    {
     "data": {
      "image/png": "[encoded data removed]",
      "text/plain": [
       "<Figure size 432x288 with 1 Axes>"
      ]
     },
     "metadata": {
      "needs_background": "light"
     },
     "output_type": "display_data"
    }
   ],
   "source": [
    "import seaborn as sns\n",
    "sns.distplot(list_idf, kde = True,\n",
    "                 kde_kws = {'linewidth': 3})"
   ]
  },
  {
   "cell_type": "code",
   "execution_count": 19,
   "metadata": {},
   "outputs": [
    {
     "data": {
      "text/plain": [
       "12742"
      ]
     },
     "execution_count": 19,
     "metadata": {},
     "output_type": "execute_result"
    }
   ],
   "source": [
    "token_list = []\n",
    "count = 0\n",
    "for i in token_dict.keys():\n",
    "     if token_dict[i]<=10:\n",
    "            token_list.append(i)\n",
    "            count+=1\n",
    "count"
   ]
  },
  {
   "cell_type": "code",
   "execution_count": 20,
   "metadata": {},
   "outputs": [],
   "source": [
    "word_list =[]\n",
    "new_tweets = []\n",
    "for w in token_list:\n",
    "    for i in range(0,len(final_text)):\n",
    "        word_list=[]\n",
    "        if w in final_text[i].split():\n",
    "            \n",
    "                word_list.append(final_text[i])\n",
    "        else:\n",
    "            continue\n",
    "            \n",
    "                \n",
    "        if len(word_list) !=0 and word_list not in new_tweets:\n",
    "            new_tweets.append(word_list)\n",
    "        "
   ]
  },
  {
   "cell_type": "code",
   "execution_count": 21,
   "metadata": {},
   "outputs": [
    {
     "data": {
      "text/plain": [
       "49931"
      ]
     },
     "execution_count": 21,
     "metadata": {},
     "output_type": "execute_result"
    }
   ],
   "source": [
    "len(new_tweets)"
   ]
  },
  {
   "cell_type": "code",
   "execution_count": 34,
   "metadata": {},
   "outputs": [],
   "source": [
    "new_df = pd.DataFrame(new_tweets)\n",
    "new_df.to_csv(\"new_tweets.csv\",index = False, header=False)"
   ]
  },
  {
   "cell_type": "code",
   "execution_count": 22,
   "metadata": {},
   "outputs": [],
   "source": [
    "def vectorization(Stringfit,Stringtransform):\n",
    "    count = []\n",
    "    vectorizer = CountVectorizer(min_df=5)\n",
    "    String_df = pd.DataFrame(Stringfit)\n",
    "    Stringtransform_df = pd.DataFrame(Stringtransform)\n",
    "    vectorizer.fit(String_df[0])\n",
    "    countmatrix = vectorizer.transform(Stringtransform_df[0])\n",
    "    count=countmatrix.todense()\n",
    "    return count,vectorizer.get_feature_names()\n",
    "\n",
    "vector_1,a1 = vectorization(new_tweets,new_tweets)"
   ]
  },
  {
   "cell_type": "code",
   "execution_count": 24,
   "metadata": {},
   "outputs": [
    {
     "data": {
      "text/plain": [
       "6916"
      ]
     },
     "execution_count": 24,
     "metadata": {},
     "output_type": "execute_result"
    }
   ],
   "source": [
    "len(a1)"
   ]
  },
  {
   "cell_type": "code",
   "execution_count": 25,
   "metadata": {},
   "outputs": [],
   "source": [
    "vector_transpose = np.transpose(vector_1)\n"
   ]
  },
  {
   "cell_type": "code",
   "execution_count": 26,
   "metadata": {},
   "outputs": [],
   "source": [
    "import tensorflow as tf"
   ]
  },
  {
   "cell_type": "code",
   "execution_count": 27,
   "metadata": {},
   "outputs": [],
   "source": [
    "vector_tf=tf.convert_to_tensor(vector_1, dtype=None, dtype_hint=None, name=None)\n",
    "vector_t_tf=tf.convert_to_tensor(vector_transpose, dtype=None, dtype_hint=None, name=None)\n",
    "\n",
    "result = tf.matmul(vector_t_tf,vector_tf)"
   ]
  },
  {
   "cell_type": "code",
   "execution_count": 28,
   "metadata": {},
   "outputs": [],
   "source": [
    "result_arr=result.numpy()"
   ]
  },
  {
   "cell_type": "code",
   "execution_count": 29,
   "metadata": {},
   "outputs": [],
   "source": [
    "index_ = []\n",
    "for i in range (len(a1)):\n",
    "     for j in range (0,len(a1)):\n",
    "        if result_arr[i][j] >100 and j<i:\n",
    "            index_.append([result_arr[i][j],i,j])"
   ]
  },
  {
   "cell_type": "code",
   "execution_count": 30,
   "metadata": {},
   "outputs": [],
   "source": [
    "list_freq = []\n",
    "for i in range (len(index_)):\n",
    "    list_freq.append(index_[i][0])"
   ]
  },
  {
   "cell_type": "code",
   "execution_count": 31,
   "metadata": {},
   "outputs": [
    {
     "data": {
      "text/plain": [
       "619"
      ]
     },
     "execution_count": 31,
     "metadata": {},
     "output_type": "execute_result"
    }
   ],
   "source": [
    "len(list_freq)"
   ]
  },
  {
   "cell_type": "code",
   "execution_count": 32,
   "metadata": {},
   "outputs": [
    {
     "name": "stdout",
     "output_type": "stream",
     "text": [
      "[101 102 103 104 105 106 107 108 109 110 111 112 113 114 115 116 117 118\n",
      " 119 120 121 122 123 124 125 126 127 128 129 130 131 132 133 134 135 136\n",
      " 137 138 139 140 141 142 143 144 145 146 147 148 149 150 151 152 153 154\n",
      " 155 156 157 158 159 160 161 162 163 164 165 166 167 168 169 170 171 172\n",
      " 173 175 176 177 178 179 181 182 183 184 185 186 187 188 189 190 191 192\n",
      " 193 194 195 196 197 198 199 200 201 202 203 204 206 207 208 210 211 214\n",
      " 215 216 217 219 220 223 224 225 227 228 229 230 231 232 233 234 236 237\n",
      " 238 239 240 243 244 246 248 249 252 253 254 255 256 257 259 260 268 271\n",
      " 273 274 275 276 277 287 289 290 294 297 301 302 303 305 306 308 312 316\n",
      " 317 325 330 335 337 342 346 353 366 374 381 389 432 444 449 453 499 512\n",
      " 520]\n"
     ]
    }
   ],
   "source": [
    "x = np.array(list_freq) \n",
    "print(np.unique(x)) "
   ]
  },
  {
   "cell_type": "code",
   "execution_count": 33,
   "metadata": {},
   "outputs": [],
   "source": [
    "co_occur = []\n",
    "for i in range (len(index_)):\n",
    "    a = index_[i][1]\n",
    "    b = index_[i][2]\n",
    "    co_occur.append([a1[a],a1[b],index_[i][0]])\n",
    "                "
   ]
  },
  {
   "cell_type": "code",
   "execution_count": 34,
   "metadata": {},
   "outputs": [
    {
     "data": {
      "text/plain": [
       "[['amp', 'also', 130],\n",
       " ['amp', 'alway', 102],\n",
       " ['back', 'amp', 146],\n",
       " ['come', 'amp', 109],\n",
       " ['come', 'back', 101],\n",
       " ['day', 'amp', 200],\n",
       " ['day', 'back', 123],\n",
       " ['els', 'anyon', 112],\n",
       " ['even', 'amp', 185],\n",
       " ['even', 'day', 104],\n",
       " ['even', 'dont', 152],\n",
       " ['feel', 'also', 135],\n",
       " ['feel', 'amp', 155],\n",
       " ['feel', 'bad', 132],\n",
       " ['feel', 'better', 153],\n",
       " ['feel', 'day', 130],\n",
       " ['feel', 'dont', 155],\n",
       " ['feel', 'even', 173],\n",
       " ['friend', 'amp', 117],\n",
       " ['fuck', 'amp', 111],\n",
       " ['fuck', 'dont', 127],\n",
       " ['fuck', 'even', 105],\n",
       " ['game', 'amp', 103],\n",
       " ['get', 'actual', 112],\n",
       " ['get', 'also', 220],\n",
       " ['get', 'alway', 146],\n",
       " ['get', 'amp', 381],\n",
       " ['get', 'back', 271],\n",
       " ['get', 'bad', 111],\n",
       " ['get', 'better', 171],\n",
       " ['get', 'call', 104],\n",
       " ['get', 'cant', 107],\n",
       " ['get', 'care', 104],\n",
       " ['get', 'come', 136],\n",
       " ['get', 'day', 253],\n",
       " ['get', 'done', 125],\n",
       " ['get', 'dont', 237],\n",
       " ['get', 'even', 294],\n",
       " ['get', 'feel', 255],\n",
       " ['get', 'first', 106],\n",
       " ['get', 'friend', 102],\n",
       " ['get', 'fuck', 194],\n",
       " ['get', 'game', 112],\n",
       " ['give', 'amp', 102],\n",
       " ['go', 'also', 122],\n",
       " ['go', 'amp', 290],\n",
       " ['go', 'back', 260],\n",
       " ['go', 'day', 175],\n",
       " ['go', 'dont', 169],\n",
       " ['go', 'even', 162],\n",
       " ['go', 'feel', 168],\n",
       " ['go', 'friend', 105],\n",
       " ['go', 'fuck', 133],\n",
       " ['go', 'get', 499],\n",
       " ['gon', 'get', 171],\n",
       " ['gon', 'go', 106],\n",
       " ['good', 'amp', 113],\n",
       " ['good', 'day', 165],\n",
       " ['good', 'feel', 178],\n",
       " ['good', 'get', 166],\n",
       " ['good', 'go', 124],\n",
       " ['got', 'amp', 129],\n",
       " ['got', 'get', 243],\n",
       " ['got', 'go', 155],\n",
       " ['grass', 'car', 342],\n",
       " ['growl', 'bark', 124],\n",
       " ['happi', 'birthday', 119],\n",
       " ['hard', 'get', 111],\n",
       " ['help', 'amp', 126],\n",
       " ['help', 'feel', 107],\n",
       " ['help', 'get', 227],\n",
       " ['help', 'go', 102],\n",
       " ['home', 'get', 101],\n",
       " ['hope', 'get', 177],\n",
       " ['im', 'also', 172],\n",
       " ['im', 'alway', 125],\n",
       " ['im', 'amp', 172],\n",
       " ['im', 'back', 136],\n",
       " ['im', 'bc', 108],\n",
       " ['im', 'better', 101],\n",
       " ['im', 'cant', 134],\n",
       " ['im', 'come', 117],\n",
       " ['im', 'day', 201],\n",
       " ['im', 'dont', 335],\n",
       " ['im', 'eat', 104],\n",
       " ['im', 'even', 237],\n",
       " ['im', 'feel', 325],\n",
       " ['im', 'friend', 113],\n",
       " ['im', 'fuck', 214],\n",
       " ['im', 'get', 444],\n",
       " ['im', 'glad', 147],\n",
       " ['im', 'go', 389],\n",
       " ['im', 'gon', 306],\n",
       " ['im', 'good', 193],\n",
       " ['im', 'got', 119],\n",
       " ['im', 'guy', 104],\n",
       " ['im', 'happi', 107],\n",
       " ['im', 'help', 132],\n",
       " ['im', 'ill', 103],\n",
       " ['ive', 'im', 207],\n",
       " ['joe', 'biden', 113],\n",
       " ['joe', 'creepi', 173],\n",
       " ['keep', 'get', 133],\n",
       " ['keep', 'go', 122],\n",
       " ['know', 'also', 156],\n",
       " ['know', 'alway', 102],\n",
       " ['know', 'amp', 190],\n",
       " ['know', 'day', 126],\n",
       " ['know', 'dont', 316],\n",
       " ['know', 'even', 234],\n",
       " ['know', 'feel', 234],\n",
       " ['know', 'friend', 114],\n",
       " ['know', 'fuck', 108],\n",
       " ['know', 'get', 335],\n",
       " ['know', 'go', 217],\n",
       " ['know', 'good', 175],\n",
       " ['know', 'got', 110],\n",
       " ['know', 'help', 130],\n",
       " ['know', 'im', 274],\n",
       " ['let', 'get', 131],\n",
       " ['let', 'go', 131],\n",
       " ['let', 'know', 183],\n",
       " ['life', 'amp', 123],\n",
       " ['life', 'feel', 106],\n",
       " ['life', 'get', 156],\n",
       " ['life', 'im', 115],\n",
       " ['life', 'know', 120],\n",
       " ['like', 'get', 120],\n",
       " ['like', 'know', 102],\n",
       " ['liter', 'get', 111],\n",
       " ['live', 'amp', 161],\n",
       " ['live', 'get', 139],\n",
       " ['live', 'go', 109],\n",
       " ['live', 'life', 128],\n",
       " ['lol', 'amp', 111],\n",
       " ['lol', 'get', 118],\n",
       " ['lol', 'im', 135],\n",
       " ['look', 'amp', 141],\n",
       " ['look', 'get', 165],\n",
       " ['look', 'go', 111],\n",
       " ['look', 'good', 159],\n",
       " ['look', 'im', 160],\n",
       " ['look', 'know', 125],\n",
       " ['lot', 'get', 142],\n",
       " ['love', 'amp', 207],\n",
       " ['love', 'feel', 151],\n",
       " ['love', 'fuck', 102],\n",
       " ['love', 'get', 183],\n",
       " ['love', 'go', 151],\n",
       " ['love', 'im', 189],\n",
       " ['love', 'know', 176],\n",
       " ['love', 'life', 124],\n",
       " ['make', 'also', 133],\n",
       " ['make', 'amp', 219],\n",
       " ['make', 'better', 101],\n",
       " ['make', 'day', 128],\n",
       " ['make', 'dont', 193],\n",
       " ['make', 'even', 197],\n",
       " ['make', 'feel', 312],\n",
       " ['make', 'fuck', 107],\n",
       " ['make', 'get', 268],\n",
       " ['make', 'go', 246],\n",
       " ['make', 'good', 136],\n",
       " ['make', 'help', 118],\n",
       " ['make', 'im', 238],\n",
       " ['make', 'know', 216],\n",
       " ['make', 'life', 116],\n",
       " ['make', 'look', 132],\n",
       " ['make', 'love', 156],\n",
       " ['mani', 'amp', 111],\n",
       " ['mean', 'get', 126],\n",
       " ['mean', 'know', 130],\n",
       " ['mental', 'health', 256],\n",
       " ['mental', 'ill', 130],\n",
       " ['much', 'day', 105],\n",
       " ['much', 'dont', 117],\n",
       " ['much', 'even', 104],\n",
       " ['much', 'feel', 149],\n",
       " ['much', 'get', 189],\n",
       " ['much', 'go', 133],\n",
       " ['much', 'im', 195],\n",
       " ['much', 'know', 157],\n",
       " ['much', 'love', 240],\n",
       " ['much', 'make', 117],\n",
       " ['na', 'gon', 179],\n",
       " ['need', 'also', 101],\n",
       " ['need', 'amp', 167],\n",
       " ['need', 'feel', 169],\n",
       " ['need', 'get', 337],\n",
       " ['need', 'go', 196],\n",
       " ['need', 'help', 186],\n",
       " ['need', 'im', 147],\n",
       " ['need', 'know', 192],\n",
       " ['need', 'make', 155],\n",
       " ['never', 'amp', 124],\n",
       " ['never', 'feel', 108],\n",
       " ['never', 'get', 191],\n",
       " ['never', 'go', 116],\n",
       " ['never', 'im', 144],\n",
       " ['never', 'ive', 120],\n",
       " ['never', 'know', 150],\n",
       " ['never', 'life', 110],\n",
       " ['never', 'love', 110],\n",
       " ['new', 'get', 122],\n",
       " ['night', 'last', 148],\n",
       " ['okay', 'im', 112],\n",
       " ['peopl', 'actual', 143],\n",
       " ['peopl', 'also', 233],\n",
       " ['peopl', 'alway', 152],\n",
       " ['peopl', 'amp', 287],\n",
       " ['peopl', 'anyon', 110],\n",
       " ['peopl', 'back', 111],\n",
       " ['peopl', 'bad', 128],\n",
       " ['peopl', 'believ', 104],\n",
       " ['peopl', 'black', 203],\n",
       " ['peopl', 'call', 138],\n",
       " ['peopl', 'care', 163],\n",
       " ['peopl', 'caus', 112],\n",
       " ['peopl', 'come', 129],\n",
       " ['peopl', 'day', 158],\n",
       " ['peopl', 'differ', 148],\n",
       " ['peopl', 'dont', 330],\n",
       " ['peopl', 'even', 308],\n",
       " ['peopl', 'feel', 289],\n",
       " ['peopl', 'follow', 105],\n",
       " ['peopl', 'friend', 125],\n",
       " ['peopl', 'fuck', 229],\n",
       " ['peopl', 'get', 520],\n",
       " ['peopl', 'give', 125],\n",
       " ['peopl', 'go', 366],\n",
       " ['peopl', 'good', 194],\n",
       " ['peopl', 'got', 110],\n",
       " ['peopl', 'hate', 146],\n",
       " ['peopl', 'help', 203],\n",
       " ['peopl', 'im', 259],\n",
       " ['peopl', 'keep', 120],\n",
       " ['peopl', 'know', 449],\n",
       " ['peopl', 'let', 110],\n",
       " ['peopl', 'life', 181],\n",
       " ['peopl', 'like', 176],\n",
       " ['peopl', 'liter', 124],\n",
       " ['peopl', 'live', 200],\n",
       " ['peopl', 'look', 169],\n",
       " ['peopl', 'lot', 204],\n",
       " ['peopl', 'love', 224],\n",
       " ['peopl', 'make', 432],\n",
       " ['peopl', 'mani', 294],\n",
       " ['peopl', 'mask', 103],\n",
       " ['peopl', 'mean', 175],\n",
       " ['peopl', 'much', 201],\n",
       " ['peopl', 'need', 268],\n",
       " ['peopl', 'never', 197],\n",
       " ['peopl', 'other', 116],\n",
       " ['person', 'amp', 118],\n",
       " ['person', 'feel', 107],\n",
       " ['person', 'get', 119],\n",
       " ['person', 'im', 116],\n",
       " ['person', 'know', 152],\n",
       " ['person', 'make', 136],\n",
       " ['person', 'peopl', 201],\n",
       " ['play', 'game', 195],\n",
       " ['pleas', 'come', 125],\n",
       " ['point', 'get', 107],\n",
       " ['point', 'peopl', 112],\n",
       " ['post', 'peopl', 101],\n",
       " ['pronoun', 'autism', 109],\n",
       " ['pronoun', 'carrd', 108],\n",
       " ['pronoun', 'come', 109],\n",
       " ['pronoun', 'connor', 108],\n",
       " ['pronoun', 'eat', 108],\n",
       " ['pronoun', 'fem', 110],\n",
       " ['pronoun', 'goblin', 108],\n",
       " ['pronoun', 'hb', 108],\n",
       " ['pronoun', 'indigen', 108],\n",
       " ['pronoun', 'latin', 108],\n",
       " ['ptsd', 'diagnos', 133],\n",
       " ['ptsd', 'pronoun', 108],\n",
       " ['queer', 'pronoun', 108],\n",
       " ['question', 'ask', 111],\n",
       " ['realli', 'amp', 111],\n",
       " ['realli', 'dont', 157],\n",
       " ['realli', 'even', 111],\n",
       " ['realli', 'feel', 173],\n",
       " ['realli', 'get', 275],\n",
       " ['realli', 'go', 142],\n",
       " ['realli', 'good', 145],\n",
       " ['realli', 'im', 230],\n",
       " ['realli', 'know', 199],\n",
       " ['realli', 'love', 136],\n",
       " ['realli', 'make', 165],\n",
       " ['realli', 'much', 119],\n",
       " ['realli', 'need', 131],\n",
       " ['realli', 'never', 101],\n",
       " ['realli', 'peopl', 277],\n",
       " ['right', 'get', 178],\n",
       " ['right', 'go', 117],\n",
       " ['right', 'im', 138],\n",
       " ['right', 'know', 153],\n",
       " ['right', 'make', 102],\n",
       " ['right', 'peopl', 182],\n",
       " ['said', 'amp', 103],\n",
       " ['said', 'get', 138],\n",
       " ['said', 'peopl', 143],\n",
       " ['say', 'amp', 169],\n",
       " ['say', 'dont', 161],\n",
       " ['say', 'even', 136],\n",
       " ['say', 'feel', 134],\n",
       " ['say', 'fuck', 123],\n",
       " ['say', 'get', 179],\n",
       " ['say', 'go', 184],\n",
       " ['say', 'im', 254],\n",
       " ['say', 'know', 183],\n",
       " ['say', 'love', 137],\n",
       " ['say', 'make', 171],\n",
       " ['say', 'much', 106],\n",
       " ['say', 'need', 116],\n",
       " ['say', 'never', 117],\n",
       " ['say', 'peopl', 453],\n",
       " ['say', 'person', 108],\n",
       " ['say', 'realli', 140],\n",
       " ['say', 'said', 106],\n",
       " ['school', 'high', 111],\n",
       " ['see', 'amp', 157],\n",
       " ['see', 'day', 112],\n",
       " ['see', 'dont', 116],\n",
       " ['see', 'even', 107],\n",
       " ['see', 'feel', 119],\n",
       " ['see', 'get', 236],\n",
       " ['see', 'go', 188],\n",
       " ['see', 'im', 153],\n",
       " ['see', 'know', 147],\n",
       " ['see', 'look', 123],\n",
       " ['see', 'love', 146],\n",
       " ['see', 'make', 117],\n",
       " ['see', 'need', 101],\n",
       " ['see', 'peopl', 305],\n",
       " ['see', 'realli', 103],\n",
       " ['see', 'say', 118],\n",
       " ['sens', 'make', 177],\n",
       " ['shit', 'fuck', 178],\n",
       " ['shit', 'get', 158],\n",
       " ['shit', 'holi', 111],\n",
       " ['shit', 'im', 115],\n",
       " ['shit', 'peopl', 153],\n",
       " ['snarl', 'bark', 116],\n",
       " ['social', 'media', 125],\n",
       " ['someon', 'amp', 113],\n",
       " ['someon', 'els', 112],\n",
       " ['someon', 'even', 110],\n",
       " ['someon', 'feel', 136],\n",
       " ['someon', 'get', 166],\n",
       " ['someon', 'go', 110],\n",
       " ['someon', 'im', 115],\n",
       " ['someon', 'know', 198],\n",
       " ['someon', 'make', 156],\n",
       " ['someon', 'need', 119],\n",
       " ['someon', 'never', 120],\n",
       " ['someon', 'peopl', 232],\n",
       " ['someon', 'say', 151],\n",
       " ['someth', 'feel', 133],\n",
       " ['someth', 'get', 157],\n",
       " ['someth', 'im', 101],\n",
       " ['someth', 'know', 122],\n",
       " ['someth', 'make', 131],\n",
       " ['someth', 'need', 103],\n",
       " ['someth', 'peopl', 136],\n",
       " ['someth', 'say', 157],\n",
       " ['soon', 'pronoun', 108],\n",
       " ['sorri', 'im', 353],\n",
       " ['start', 'get', 195],\n",
       " ['start', 'im', 119],\n",
       " ['start', 'peopl', 110],\n",
       " ['still', 'amp', 144],\n",
       " ['still', 'even', 142],\n",
       " ['still', 'feel', 119],\n",
       " ['still', 'get', 206],\n",
       " ['still', 'go', 143],\n",
       " ['still', 'im', 195],\n",
       " ['still', 'know', 145],\n",
       " ['still', 'make', 118],\n",
       " ['still', 'peopl', 200],\n",
       " ['still', 'say', 108],\n",
       " ['stop', 'come', 111],\n",
       " ['stop', 'peopl', 137],\n",
       " ['stop', 'pleas', 140],\n",
       " ['support', 'peopl', 111],\n",
       " ['sure', 'im', 187],\n",
       " ['sure', 'make', 200],\n",
       " ['ta', 'got', 231],\n",
       " ['take', 'amp', 148],\n",
       " ['take', 'care', 172],\n",
       " ['take', 'day', 136],\n",
       " ['take', 'feel', 102],\n",
       " ['take', 'get', 204],\n",
       " ['take', 'go', 143],\n",
       " ['take', 'im', 162],\n",
       " ['take', 'know', 116],\n",
       " ['take', 'make', 105],\n",
       " ['take', 'need', 129],\n",
       " ['take', 'peopl', 189],\n",
       " ['talk', 'im', 122],\n",
       " ['talk', 'know', 103],\n",
       " ['talk', 'peopl', 147],\n",
       " ['tell', 'im', 103],\n",
       " ['tell', 'peopl', 177],\n",
       " ['thank', 'get', 112],\n",
       " ['thank', 'im', 141],\n",
       " ['thank', 'love', 119],\n",
       " ['thank', 'much', 195],\n",
       " ['that', 'im', 150],\n",
       " ['thing', 'also', 113],\n",
       " ['thing', 'amp', 153],\n",
       " ['thing', 'best', 104],\n",
       " ['thing', 'day', 102],\n",
       " ['thing', 'dont', 125],\n",
       " ['thing', 'even', 131],\n",
       " ['thing', 'feel', 157],\n",
       " ['thing', 'get', 297],\n",
       " ['thing', 'go', 210],\n",
       " ['thing', 'good', 157],\n",
       " ['thing', 'im', 225],\n",
       " ['thing', 'know', 200],\n",
       " ['thing', 'life', 114],\n",
       " ['thing', 'love', 122],\n",
       " ['thing', 'make', 208],\n",
       " ['thing', 'much', 106],\n",
       " ['thing', 'need', 138],\n",
       " ['thing', 'never', 111],\n",
       " ['thing', 'peopl', 302],\n",
       " ['thing', 'realli', 142],\n",
       " ['thing', 'say', 183],\n",
       " ['thing', 'see', 126],\n",
       " ['think', 'actual', 106],\n",
       " ['think', 'also', 145],\n",
       " ['think', 'amp', 156],\n",
       " ['think', 'better', 105],\n",
       " ['think', 'day', 110],\n",
       " ['think', 'dont', 290],\n",
       " ['think', 'even', 231],\n",
       " ['think', 'feel', 166],\n",
       " ['think', 'get', 325],\n",
       " ['think', 'go', 252],\n",
       " ['think', 'good', 167],\n",
       " ['think', 'got', 113],\n",
       " ['think', 'help', 113],\n",
       " ['think', 'im', 330],\n",
       " ['think', 'know', 231],\n",
       " ['think', 'like', 102],\n",
       " ['think', 'look', 119],\n",
       " ['think', 'lot', 131],\n",
       " ['think', 'love', 141],\n",
       " ['think', 'make', 271],\n",
       " ['think', 'much', 154],\n",
       " ['think', 'need', 171],\n",
       " ['think', 'never', 135],\n",
       " ['think', 'peopl', 512],\n",
       " ['think', 'person', 140],\n",
       " ['think', 'realli', 228],\n",
       " ['think', 'right', 124],\n",
       " ['think', 'say', 229],\n",
       " ['think', 'see', 140],\n",
       " ['think', 'someon', 120],\n",
       " ['think', 'someth', 126],\n",
       " ['think', 'still', 155],\n",
       " ['think', 'take', 131],\n",
       " ['think', 'thing', 255],\n",
       " ['time', 'also', 102],\n",
       " ['time', 'amp', 289],\n",
       " ['time', 'back', 133],\n",
       " ['time', 'day', 206],\n",
       " ['time', 'dont', 120],\n",
       " ['time', 'even', 142],\n",
       " ['time', 'feel', 163],\n",
       " ['time', 'first', 230],\n",
       " ['time', 'get', 374],\n",
       " ['time', 'go', 233],\n",
       " ['time', 'good', 142],\n",
       " ['time', 'got', 161],\n",
       " ['time', 'help', 117],\n",
       " ['time', 'im', 232],\n",
       " ['time', 'know', 183],\n",
       " ['time', 'last', 106],\n",
       " ['time', 'life', 129],\n",
       " ['time', 'long', 109],\n",
       " ['time', 'look', 105],\n",
       " ['time', 'love', 135],\n",
       " ['time', 'make', 214],\n",
       " ['time', 'mani', 125],\n",
       " ['time', 'much', 132],\n",
       " ['time', 'need', 145],\n",
       " ['time', 'never', 136],\n",
       " ['time', 'peopl', 276],\n",
       " ['time', 'realli', 142],\n",
       " ['time', 'right', 137],\n",
       " ['time', 'said', 106],\n",
       " ['time', 'say', 154],\n",
       " ['time', 'see', 156],\n",
       " ['time', 'shit', 102],\n",
       " ['time', 'someon', 120],\n",
       " ['time', 'still', 122],\n",
       " ['time', 'take', 211],\n",
       " ['time', 'thing', 179],\n",
       " ['time', 'think', 223],\n",
       " ['today', 'day', 154],\n",
       " ['today', 'get', 105],\n",
       " ['today', 'im', 119],\n",
       " ['tran', 'peopl', 127],\n",
       " ['transmasc', 'pronoun', 108],\n",
       " ['tri', 'amp', 191],\n",
       " ['tri', 'dont', 102],\n",
       " ['tri', 'even', 127],\n",
       " ['tri', 'feel', 130],\n",
       " ['tri', 'get', 312],\n",
       " ['tri', 'go', 169],\n",
       " ['tri', 'help', 110],\n",
       " ['tri', 'im', 200],\n",
       " ['tri', 'know', 144],\n",
       " ['tri', 'make', 189],\n",
       " ['tri', 'peopl', 249],\n",
       " ['tri', 'realli', 141],\n",
       " ['tri', 'say', 150],\n",
       " ['tri', 'see', 119],\n",
       " ['tri', 'still', 103],\n",
       " ['tri', 'thing', 139],\n",
       " ['tri', 'think', 141],\n",
       " ['tri', 'time', 147],\n",
       " ['trump', 'presid', 106],\n",
       " ['understand', 'peopl', 164],\n",
       " ['use', 'amp', 160],\n",
       " ['use', 'get', 182],\n",
       " ['use', 'go', 103],\n",
       " ['use', 'im', 102],\n",
       " ['use', 'know', 112],\n",
       " ['use', 'make', 129],\n",
       " ['use', 'peopl', 248],\n",
       " ['use', 'thing', 114],\n",
       " ['use', 'think', 142],\n",
       " ['use', 'time', 111],\n",
       " ['wan', 'na', 317],\n",
       " ['want', 'also', 122],\n",
       " ['want', 'amp', 151],\n",
       " ['want', 'back', 102],\n",
       " ['want', 'dont', 273],\n",
       " ['want', 'even', 150],\n",
       " ['want', 'feel', 168],\n",
       " ['want', 'fuck', 121],\n",
       " ['want', 'get', 301],\n",
       " ['want', 'go', 244],\n",
       " ['want', 'im', 201],\n",
       " ['want', 'know', 239],\n",
       " ['want', 'life', 126],\n",
       " ['want', 'love', 139],\n",
       " ['want', 'make', 252],\n",
       " ['want', 'much', 114],\n",
       " ['want', 'need', 134],\n",
       " ['want', 'peopl', 346],\n",
       " ['want', 'realli', 171],\n",
       " ['want', 'say', 175],\n",
       " ['want', 'see', 175],\n",
       " ['want', 'someon', 130],\n",
       " ['want', 'take', 124],\n",
       " ['want', 'thing', 157],\n",
       " ['want', 'think', 195],\n",
       " ['want', 'time', 164],\n",
       " ['want', 'tri', 112],\n",
       " ['way', 'amp', 121],\n",
       " ['way', 'feel', 165],\n",
       " ['way', 'get', 170],\n",
       " ['way', 'go', 142],\n",
       " ['way', 'im', 154],\n",
       " ['way', 'know', 110],\n",
       " ['way', 'make', 131],\n",
       " ['way', 'peopl', 219],\n",
       " ['way', 'thing', 122],\n",
       " ['way', 'think', 152],\n",
       " ['wear', 'mask', 202],\n",
       " ['week', 'get', 123],\n",
       " ['well', 'amp', 102],\n",
       " ['well', 'get', 152],\n",
       " ['well', 'go', 113],\n",
       " ['well', 'im', 107],\n",
       " ['well', 'know', 127],\n",
       " ['white', 'black', 107],\n",
       " ['white', 'peopl', 155],\n",
       " ['women', 'men', 257],\n",
       " ['women', 'tran', 131],\n",
       " ['work', 'amp', 193],\n",
       " ['work', 'day', 156],\n",
       " ['work', 'feel', 119],\n",
       " ['work', 'get', 303],\n",
       " ['work', 'go', 179],\n",
       " ['work', 'im', 126],\n",
       " ['work', 'know', 150],\n",
       " ['work', 'make', 139],\n",
       " ['work', 'need', 103],\n",
       " ['work', 'peopl', 215],\n",
       " ['work', 'realli', 116],\n",
       " ['work', 'thing', 126],\n",
       " ['work', 'think', 152],\n",
       " ['work', 'time', 146],\n",
       " ['work', 'tri', 121],\n",
       " ['work', 'want', 102],\n",
       " ['year', 'ago', 146],\n",
       " ['year', 'amp', 170],\n",
       " ['year', 'even', 114],\n",
       " ['year', 'get', 204],\n",
       " ['year', 'go', 149],\n",
       " ['year', 'im', 132],\n",
       " ['year', 'know', 113],\n",
       " ['year', 'last', 147],\n",
       " ['year', 'live', 112],\n",
       " ['year', 'make', 121],\n",
       " ['year', 'old', 176],\n",
       " ['year', 'peopl', 143],\n",
       " ['year', 'still', 107],\n",
       " ['year', 'think', 119],\n",
       " ['year', 'time', 170],\n",
       " ['year', 'work', 110],\n",
       " ['your', 'im', 127]]"
      ]
     },
     "execution_count": 34,
     "metadata": {},
     "output_type": "execute_result"
    }
   ],
   "source": [
    "co_occur"
   ]
  },
  {
   "cell_type": "code",
   "execution_count": 35,
   "metadata": {},
   "outputs": [],
   "source": [
    "co_occur_df=pd.DataFrame(co_occur)\n",
    "co_occur_df.to_csv(\"cooccuring_100.csv\",header= False, index = False)"
   ]
  },
  {
   "cell_type": "markdown",
   "metadata": {},
   "source": [
    "# Non-Depressed Users"
   ]
  },
  {
   "cell_type": "code",
   "execution_count": 40,
   "metadata": {},
   "outputs": [],
   "source": [
    "usernames_nd = pd.read_csv('usernames_nondepressed.txt',index_col= False,header=None,sep='\\t',error_bad_lines=False)\n"
   ]
  },
  {
   "cell_type": "code",
   "execution_count": 41,
   "metadata": {},
   "outputs": [],
   "source": [
    "rowcount_nd = len(usernames_nd.axes[0])"
   ]
  },
  {
   "cell_type": "code",
   "execution_count": 42,
   "metadata": {},
   "outputs": [],
   "source": [
    "usernames_nd=usernames_nd.values.tolist()\n"
   ]
  },
  {
   "cell_type": "code",
   "execution_count": 43,
   "metadata": {},
   "outputs": [],
   "source": [
    "dep_tweets_nd = []\n",
    "\n",
    "for i in range (0,rowcount_nd):\n",
    "    try:\n",
    "    \n",
    "        filename=r\"C:\\Users\\Manjusha Pattadkal\\Documents\\ML Project\\non depressed\\2 months\\userdata_\"+usernames_nd[i][0]+\"_2_months.csv\"\n",
    "\n",
    "    \n",
    "    \n",
    "        tweets=pd.read_csv(filename,encoding='mbcs')\n",
    "        tweets.dropna(subset = ['twittername'],inplace=True)\n",
    "\n",
    "        row=len(tweets.axes[0])\n",
    "        \n",
    "        for i in range (0,row):\n",
    "            dep_tweets_nd.append(str(tweets.iloc[i,4]))\n",
    "            \n",
    "\n",
    "    except:\n",
    "        pass"
   ]
  },
  {
   "cell_type": "code",
   "execution_count": 44,
   "metadata": {},
   "outputs": [],
   "source": [
    "clean_nd = preprocess(dep_tweets_nd,tweet_clean_tp)\n",
    "tags_nd = preprocess(clean_nd,pos_tags)\n",
    "nan_value = float(\"NaN\")\n",
    "tags_nd.replace(\"\",nan_value, inplace=True)\n",
    "tags_nd.dropna(inplace=True)\n",
    "tags_nd=tags_nd.reset_index(drop=True)\n",
    "\n",
    "rowc = len(tags_nd)"
   ]
  },
  {
   "cell_type": "code",
   "execution_count": 45,
   "metadata": {},
   "outputs": [],
   "source": [
    "final_text_nd = []\n",
    "for i in range(0,rowc):\n",
    "    final_text_nd.append(str(preprocessing(tags_nd[i])))"
   ]
  },
  {
   "cell_type": "code",
   "execution_count": 46,
   "metadata": {},
   "outputs": [],
   "source": [
    "x = pd.Series(final_text_nd)\n",
    "\n",
    "for i in range(len(final_text_nd)):\n",
    "    tokens=final_text_nd[i].split()\n",
    "    if len(tokens)==1:\n",
    "        x.drop(i,inplace=True)\n",
    "\n",
    "final_text_nd=x.reset_index(drop=True)"
   ]
  },
  {
   "cell_type": "code",
   "execution_count": 47,
   "metadata": {},
   "outputs": [],
   "source": [
    "\n",
    "DF = {}\n",
    "for i in range(len(final_text_nd)):\n",
    "    tokens = final_text_nd[i].split()\n",
    "    for w in tokens:\n",
    "        try:\n",
    "            DF[w].add(i)\n",
    "        except:\n",
    "            DF[w] = {i}"
   ]
  },
  {
   "cell_type": "code",
   "execution_count": 48,
   "metadata": {},
   "outputs": [],
   "source": [
    "def doc_freq(token):\n",
    "    return len(DF[token])"
   ]
  },
  {
   "cell_type": "code",
   "execution_count": 49,
   "metadata": {},
   "outputs": [],
   "source": [
    "token_dict = {}\n",
    "for i in range(len(final_text_nd)):\n",
    "    tokens = final_text_nd[i].split()\n",
    "    #counter = Counter(tokens + final_text[i])\n",
    "    for token in np.unique(tokens):\n",
    "        #tf = counter[token]/words_count\n",
    "        df = doc_freq(token)\n",
    "        token_dict[token] = np.log(len(final_text_nd)/(df+1))"
   ]
  },
  {
   "cell_type": "code",
   "execution_count": 50,
   "metadata": {},
   "outputs": [],
   "source": [
    "list_idf = []\n",
    "for i in token_dict.keys():\n",
    " list_idf.append(token_dict[i])"
   ]
  },
  {
   "cell_type": "code",
   "execution_count": 51,
   "metadata": {},
   "outputs": [],
   "source": [
    "import seaborn as sns"
   ]
  },
  {
   "cell_type": "code",
   "execution_count": 52,
   "metadata": {},
   "outputs": [
    {
     "data": {
      "text/plain": [
       "<matplotlib.axes._subplots.AxesSubplot at 0x297d7906d48>"
      ]
     },
     "execution_count": 52,
     "metadata": {},
     "output_type": "execute_result"
    },
    {
     "data": {
      "image/png": "[encoded data removed]",
      "text/plain": [
       "<Figure size 432x288 with 1 Axes>"
      ]
     },
     "metadata": {
      "needs_background": "light"
     },
     "output_type": "display_data"
    }
   ],
   "source": [
    "sns.distplot(list_idf, kde = True,\n",
    "                 kde_kws = {'linewidth': 3})"
   ]
  },
  {
   "cell_type": "code",
   "execution_count": 53,
   "metadata": {},
   "outputs": [
    {
     "data": {
      "text/plain": [
       "12476"
      ]
     },
     "execution_count": 53,
     "metadata": {},
     "output_type": "execute_result"
    }
   ],
   "source": [
    "token_list = []\n",
    "count=0\n",
    "for i in token_dict.keys():\n",
    "     if token_dict[i]<=9.8:\n",
    "            token_list.append(i)\n",
    "            count+=1\n",
    "count"
   ]
  },
  {
   "cell_type": "code",
   "execution_count": 65,
   "metadata": {},
   "outputs": [],
   "source": [
    "word_list =[]\n",
    "new_tweets = []\n",
    "for w in token_list:\n",
    "    for i in range(0,len(final_text_nd)):\n",
    "        word_list=[]\n",
    "        if w in final_text_nd[i].split():\n",
    "            \n",
    "                word_list.append(final_text_nd[i])\n",
    "        else:\n",
    "            continue\n",
    "            \n",
    "                \n",
    "        if len(word_list) !=0 and word_list not in new_tweets:\n",
    "            new_tweets.append(word_list)\n",
    "        "
   ]
  },
  {
   "cell_type": "code",
   "execution_count": 66,
   "metadata": {},
   "outputs": [],
   "source": [
    "def vectorization(Stringfit,Stringtransform):\n",
    "    count = []\n",
    "    vectorizer = CountVectorizer(min_df=5)\n",
    "    String_df = pd.DataFrame(Stringfit)\n",
    "    Stringtransform_df = pd.DataFrame(Stringtransform)\n",
    "    vectorizer.fit(String_df[0])\n",
    "    countmatrix = vectorizer.transform(Stringtransform_df[0])\n",
    "    count=countmatrix.todense()\n",
    "    return count,vectorizer.get_feature_names()\n",
    "\n",
    "vector_1,a1 = vectorization(new_tweets,new_tweets)"
   ]
  },
  {
   "cell_type": "code",
   "execution_count": 67,
   "metadata": {},
   "outputs": [
    {
     "data": {
      "text/plain": [
       "6103"
      ]
     },
     "execution_count": 67,
     "metadata": {},
     "output_type": "execute_result"
    }
   ],
   "source": [
    "len(a1)"
   ]
  },
  {
   "cell_type": "code",
   "execution_count": 68,
   "metadata": {},
   "outputs": [],
   "source": [
    "vector_transpose = np.transpose(vector_1)"
   ]
  },
  {
   "cell_type": "code",
   "execution_count": 69,
   "metadata": {},
   "outputs": [],
   "source": [
    "import tensorflow as tf"
   ]
  },
  {
   "cell_type": "code",
   "execution_count": 70,
   "metadata": {},
   "outputs": [],
   "source": [
    "vector_tf=tf.convert_to_tensor(vector_1, dtype=None, dtype_hint=None, name=None)\n",
    "vector_t_tf=tf.convert_to_tensor(vector_transpose, dtype=None, dtype_hint=None, name=None)\n",
    "\n",
    "result = tf.matmul(vector_t_tf,vector_tf)"
   ]
  },
  {
   "cell_type": "code",
   "execution_count": 71,
   "metadata": {},
   "outputs": [],
   "source": [
    "result_arr=result.numpy()"
   ]
  },
  {
   "cell_type": "code",
   "execution_count": 79,
   "metadata": {},
   "outputs": [],
   "source": [
    "index_ = []\n",
    "for i in range (len(a1)):\n",
    "     for j in range (0,len(a1)):\n",
    "        if result_arr[i][j] >100 and j<i:\n",
    "            index_.append([result_arr[i][j],i,j])"
   ]
  },
  {
   "cell_type": "code",
   "execution_count": 80,
   "metadata": {},
   "outputs": [],
   "source": [
    "list_freq = []\n",
    "for i in range (len(index_)):\n",
    "    list_freq.append(index_[i][0])"
   ]
  },
  {
   "cell_type": "code",
   "execution_count": 81,
   "metadata": {},
   "outputs": [
    {
     "data": {
      "text/plain": [
       "152"
      ]
     },
     "execution_count": 81,
     "metadata": {},
     "output_type": "execute_result"
    }
   ],
   "source": [
    "len(list_freq)"
   ]
  },
  {
   "cell_type": "code",
   "execution_count": 82,
   "metadata": {},
   "outputs": [
    {
     "name": "stdout",
     "output_type": "stream",
     "text": [
      "[101 102 103 104 105 106 107 108 109 110 111 112 114 115 116 117 118 119\n",
      " 120 121 122 123 124 126 127 128 129 130 131 132 133 134 135 137 138 141\n",
      " 142 143 145 146 147 150 151 152 155 156 160 161 165 166 167 169 175 177\n",
      " 179 183 185 186 188 189 194 197 199 201 202 204 214 231 232 250 256 260\n",
      " 262 263 264 279 323 328 334 341 346 365 372 374 383 392 403 423 495 746]\n"
     ]
    }
   ],
   "source": [
    "x = np.array(list_freq) \n",
    "print(np.unique(x)) "
   ]
  },
  {
   "cell_type": "code",
   "execution_count": 83,
   "metadata": {},
   "outputs": [],
   "source": [
    "co_occur_nd = []\n",
    "for i in range (len(index_)):\n",
    "    a = index_[i][1]\n",
    "    b = index_[i][2]\n",
    "    co_occur_nd.append([a1[a],a1[b],index_[i][0]])"
   ]
  },
  {
   "cell_type": "code",
   "execution_count": 84,
   "metadata": {},
   "outputs": [],
   "source": [
    "co_occur_nd_df=pd.DataFrame(co_occur_nd)\n",
    "co_occur_nd_df.to_csv(\"cooccuring_nd.csv\",header= False, index = False)"
   ]
  },
  {
   "cell_type": "code",
   "execution_count": null,
   "metadata": {},
   "outputs": [],
   "source": []
  }
 ],
 "metadata": {
  "kernelspec": {
   "display_name": "Python 3",
   "language": "python",
   "name": "python3"
  },
  "language_info": {
   "codemirror_mode": {
    "name": "ipython",
    "version": 3
   },
   "file_extension": ".py",
   "mimetype": "text/x-python",
   "name": "python",
   "nbconvert_exporter": "python",
   "pygments_lexer": "ipython3",
   "version": "3.7.6"
  }
 },
 "nbformat": 4,
 "nbformat_minor": 4
}
