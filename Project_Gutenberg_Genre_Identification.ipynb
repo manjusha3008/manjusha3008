{
 "cells": [
  {
   "cell_type": "markdown",
   "metadata": {},
   "source": [
    "## Have the notebook in the same location as masterfile. Import the necessary packages and run"
   ]
  },
  {
   "cell_type": "code",
   "execution_count": 1,
   "metadata": {},
   "outputs": [],
   "source": [
    "import pandas as pd\n",
    "from lxml import html\n",
    "import requests\n",
    "import urllib\n",
    "import os\n",
    "from io import BytesIO\n",
    "import numpy as np\n",
    "import nltk\n",
    "from nltk.corpus import stopwords\n",
    "from nltk.stem import PorterStemmer\n",
    "from gensim.models.doc2vec import Doc2Vec , TaggedDocument\n",
    "# from gensim.test.utils import common_texts\n",
    "from sklearn import utils\n",
    "from configparser import ConfigParser\n",
    "from sklearn.model_selection import train_test_split\n",
    "from sklearn.model_selection import GridSearchCV\n",
    "from sklearn.ensemble import RandomForestClassifier\n",
    "from sklearn.neighbors import KNeighborsClassifier\n",
    "from sklearn.svm import SVC\n",
    "from sklearn import metrics\n",
    "from empath import Empath\n",
    "lexicon = Empath()\n",
    "from sklearn.feature_extraction.text import TfidfVectorizer,CountVectorizer\n",
    "from configparser import ConfigParser\n",
    "from sklearn.preprocessing import MaxAbsScaler\n",
    "import matplotlib.pyplot as plt\n",
    "from sklearn.metrics import plot_confusion_matrix"
   ]
  },
  {
   "cell_type": "code",
   "execution_count": null,
   "metadata": {},
   "outputs": [],
   "source": [
    "cwd = os.getcwd()\n",
    "\n",
    "datapoints = pd.read_csv(r\"master996.csv\",sep=';',engine='python')"
   ]
  },
  {
   "cell_type": "code",
   "execution_count": null,
   "metadata": {},
   "outputs": [],
   "source": [
    "rowcount = len(datapoints.axes[0])\n",
    "data = []\n",
    "dataclass = []\n",
    "for i in range(0, rowcount):\n",
    "    bookid = datapoints.iloc[i, 1]\n",
    "    bookid_split = bookid.split('.')\n",
    "    dataclass.append(datapoints.iloc[i, 2])\n",
    "    path = \"file:///\" + cwd + \"\\Gutenberg_19th_century_English_Fiction/\" + bookid_split[0] + \"-content.html\"\n",
    "    data.append(urllib.request.urlopen(path).read())"
   ]
  },
  {
   "cell_type": "code",
   "execution_count": null,
   "metadata": {},
   "outputs": [],
   "source": []
  },
  {
   "cell_type": "code",
   "execution_count": 2,
   "metadata": {},
   "outputs": [
    {
     "data": {
      "text/plain": [
       "'D:\\\\Workspace\\\\OVGU\\\\ATiML\\\\Project\\\\Gutenberg_English_Fiction_1k'"
      ]
     },
     "execution_count": 2,
     "metadata": {},
     "output_type": "execute_result"
    }
   ],
   "source": [
    "# prop = ConfigParser()\n",
    "\n",
    "# #Reading the configuration file\n",
    "\n",
    "# prop.read(\"D:\\Workspace\\OVGU\\ATiML\\Project\\Gutenberg_English_Fiction_1k\\src\\properties.ini\")    \n",
    "\n",
    "\n",
    "# os.chdir(prop['ProjectDirectory']['filepath'])  ##### TO SET THE WORKING DIRECTORY\n",
    "\n",
    "\n",
    "\n",
    "\n",
    "\n",
    "# os.getcwd()\n"
   ]
  },
  {
   "cell_type": "code",
   "execution_count": 3,
   "metadata": {},
   "outputs": [],
   "source": [
    "# datapoints = pd.read_csv(prop['MetaDataDirectory']['filepath']+prop['MetaDataDirectory']['rawData'],sep=';',engine='python')\n"
   ]
  },
  {
   "cell_type": "code",
   "execution_count": 4,
   "metadata": {},
   "outputs": [],
   "source": [
    "# bookpath = prop['DatafileDirectory']['filepath']\n",
    "# rowcount = len(datapoints.axes[0])\n",
    "# data = []\n",
    "# dataclass = []\n",
    "# for i in range (rowcount):\n",
    "#     bookid = datapoints.iloc[i,1]\n",
    "#     bookid_split = bookid.split('.')\n",
    "#     dataclass.append(datapoints.iloc[i,2])\n",
    "#     path = \"file:///\" +bookpath +bookid_split[0] +\"-content.html\"\n",
    "#     data.append(urllib.request.urlopen(path).read())"
   ]
  },
  {
   "cell_type": "code",
   "execution_count": null,
   "metadata": {},
   "outputs": [],
   "source": []
  },
  {
   "cell_type": "code",
   "execution_count": 5,
   "metadata": {},
   "outputs": [],
   "source": [
    "# read master996\n",
    "# datapoints = pd.read_csv(r\"C:\\Users\\Manjusha Pattadkal\\Documents\\AML\\Gutenberg_English_Fiction_1k\\master996.csv\",sep=';',engine='python')"
   ]
  },
  {
   "cell_type": "code",
   "execution_count": 6,
   "metadata": {},
   "outputs": [],
   "source": [
    "# #get books content and bookid\n",
    "# rowcount = len(datapoints.axes[0])\n",
    "# data = []\n",
    "# dataclass = []\n",
    "# author = []\n",
    "# for i in range (0,rowcount):\n",
    "#     bookid = datapoints.iloc[i,1]\n",
    "#     bookid_split = bookid.split('.')\n",
    "#     dataclass.append(datapoints.iloc[i,2])\n",
    "#     path = r\"file:///C:\\Users\\Manjusha Pattadkal\\Documents\\AML\\Gutenberg_English_Fiction_1k\\Gutenberg_19th_century_English_Fiction/\" +bookid_split[0] +\"-content.html\"\n",
    "#     data.append(urllib.request.urlopen(path).read())\n",
    "#     author.append(datapoints.iloc[i,3])"
   ]
  },
  {
   "cell_type": "code",
   "execution_count": 5,
   "metadata": {},
   "outputs": [],
   "source": [
    "# class numbering\n",
    "tags_index = {'Detective and Mystery': 1 , 'Literary': 2, 'Western Stories': 3, 'Ghost and Horror': 4, 'Christmas Stories': 5, 'Love and Romance': 6, 'Sea and Adventure': 7, 'Allegories': 8, 'Humorous and Wit and Satire': 9}"
   ]
  },
  {
   "cell_type": "code",
   "execution_count": 6,
   "metadata": {},
   "outputs": [],
   "source": [
    "#Preprocess function\n",
    "def preprocessing(String ): #default value is always true for stemming and stopwords\n",
    "    \n",
    "    '''\n",
    "    This function is used for preprocessing\n",
    "    - Tokenization\n",
    "    - Stemming\n",
    "    - Stop Words\n",
    "        \n",
    "    '''\n",
    "    \n",
    "    tokens = nltk.word_tokenize(String)\n",
    "    token = [word for word in tokens if word.isalpha()]\n",
    " #   token = [token.remove(word) for word in token if (word.isalpha())== False]\n",
    "    \n",
    "\n",
    "    \n",
    "    stop_words = set(stopwords.words('english'))\n",
    "    influentialwords = []\n",
    "    stemwords = []\n",
    "    for w in token:\n",
    "        if w not in stop_words: \n",
    "            influentialwords.append(w)\n",
    "    stopwords_string = \" \".join(influentialwords)\n",
    "    return stopwords_string\n",
    "\n",
    "    \n"
   ]
  },
  {
   "cell_type": "code",
   "execution_count": 7,
   "metadata": {},
   "outputs": [],
   "source": [
    "#call preprocessing function\n",
    "data_preprocess = []\n",
    "\n",
    "for i in range (0,rowcount):\n",
    "    data_preprocess.append(preprocessing(str(data[i])))\n",
    "\n",
    "#remove 1 len word\n",
    "\n",
    "for i in range (0,rowcount):\n",
    "    data_preprocess[i]  = ' '.join([w for w in str(data_preprocess[i]).split() if len(w)>1])"
   ]
  },
  {
   "cell_type": "code",
   "execution_count": 8,
   "metadata": {},
   "outputs": [],
   "source": [
    "# remove data with empty content\n",
    "df = pd.DataFrame(data_preprocess)  \n",
    "#class_df = pd.DataFrame(dataclass)\n",
    "df['1'] = dataclass\n",
    "\n",
    "df[0].replace('', np.nan, inplace=True)\n",
    "df.dropna(axis=0,inplace=True)\n",
    "rowcount = len(df.axes[0])\n",
    "data_preprocess = df.iloc[:,0]\n",
    "dataclass = df.iloc[:,1]"
   ]
  },
  {
   "cell_type": "code",
   "execution_count": 9,
   "metadata": {},
   "outputs": [
    {
     "ename": "NameError",
     "evalue": "name 'dataclass_num' is not defined",
     "output_type": "error",
     "traceback": [
      "\u001b[1;31m---------------------------------------------------------------------------\u001b[0m",
      "\u001b[1;31mNameError\u001b[0m                                 Traceback (most recent call last)",
      "\u001b[1;32m<ipython-input-9-4deb06ce1077>\u001b[0m in \u001b[0;36m<module>\u001b[1;34m\u001b[0m\n\u001b[1;32m----> 1\u001b[1;33m \u001b[0mprint\u001b[0m\u001b[1;33m(\u001b[0m\u001b[0mdataclass_num\u001b[0m\u001b[1;33m[\u001b[0m\u001b[1;36m0\u001b[0m\u001b[1;33m]\u001b[0m\u001b[1;33m)\u001b[0m\u001b[1;33m\u001b[0m\u001b[1;33m\u001b[0m\u001b[0m\n\u001b[0m",
      "\u001b[1;31mNameError\u001b[0m: name 'dataclass_num' is not defined"
     ]
    }
   ],
   "source": [
    "print(dataclass_num[0])"
   ]
  },
  {
   "cell_type": "code",
   "execution_count": 10,
   "metadata": {},
   "outputs": [],
   "source": [
    "## Split into train and test\n",
    "dataclass_num = [tags_index.get(item,item)  for item in dataclass]\n",
    "dataclass_num = np.array(dataclass_num)\n",
    "#print(dataclass_num[0])\n",
    "X_train, X_test, y_train, y_test = train_test_split(data_preprocess, dataclass_num, test_size=0.25, shuffle=True, stratify= dataclass_num)\n"
   ]
  },
  {
   "cell_type": "code",
   "execution_count": 11,
   "metadata": {},
   "outputs": [],
   "source": [
    "#length for train n test set\n",
    "train_rowcount = len(X_train)\n",
    "test_rowcount = len(X_test)"
   ]
  },
  {
   "cell_type": "code",
   "execution_count": 12,
   "metadata": {},
   "outputs": [],
   "source": [
    "#convert them to list for empath\n",
    "X_train=X_train.tolist()\n",
    "X_test=X_test.values.tolist()"
   ]
  },
  {
   "cell_type": "code",
   "execution_count": 13,
   "metadata": {},
   "outputs": [],
   "source": [
    "#empath function\n",
    "def empathanalyze(book,count):\n",
    "    a =lexicon.analyze(book[0])\n",
    "    df1 = pd.DataFrame([a[\"hate\"],a[\"cheerfulness\"],a[\"aggression\"],a[\"envy\"],a[\"crime\"],a[\"attractive\"],a[\"masculine\"],a[\"prison\"],a[\"health\"],a[\"pride\"],a[\"dispute\"],a[\"nervousness\"],a[\"suffering\"],a[\"ridicule\"],a[\"computer\"],a[\"optimism\"],a[\"divine\"],a[\"sexual\"],a[\"fear\"],a[\"childish\"],a[\"religion\"],a[\"internet\"],a[\"surprise\"],a[\"worship\"],a[\"medieval\"],a[\"death\"],a[\"healing\"],a[\"politics\"],a[\"celebration\"],a[\"violence\"],a[\"love\"],a[\"ancient\"],a[\"urban\"],a[\"science\"],a[\"youth\"],a[\"fun\"],a[\"white_collar_job\"],a[\"technology\"],a[\"philosophy\"],a[\"monster\"],a[\"negative_emotion\"],a[\"positive_emotion\"],a[\"weapon\"],a[\"feminine\"],a[\"technology\"],a[\"philosophy\"],a[\"monster\"]]).transpose()\n",
    " \n",
    "\n",
    "\n",
    "    for i in range (1,count):\n",
    "        a =lexicon.analyze(book[i])\n",
    "        df = pd.DataFrame([a[\"hate\"],a[\"cheerfulness\"],a[\"aggression\"],a[\"envy\"],a[\"crime\"],a[\"attractive\"],a[\"masculine\"],a[\"prison\"],a[\"health\"],a[\"pride\"],a[\"dispute\"],a[\"nervousness\"],a[\"suffering\"],a[\"ridicule\"],a[\"computer\"],a[\"optimism\"],a[\"divine\"],a[\"sexual\"],a[\"fear\"],a[\"childish\"],a[\"religion\"],a[\"internet\"],a[\"surprise\"],a[\"worship\"],a[\"medieval\"],a[\"death\"],a[\"healing\"],a[\"politics\"],a[\"celebration\"],a[\"violence\"],a[\"love\"],a[\"ancient\"],a[\"urban\"],a[\"science\"],a[\"youth\"],a[\"fun\"],a[\"white_collar_job\"],a[\"technology\"],a[\"philosophy\"],a[\"monster\"],a[\"negative_emotion\"],a[\"positive_emotion\"],a[\"weapon\"],a[\"feminine\"],a[\"technology\"],a[\"philosophy\"],a[\"monster\"]]).transpose()\n",
    "        df1=df1.append(df,ignore_index=True)\n",
    "        \n",
    "    return df1\n",
    "    \n",
    "    \n",
    "    \n",
    "\n",
    "  "
   ]
  },
  {
   "cell_type": "code",
   "execution_count": 14,
   "metadata": {},
   "outputs": [],
   "source": [
    "df1 = empathanalyze(X_train,train_rowcount)\n",
    "df2 = empathanalyze(X_test,test_rowcount)"
   ]
  },
  {
   "cell_type": "code",
   "execution_count": 15,
   "metadata": {},
   "outputs": [],
   "source": [
    "vectorizer = TfidfVectorizer()\n",
    "vectors = vectorizer.fit_transform(X_train)\n"
   ]
  },
  {
   "cell_type": "code",
   "execution_count": 16,
   "metadata": {},
   "outputs": [],
   "source": [
    "feature_names = np.array(vectorizer.get_feature_names())"
   ]
  },
  {
   "cell_type": "code",
   "execution_count": 17,
   "metadata": {},
   "outputs": [
    {
     "name": "stdout",
     "output_type": "stream",
     "text": [
      "130136\n"
     ]
    }
   ],
   "source": [
    "print (len(feature_names))"
   ]
  },
  {
   "cell_type": "code",
   "execution_count": 18,
   "metadata": {},
   "outputs": [],
   "source": [
    "def get_top_tf_idf_words(response, top_n=1000):\n",
    "    sorted_nzs = np.argsort(response.data)[:-(top_n+1):-1]\n",
    "    return feature_names[response.indices[sorted_nzs]]"
   ]
  },
  {
   "cell_type": "code",
   "execution_count": 19,
   "metadata": {},
   "outputs": [],
   "source": [
    "#get each class in one list\n",
    "def oneclass(count,bookclass,data,dataclass):\n",
    "    together = []\n",
    "    for i in range(0,count):\n",
    "        if dataclass[i]==bookclass:\n",
    "            together.append(data[i])\n",
    "    return together"
   ]
  },
  {
   "cell_type": "code",
   "execution_count": 20,
   "metadata": {},
   "outputs": [],
   "source": [
    "#combine data with same classes\n",
    "dect = oneclass(train_rowcount,1,X_train,y_train)\n",
    "lit = oneclass(train_rowcount,2,X_train,y_train)\n",
    "WS = oneclass(train_rowcount,3,X_train,y_train)\n",
    "GH = oneclass(train_rowcount,4,X_train,y_train)\n",
    "ChristSto = oneclass(train_rowcount,5,X_train,y_train)\n",
    "Lovero = oneclass(train_rowcount,6,X_train,y_train)\n",
    "SeaA = oneclass(train_rowcount,7,X_train,y_train)\n",
    "Alleg = oneclass(train_rowcount,8,X_train,y_train)\n",
    "humor = oneclass(train_rowcount,9,X_train,y_train)"
   ]
  },
  {
   "cell_type": "code",
   "execution_count": 21,
   "metadata": {},
   "outputs": [
    {
     "name": "stdout",
     "output_type": "stream",
     "text": [
      "594\n"
     ]
    }
   ],
   "source": [
    "print (len(lit))"
   ]
  },
  {
   "cell_type": "code",
   "execution_count": 22,
   "metadata": {},
   "outputs": [],
   "source": [
    "# # outdated\n",
    "# def gettop(classlist):\n",
    "#     words=[]\n",
    "#     vect = vectorizer.transform(classlist)\n",
    "#     words.append([get_top_tf_idf_words(response,1000) for response in vect])\n",
    "#     return words"
   ]
  },
  {
   "cell_type": "code",
   "execution_count": 23,
   "metadata": {},
   "outputs": [],
   "source": [
    "def gettop(classlist):\n",
    "    words=[]\n",
    "    vect = vectorizer.transform(classlist)\n",
    "    words.append([get_top_tf_idf_words(vect,1000)])\n",
    "    return words"
   ]
  },
  {
   "cell_type": "code",
   "execution_count": 24,
   "metadata": {},
   "outputs": [],
   "source": [
    "#top 1000 words for all classes\n",
    "detmys_wrd = gettop(dect)\n",
    "lit_wrd = gettop(lit)\n",
    "ws_wrd = gettop(WS)\n",
    "gh_wrd = gettop(GH)\n",
    "cs_wrd = gettop(ChristSto)\n",
    "lr_wrd = gettop(Lovero)\n",
    "sa_wrd = gettop(SeaA)\n",
    "al_wrd = gettop(Alleg)\n",
    "hws_wrd = gettop(humor)"
   ]
  },
  {
   "cell_type": "code",
   "execution_count": 25,
   "metadata": {},
   "outputs": [
    {
     "ename": "NameError",
     "evalue": "name 'detmys_wrds' is not defined",
     "output_type": "error",
     "traceback": [
      "\u001b[1;31m---------------------------------------------------------------------------\u001b[0m",
      "\u001b[1;31mNameError\u001b[0m                                 Traceback (most recent call last)",
      "\u001b[1;32m<ipython-input-25-a14ba9735b3c>\u001b[0m in \u001b[0;36m<module>\u001b[1;34m\u001b[0m\n\u001b[1;32m----> 1\u001b[1;33m \u001b[0mprint\u001b[0m\u001b[1;33m(\u001b[0m\u001b[0mlen\u001b[0m\u001b[1;33m(\u001b[0m\u001b[0mdetmys_wrds\u001b[0m\u001b[1;33m)\u001b[0m\u001b[1;33m)\u001b[0m\u001b[1;33m\u001b[0m\u001b[1;33m\u001b[0m\u001b[0m\n\u001b[0m",
      "\u001b[1;31mNameError\u001b[0m: name 'detmys_wrds' is not defined"
     ]
    }
   ],
   "source": [
    "print(len(detmys_wrds))"
   ]
  },
  {
   "cell_type": "code",
   "execution_count": 26,
   "metadata": {},
   "outputs": [],
   "source": [
    "detmys_wrds = []\n",
    "lit_wrds = []\n",
    "ws_wrds = []\n",
    "gh_wrds = []\n",
    "cs_wrds = []\n",
    "lr_wrds = []\n",
    "sa_wrds = []\n",
    "al_wrds = []\n",
    "hws_wrds = []"
   ]
  },
  {
   "cell_type": "code",
   "execution_count": 27,
   "metadata": {},
   "outputs": [],
   "source": [
    "for i in range(len(detmys_wrd)):\n",
    "    for j in range(len(detmys_wrd[i])):\n",
    "        for k in range(len(detmys_wrd[i][j])):\n",
    "            detmys_wrds.append(detmys_wrd[i][j][k])\n",
    "\n",
    "for i in range(len(lit_wrd)):\n",
    "    for j in range(len(lit_wrd[i])):\n",
    "        for k in range(len(lit_wrd[i][j])):\n",
    "            lit_wrds.append(lit_wrd[i][j][k])\n",
    "for i in range(len(ws_wrd)):\n",
    "    for j in range(len(ws_wrd[i])):\n",
    "        for k in range(len(ws_wrd[i][j])):\n",
    "            ws_wrds.append(ws_wrd[i][j][k])\n",
    "for i in range(len(gh_wrd)):\n",
    "    for j in range(len(gh_wrd[i])):\n",
    "        for k in range(len(gh_wrd[i][j])):\n",
    "            gh_wrds.append(gh_wrd[i][j][k])\n",
    "for i in range(len(cs_wrd)):\n",
    "    for j in range(len(cs_wrd[i])):\n",
    "        for k in range(len(cs_wrd[i][j])):\n",
    "                cs_wrds.append(cs_wrd[i][j][k])\n",
    "for i in range(len(lr_wrd)):\n",
    "    for j in range(len(lr_wrd[i])):\n",
    "        for k in range(len(lr_wrd[i][j])):\n",
    "            lr_wrds.append(lr_wrd[i][j][k])\n",
    "\n",
    "for i in range(len(sa_wrd)):\n",
    "    for j in range(len(sa_wrd[i])):\n",
    "        for k in range(len(sa_wrd[i][j])):\n",
    "            sa_wrds.append(sa_wrd[i][j][k])\n",
    "\n",
    "for i in range(len(al_wrd)):\n",
    "    for j in range(len(al_wrd[i])):\n",
    "        for k in range(len(al_wrd[i][j])):\n",
    "            al_wrds.append(al_wrd[i][j][k])\n",
    "\n",
    "for i in range(len(hws_wrd)):\n",
    "    for j in range(len(hws_wrd[i])):\n",
    "        for k in range(len(hws_wrd[i][j])):\n",
    "            hws_wrds.append(hws_wrd[i][j][k])"
   ]
  },
  {
   "cell_type": "code",
   "execution_count": 28,
   "metadata": {},
   "outputs": [],
   "source": [
    "tag_data =  [TaggedDocument(d.split(), [i]) for i, d in enumerate(X_train)]\n",
    "\n",
    "glb_lst = []\n",
    "for i in range(len(tag_data)):\n",
    "    lcl_lst = []\n",
    "    lcl_lst.clear()\n",
    "    lcl_lst.append(round(len(set(tag_data[i][0])& set(detmys_wrds))/len(detmys_wrds),6))\n",
    "    lcl_lst.append(round(len(set(tag_data[i][0])& set(lit_wrds))/len(lit_wrds),6))\n",
    "    lcl_lst.append(round(len(set(tag_data[i][0]) & set(ws_wrds)) / len(ws_wrds),6))\n",
    "    lcl_lst.append(round(len(set(tag_data[i][0]) & set(gh_wrds)) / len(gh_wrds),6))\n",
    "    lcl_lst.append(round(len(set(tag_data[i][0]) & set(cs_wrds)) / len(cs_wrds),6))\n",
    "    lcl_lst.append(round(len(set(tag_data[i][0]) & set(lr_wrds)) / len(lr_wrds),6))\n",
    "    lcl_lst.append(round(len(set(tag_data[i][0]) & set(sa_wrds)) / len(sa_wrds),6))\n",
    "    lcl_lst.append(round(len(set(tag_data[i][0]) & set(al_wrds)) / len(al_wrds),6))\n",
    "    lcl_lst.append(round(len(set(tag_data[i][0]) & set(hws_wrds)) / len(hws_wrds),6))\n",
    "    glb_lst.append(lcl_lst)"
   ]
  },
  {
   "cell_type": "code",
   "execution_count": 29,
   "metadata": {},
   "outputs": [],
   "source": [
    "tag_data =  [TaggedDocument(d.split(), [i]) for i, d in enumerate(X_test)]\n",
    "\n",
    "glb_lst_test = []\n",
    "for i in range(len(tag_data)):\n",
    "    lcl_lst = []\n",
    "    lcl_lst.clear()\n",
    "    lcl_lst.append(round(len(set(tag_data[i][0])& set(detmys_wrds))/len(detmys_wrds),6))\n",
    "    lcl_lst.append(round(len(set(tag_data[i][0])& set(lit_wrds))/len(lit_wrds),6))\n",
    "    lcl_lst.append(round(len(set(tag_data[i][0]) & set(ws_wrds)) / len(ws_wrds),6))\n",
    "    lcl_lst.append(round(len(set(tag_data[i][0]) & set(gh_wrds)) / len(gh_wrds),6))\n",
    "    lcl_lst.append(round(len(set(tag_data[i][0]) & set(cs_wrds)) / len(cs_wrds),6))\n",
    "    lcl_lst.append(round(len(set(tag_data[i][0]) & set(lr_wrds)) / len(lr_wrds),6))\n",
    "    lcl_lst.append(round(len(set(tag_data[i][0]) & set(sa_wrds)) / len(sa_wrds),6))\n",
    "    lcl_lst.append(round(len(set(tag_data[i][0]) & set(al_wrds)) / len(al_wrds),6))\n",
    "    lcl_lst.append(round(len(set(tag_data[i][0]) & set(hws_wrds)) / len(hws_wrds),6))\n",
    "    glb_lst_test.append(lcl_lst)"
   ]
  },
  {
   "cell_type": "code",
   "execution_count": 30,
   "metadata": {},
   "outputs": [
    {
     "ename": "NameError",
     "evalue": "name 'l_col' is not defined",
     "output_type": "error",
     "traceback": [
      "\u001b[1;31m---------------------------------------------------------------------------\u001b[0m",
      "\u001b[1;31mNameError\u001b[0m                                 Traceback (most recent call last)",
      "\u001b[1;32m<ipython-input-30-87bb0c3d47b0>\u001b[0m in \u001b[0;36m<module>\u001b[1;34m\u001b[0m\n\u001b[1;32m----> 1\u001b[1;33m \u001b[0mprint\u001b[0m\u001b[1;33m(\u001b[0m\u001b[0mlen\u001b[0m\u001b[1;33m(\u001b[0m\u001b[0ml_col\u001b[0m\u001b[1;33m)\u001b[0m\u001b[1;33m)\u001b[0m\u001b[1;33m\u001b[0m\u001b[1;33m\u001b[0m\u001b[0m\n\u001b[0m",
      "\u001b[1;31mNameError\u001b[0m: name 'l_col' is not defined"
     ]
    }
   ],
   "source": [
    "print(len(l_col))"
   ]
  },
  {
   "cell_type": "code",
   "execution_count": 31,
   "metadata": {},
   "outputs": [],
   "source": [
    "l_col = []\n",
    "for i in range (0,9):\n",
    "    l_col = []\n",
    "    for j in range (0,train_rowcount):\n",
    "        l_col.append(glb_lst[j][i])\n",
    "    df1[str(48+i)] = l_col"
   ]
  },
  {
   "cell_type": "code",
   "execution_count": 32,
   "metadata": {},
   "outputs": [
    {
     "name": "stdout",
     "output_type": "stream",
     "text": [
      "745\n"
     ]
    }
   ],
   "source": [
    "l_col=[]\n",
    "for j in range (0,train_rowcount):\n",
    "        l_col.append(glb_lst[j][0])\n",
    "print(len(l_col))"
   ]
  },
  {
   "cell_type": "code",
   "execution_count": 33,
   "metadata": {},
   "outputs": [],
   "source": [
    "l_col = []\n",
    "for i in range (0,9):\n",
    "    l_col = []\n",
    "    for j in range (0,test_rowcount):\n",
    "        l_col.append( glb_lst_test[j][i])\n",
    "    df2[str(48+i)] = l_col"
   ]
  },
  {
   "cell_type": "code",
   "execution_count": 34,
   "metadata": {},
   "outputs": [
    {
     "name": "stdout",
     "output_type": "stream",
     "text": [
      "         0      1      2      3      4      5      6      7      8      9  \\\n",
      "0     94.0  117.0   61.0   24.0   36.0  123.0   73.0   21.0   29.0   88.0   \n",
      "1    334.0  224.0  325.0   87.0  124.0  208.0  647.0  105.0   64.0  207.0   \n",
      "2    202.0  305.0  108.0   64.0   47.0  332.0  206.0   42.0  112.0  129.0   \n",
      "3    306.0  266.0  305.0  116.0  239.0  327.0  389.0  187.0  226.0  184.0   \n",
      "4     13.0   11.0   13.0    1.0    3.0   21.0   17.0    3.0    7.0    3.0   \n",
      "5     39.0   31.0   40.0    8.0    7.0   37.0   60.0   18.0   52.0   17.0   \n",
      "6    239.0  308.0  191.0   74.0   78.0  482.0  634.0   99.0   82.0  177.0   \n",
      "7    371.0  363.0  280.0  119.0  260.0  222.0  465.0  205.0  198.0  348.0   \n",
      "8    595.0  231.0  366.0  177.0   67.0  395.0  176.0   26.0   23.0  119.0   \n",
      "9    302.0  389.0  173.0   86.0  109.0  251.0  161.0  133.0  124.0  230.0   \n",
      "10   100.0  146.0   78.0   37.0   22.0   92.0  152.0   29.0   69.0   64.0   \n",
      "11    53.0   37.0   55.0   29.0   34.0   27.0   65.0   41.0   14.0   15.0   \n",
      "12   597.0  403.0  469.0  160.0  242.0  360.0  347.0  126.0  248.0  256.0   \n",
      "13   358.0  315.0  241.0  122.0  226.0  301.0  478.0  192.0   96.0  305.0   \n",
      "14   485.0  210.0  328.0  112.0  215.0  268.0  570.0  168.0  346.0  137.0   \n",
      "15   130.0  123.0  137.0   57.0  129.0   74.0  104.0  157.0   31.0  108.0   \n",
      "16    87.0   95.0   72.0   20.0  172.0  116.0  225.0   95.0  105.0   53.0   \n",
      "17   225.0  266.0  215.0   84.0  327.0  219.0  220.0  242.0  208.0  187.0   \n",
      "18   254.0  152.0  123.0   89.0   69.0  170.0  170.0   34.0   69.0  122.0   \n",
      "19    87.0   49.0   46.0   24.0   26.0   64.0  142.0   18.0   12.0   45.0   \n",
      "20   185.0  322.0  126.0   78.0   90.0  111.0  231.0  102.0   81.0  188.0   \n",
      "21   198.0  183.0  128.0   75.0   57.0  184.0  261.0   63.0   95.0  169.0   \n",
      "22   172.0  152.0  189.0   34.0  112.0   62.0  203.0  128.0   36.0  125.0   \n",
      "23   108.0   98.0   48.0   39.0   25.0  128.0  122.0   18.0   49.0   47.0   \n",
      "24   553.0  368.0  392.0  175.0  157.0  381.0  339.0  187.0  131.0  235.0   \n",
      "25   163.0   99.0  240.0   66.0  229.0  103.0  512.0  256.0   60.0  114.0   \n",
      "26   185.0  110.0  172.0   27.0  387.0  189.0  364.0  123.0   74.0   73.0   \n",
      "27    72.0   46.0   76.0   18.0   40.0   43.0  172.0   26.0   16.0   43.0   \n",
      "28    29.0   15.0   19.0   10.0   94.0   19.0   57.0   93.0   12.0   16.0   \n",
      "29   113.0  128.0   89.0   39.0   39.0  116.0  102.0   23.0   47.0   80.0   \n",
      "..     ...    ...    ...    ...    ...    ...    ...    ...    ...    ...   \n",
      "219   84.0   45.0   52.0   20.0   59.0   39.0   59.0   33.0   46.0   19.0   \n",
      "220  261.0  240.0  190.0   82.0   96.0  245.0  235.0  133.0  314.0  128.0   \n",
      "221  235.0  206.0  194.0   72.0   73.0  185.0  293.0   65.0   53.0   98.0   \n",
      "222  106.0  125.0   85.0   25.0  168.0   78.0  227.0   98.0  178.0   73.0   \n",
      "223  136.0  125.0  146.0   30.0  323.0  216.0  147.0  110.0   60.0   95.0   \n",
      "224  281.0  216.0  217.0   64.0  137.0  132.0  300.0  108.0   40.0  199.0   \n",
      "225  236.0  208.0  151.0   77.0  100.0  226.0  232.0   77.0   74.0  116.0   \n",
      "226  320.0  368.0  200.0  128.0  171.0  344.0  602.0  166.0  226.0  191.0   \n",
      "227  325.0  151.0  159.0   79.0  106.0  343.0  261.0  111.0   76.0   95.0   \n",
      "228  122.0   90.0   86.0   30.0   66.0   52.0  176.0   54.0   49.0   47.0   \n",
      "229  306.0  359.0  151.0   91.0   72.0  274.0  286.0   76.0  125.0  214.0   \n",
      "230  173.0  201.0  168.0   74.0  185.0   65.0  215.0  117.0   55.0  141.0   \n",
      "231  157.0  206.0  105.0   79.0   55.0  171.0  143.0   50.0   56.0  168.0   \n",
      "232  136.0   66.0  109.0   39.0   65.0   90.0  115.0   21.0   20.0   31.0   \n",
      "233  264.0  203.0  311.0   83.0  192.0  123.0  364.0  184.0   71.0  206.0   \n",
      "234  446.0  337.0  329.0  130.0  148.0  385.0  363.0  146.0  181.0  280.0   \n",
      "235   63.0   61.0   53.0   27.0   37.0   48.0   98.0   17.0   26.0   35.0   \n",
      "236  193.0  204.0  201.0   69.0  186.0  128.0  432.0   82.0  139.0  181.0   \n",
      "237   87.0  144.0  120.0   47.0  124.0  103.0  289.0   79.0   70.0   96.0   \n",
      "238   12.0   18.0    7.0    2.0   26.0   38.0   28.0   20.0    9.0   15.0   \n",
      "239  251.0  184.0  317.0  141.0  262.0  155.0  236.0  190.0   81.0  259.0   \n",
      "240  199.0  117.0  144.0   99.0   59.0  170.0  176.0   37.0   47.0  103.0   \n",
      "241  207.0  212.0  143.0   51.0   58.0  288.0  239.0   52.0  146.0  101.0   \n",
      "242  112.0  165.0  103.0   33.0   36.0  125.0   57.0   41.0   47.0   85.0   \n",
      "243   14.0    2.0   10.0    8.0    5.0    4.0    7.0    2.0    0.0    2.0   \n",
      "244  101.0   66.0  112.0   35.0   45.0   82.0  121.0   34.0   25.0   53.0   \n",
      "245   40.0   30.0   57.0    7.0  159.0   23.0  144.0  101.0    9.0   22.0   \n",
      "246  153.0   59.0   77.0   37.0   43.0   81.0   88.0   19.0   45.0   51.0   \n",
      "247  104.0   94.0   98.0   28.0   56.0   58.0  130.0   32.0   24.0   83.0   \n",
      "248  104.0   78.0   84.0   42.0   54.0   90.0  196.0   39.0   45.0   84.0   \n",
      "\n",
      "     ...     46     48     49     50     51     52     53     54     55     56  \n",
      "0    ...   26.0  0.036  0.003  0.116  0.359  0.324  0.151  0.100  0.495  0.228  \n",
      "1    ...  121.0  0.056  0.009  0.140  0.429  0.393  0.174  0.143  0.585  0.287  \n",
      "2    ...   20.0  0.048  0.009  0.131  0.405  0.378  0.159  0.111  0.555  0.267  \n",
      "3    ...  107.0  0.054  0.007  0.142  0.423  0.376  0.172  0.120  0.577  0.272  \n",
      "4    ...    3.0  0.032  0.001  0.097  0.285  0.232  0.126  0.087  0.305  0.180  \n",
      "5    ...   23.0  0.033  0.004  0.112  0.356  0.313  0.138  0.094  0.449  0.223  \n",
      "6    ...   53.0  0.056  0.013  0.141  0.430  0.399  0.176  0.130  0.609  0.274  \n",
      "7    ...  131.0  0.057  0.017  0.165  0.449  0.395  0.178  0.147  0.628  0.283  \n",
      "8    ...   67.0  0.046  0.008  0.136  0.400  0.365  0.167  0.114  0.528  0.265  \n",
      "9    ...   47.0  0.050  0.008  0.142  0.416  0.388  0.173  0.133  0.610  0.281  \n",
      "10   ...   12.0  0.043  0.005  0.121  0.373  0.357  0.158  0.104  0.504  0.265  \n",
      "11   ...   14.0  0.038  0.004  0.118  0.360  0.325  0.151  0.097  0.449  0.246  \n",
      "12   ...  195.0  0.054  0.007  0.145  0.447  0.393  0.180  0.123  0.631  0.275  \n",
      "13   ...  126.0  0.056  0.010  0.154  0.455  0.407  0.174  0.138  0.662  0.276  \n",
      "14   ...   86.0  0.054  0.009  0.147  0.424  0.377  0.163  0.127  0.570  0.272  \n",
      "15   ...   25.0  0.052  0.007  0.133  0.393  0.334  0.152  0.120  0.508  0.247  \n",
      "16   ...   41.0  0.053  0.006  0.133  0.422  0.358  0.160  0.126  0.524  0.267  \n",
      "17   ...   99.0  0.055  0.008  0.153  0.425  0.388  0.171  0.138  0.611  0.278  \n",
      "18   ...   46.0  0.044  0.005  0.137  0.429  0.364  0.170  0.111  0.556  0.255  \n",
      "19   ...   12.0  0.041  0.002  0.128  0.359  0.325  0.146  0.116  0.459  0.251  \n",
      "20   ...   59.0  0.048  0.008  0.150  0.423  0.381  0.167  0.126  0.620  0.263  \n",
      "21   ...   28.0  0.053  0.003  0.128  0.383  0.360  0.157  0.109  0.517  0.264  \n",
      "22   ...   54.0  0.047  0.012  0.162  0.380  0.321  0.145  0.109  0.502  0.251  \n",
      "23   ...   18.0  0.042  0.005  0.124  0.385  0.336  0.153  0.099  0.458  0.258  \n",
      "24   ...  206.0  0.051  0.010  0.152  0.427  0.387  0.176  0.138  0.613  0.293  \n",
      "25   ...  162.0  0.045  0.004  0.140  0.402  0.356  0.154  0.110  0.535  0.258  \n",
      "26   ...   55.0  0.054  0.008  0.131  0.407  0.374  0.168  0.115  0.526  0.282  \n",
      "27   ...   28.0  0.038  0.003  0.124  0.357  0.316  0.152  0.100  0.443  0.251  \n",
      "28   ...    8.0  0.041  0.001  0.109  0.312  0.266  0.130  0.091  0.350  0.233  \n",
      "29   ...   38.0  0.047  0.002  0.131  0.395  0.361  0.163  0.102  0.518  0.254  \n",
      "..   ...    ...    ...    ...    ...    ...    ...    ...    ...    ...    ...  \n",
      "219  ...   11.0  0.041  0.005  0.115  0.335  0.324  0.148  0.093  0.417  0.244  \n",
      "220  ...   68.0  0.051  0.009  0.142  0.423  0.383  0.166  0.136  0.586  0.273  \n",
      "221  ...   79.0  0.051  0.006  0.137  0.414  0.348  0.163  0.123  0.546  0.269  \n",
      "222  ...   55.0  0.049  0.007  0.139  0.386  0.345  0.155  0.142  0.548  0.278  \n",
      "223  ...   44.0  0.051  0.007  0.131  0.409  0.349  0.165  0.112  0.508  0.263  \n",
      "224  ...   84.0  0.055  0.006  0.145  0.415  0.368  0.171  0.136  0.576  0.272  \n",
      "225  ...   70.0  0.062  0.008  0.152  0.437  0.382  0.182  0.140  0.586  0.273  \n",
      "226  ...  149.0  0.062  0.010  0.146  0.449  0.404  0.186  0.128  0.616  0.280  \n",
      "227  ...   53.0  0.045  0.008  0.133  0.379  0.370  0.165  0.118  0.543  0.266  \n",
      "228  ...   63.0  0.045  0.003  0.137  0.409  0.361  0.165  0.111  0.541  0.260  \n",
      "229  ...   43.0  0.057  0.010  0.134  0.430  0.383  0.166  0.125  0.585  0.271  \n",
      "230  ...   76.0  0.046  0.004  0.137  0.385  0.338  0.151  0.107  0.519  0.266  \n",
      "231  ...   28.0  0.042  0.005  0.126  0.414  0.350  0.162  0.107  0.536  0.257  \n",
      "232  ...   23.0  0.049  0.005  0.124  0.370  0.328  0.149  0.107  0.463  0.261  \n",
      "233  ...  129.0  0.049  0.007  0.176  0.411  0.361  0.162  0.127  0.575  0.266  \n",
      "234  ...  116.0  0.058  0.017  0.155  0.444  0.407  0.182  0.141  0.627  0.293  \n",
      "235  ...   19.0  0.041  0.005  0.120  0.378  0.330  0.150  0.098  0.489  0.243  \n",
      "236  ...   40.0  0.049  0.004  0.133  0.417  0.354  0.154  0.110  0.548  0.267  \n",
      "237  ...   38.0  0.051  0.004  0.145  0.412  0.348  0.158  0.135  0.540  0.262  \n",
      "238  ...    9.0  0.033  0.004  0.104  0.307  0.294  0.134  0.102  0.395  0.204  \n",
      "239  ...   90.0  0.056  0.010  0.153  0.442  0.384  0.172  0.143  0.596  0.274  \n",
      "240  ...   39.0  0.046  0.006  0.123  0.403  0.346  0.157  0.117  0.530  0.249  \n",
      "241  ...   64.0  0.061  0.012  0.153  0.434  0.390  0.178  0.142  0.607  0.286  \n",
      "242  ...   18.0  0.037  0.004  0.119  0.365  0.339  0.160  0.108  0.521  0.244  \n",
      "243  ...    1.0  0.028  0.001  0.073  0.175  0.161  0.096  0.066  0.174  0.129  \n",
      "244  ...   33.0  0.043  0.008  0.132  0.376  0.337  0.143  0.146  0.501  0.266  \n",
      "245  ...   26.0  0.048  0.004  0.121  0.339  0.301  0.138  0.103  0.408  0.257  \n",
      "246  ...   17.0  0.044  0.006  0.122  0.370  0.346  0.158  0.101  0.471  0.265  \n",
      "247  ...   11.0  0.047  0.004  0.139  0.407  0.337  0.158  0.120  0.501  0.255  \n",
      "248  ...   38.0  0.050  0.004  0.136  0.393  0.363  0.165  0.124  0.548  0.268  \n",
      "\n",
      "[249 rows x 56 columns]\n"
     ]
    }
   ],
   "source": [
    "print(df2)"
   ]
  },
  {
   "cell_type": "markdown",
   "metadata": {},
   "source": [
    "##  Binary Classification"
   ]
  },
  {
   "cell_type": "code",
   "execution_count": 35,
   "metadata": {},
   "outputs": [],
   "source": [
    "y_train_1 = []\n",
    "for i in range (0,train_rowcount):\n",
    "    if y_train[i]!=2:\n",
    "        y_train_1.append(1)\n",
    "    else:\n",
    "        y_train_1.append(2)"
   ]
  },
  {
   "cell_type": "code",
   "execution_count": 36,
   "metadata": {},
   "outputs": [],
   "source": [
    "y_test_1 = []\n",
    "for i in range (0,test_rowcount):\n",
    "    if y_test[i]!=2:\n",
    "        y_test_1.append(1)\n",
    "    else:\n",
    "        y_test_1.append(2)"
   ]
  },
  {
   "cell_type": "code",
   "execution_count": 37,
   "metadata": {},
   "outputs": [
    {
     "name": "stdout",
     "output_type": "stream",
     "text": [
      "[2, 2, 2, 1, 2, 2, 2, 2, 2, 2, 2, 2, 2, 2, 2, 2, 2, 2, 2, 2, 2, 2, 2, 2, 2, 2, 1, 2, 1, 2, 2, 1, 2, 2, 2, 2, 2, 2, 1, 2, 1, 2, 2, 1, 2, 2, 2, 1, 2, 2, 2, 2, 1, 2, 2, 1, 2, 1, 2, 2, 2, 2, 1, 1, 2, 2, 2, 2, 2, 2, 2, 1, 2, 2, 2, 2, 2, 2, 1, 1, 2, 2, 1, 1, 2, 2, 2, 2, 1, 2, 2, 2, 2, 1, 2, 2, 1, 2, 1, 1, 2, 2, 2, 2, 2, 1, 2, 2, 2, 2, 2, 1, 2, 2, 2, 2, 2, 1, 2, 2, 2, 1, 2, 1, 2, 1, 2, 2, 2, 1, 2, 2, 2, 2, 2, 2, 2, 1, 2, 2, 2, 2, 2, 2, 1, 2, 2, 2, 2, 2, 1, 2, 1, 2, 2, 2, 2, 2, 2, 2, 2, 1, 2, 2, 2, 2, 2, 2, 2, 2, 2, 2, 2, 2, 2, 2, 1, 2, 2, 2, 2, 2, 2, 2, 2, 2, 2, 2, 1, 2, 2, 1, 1, 2, 2, 2, 2, 2, 2, 2, 2, 2, 2, 2, 2, 1, 1, 2, 2, 2, 2, 2, 1, 2, 2, 2, 1, 2, 2, 2, 2, 1, 2, 1, 2, 2, 2, 2, 2, 2, 2, 2, 2, 1, 2, 1, 1, 2, 1, 2, 2, 2, 2, 2, 1, 1, 2, 2, 2]\n"
     ]
    }
   ],
   "source": [
    "print(y_test_1)"
   ]
  },
  {
   "cell_type": "code",
   "execution_count": 38,
   "metadata": {},
   "outputs": [],
   "source": [
    "scaler = MaxAbsScaler()\n",
    "\n",
    "df1 = scaler.fit_transform(df1)\n",
    "df2 = scaler.fit_transform(df2)"
   ]
  },
  {
   "cell_type": "markdown",
   "metadata": {},
   "source": [
    "### Binary SVM"
   ]
  },
  {
   "cell_type": "code",
   "execution_count": 41,
   "metadata": {},
   "outputs": [],
   "source": [
    "\n",
    "################## SVM HYPERPARAMETER\n",
    "\n",
    "\n",
    "def support_vector_machine_hyperparameter_tuning(X_train,y_train):\n",
    "    print(\"SVM for predicting rating\")   \n",
    "\n",
    "    # Set the parameters by cross-validation\n",
    "    tuned_parameters = [{'kernel': ['rbf','sigmoid','poly'],'degree':[5,6,7],'gamma': [0.1,0.01],\n",
    "                         'C': [10,15,20,25,30], 'class_weight':[\"balanced\"],'decision_function_shape':['ovo']}\n",
    "                       ]\n",
    "    \n",
    "    scores = ['accuracy','f1_weighted','recall_weighted']\n",
    "#    scores = ['accuracy']\n",
    "    \n",
    "    for score in scores:\n",
    "        print(\"# Tuning hyper-parameters for %s\" % score)\n",
    "        print()\n",
    "    \n",
    "        clf = GridSearchCV(SVC(), tuned_parameters, cv=5,n_jobs=-1,return_train_score = True,\n",
    "                           scoring='%s' % score)\n",
    "        clf.fit(X_train, y_train)\n",
    "    \n",
    "        print(\"Best parameters set found on development set:\")\n",
    "        print()\n",
    "        print(clf.best_params_)\n",
    "        print()\n",
    "        print(\"Grid scores on development set:\")\n",
    "        print()\n",
    "        means_test = clf.cv_results_['mean_test_score']\n",
    "        stds_test = clf.cv_results_['std_test_score']\n",
    "        means_train = clf.cv_results_['mean_train_score']\n",
    "        stds_train = clf.cv_results_['std_train_score']\n",
    "        for mean_train, std_train,mean_test,std_test, params in zip(means_train,stds_train,means_test, stds_test, clf.cv_results_['params']):\n",
    "            print(\"Train scores %0.3f (+/-%0.03f) Test scores %0.3f (+/-%0.03f) for %r\"\n",
    "                  % (mean_train, std_train * 2, mean_test, std_test * 2, params))\n",
    "        print()\n",
    "        print()\n",
    "        \n",
    "        \n"
   ]
  },
  {
   "cell_type": "code",
   "execution_count": 44,
   "metadata": {},
   "outputs": [
    {
     "name": "stdout",
     "output_type": "stream",
     "text": [
      "SVM for predicting rating\n",
      "# Tuning hyper-parameters for accuracy\n",
      "\n",
      "Best parameters set found on development set:\n",
      "\n",
      "{'C': 10, 'class_weight': 'balanced', 'decision_function_shape': 'ovo', 'degree': 5, 'gamma': 0.1, 'kernel': 'rbf'}\n",
      "\n",
      "Grid scores on development set:\n",
      "\n",
      "Train scores 0.850 (+/-0.011) Test scores 0.812 (+/-0.082) for {'C': 10, 'class_weight': 'balanced', 'decision_function_shape': 'ovo', 'degree': 5, 'gamma': 0.1, 'kernel': 'rbf'}\n",
      "Train scores 0.597 (+/-0.034) Test scores 0.583 (+/-0.045) for {'C': 10, 'class_weight': 'balanced', 'decision_function_shape': 'ovo', 'degree': 5, 'gamma': 0.1, 'kernel': 'sigmoid'}\n",
      "Train scores 0.843 (+/-0.006) Test scores 0.812 (+/-0.082) for {'C': 10, 'class_weight': 'balanced', 'decision_function_shape': 'ovo', 'degree': 5, 'gamma': 0.1, 'kernel': 'poly'}\n",
      "Train scores 0.818 (+/-0.023) Test scores 0.803 (+/-0.112) for {'C': 10, 'class_weight': 'balanced', 'decision_function_shape': 'ovo', 'degree': 5, 'gamma': 0.01, 'kernel': 'rbf'}\n",
      "Train scores 0.799 (+/-0.050) Test scores 0.784 (+/-0.100) for {'C': 10, 'class_weight': 'balanced', 'decision_function_shape': 'ovo', 'degree': 5, 'gamma': 0.01, 'kernel': 'sigmoid'}\n",
      "Train scores 0.678 (+/-0.477) Test scores 0.681 (+/-0.472) for {'C': 10, 'class_weight': 'balanced', 'decision_function_shape': 'ovo', 'degree': 5, 'gamma': 0.01, 'kernel': 'poly'}\n",
      "Train scores 0.850 (+/-0.011) Test scores 0.812 (+/-0.082) for {'C': 10, 'class_weight': 'balanced', 'decision_function_shape': 'ovo', 'degree': 6, 'gamma': 0.1, 'kernel': 'rbf'}\n",
      "Train scores 0.597 (+/-0.034) Test scores 0.583 (+/-0.045) for {'C': 10, 'class_weight': 'balanced', 'decision_function_shape': 'ovo', 'degree': 6, 'gamma': 0.1, 'kernel': 'sigmoid'}\n",
      "Train scores 0.839 (+/-0.015) Test scores 0.803 (+/-0.086) for {'C': 10, 'class_weight': 'balanced', 'decision_function_shape': 'ovo', 'degree': 6, 'gamma': 0.1, 'kernel': 'poly'}\n",
      "Train scores 0.818 (+/-0.023) Test scores 0.803 (+/-0.112) for {'C': 10, 'class_weight': 'balanced', 'decision_function_shape': 'ovo', 'degree': 6, 'gamma': 0.01, 'kernel': 'rbf'}\n",
      "Train scores 0.799 (+/-0.050) Test scores 0.784 (+/-0.100) for {'C': 10, 'class_weight': 'balanced', 'decision_function_shape': 'ovo', 'degree': 6, 'gamma': 0.01, 'kernel': 'sigmoid'}\n",
      "Train scores 0.678 (+/-0.477) Test scores 0.681 (+/-0.472) for {'C': 10, 'class_weight': 'balanced', 'decision_function_shape': 'ovo', 'degree': 6, 'gamma': 0.01, 'kernel': 'poly'}\n",
      "Train scores 0.850 (+/-0.011) Test scores 0.812 (+/-0.082) for {'C': 10, 'class_weight': 'balanced', 'decision_function_shape': 'ovo', 'degree': 7, 'gamma': 0.1, 'kernel': 'rbf'}\n",
      "Train scores 0.597 (+/-0.034) Test scores 0.583 (+/-0.045) for {'C': 10, 'class_weight': 'balanced', 'decision_function_shape': 'ovo', 'degree': 7, 'gamma': 0.1, 'kernel': 'sigmoid'}\n",
      "Train scores 0.824 (+/-0.047) Test scores 0.792 (+/-0.072) for {'C': 10, 'class_weight': 'balanced', 'decision_function_shape': 'ovo', 'degree': 7, 'gamma': 0.1, 'kernel': 'poly'}\n",
      "Train scores 0.818 (+/-0.023) Test scores 0.803 (+/-0.112) for {'C': 10, 'class_weight': 'balanced', 'decision_function_shape': 'ovo', 'degree': 7, 'gamma': 0.01, 'kernel': 'rbf'}\n",
      "Train scores 0.799 (+/-0.050) Test scores 0.784 (+/-0.100) for {'C': 10, 'class_weight': 'balanced', 'decision_function_shape': 'ovo', 'degree': 7, 'gamma': 0.01, 'kernel': 'sigmoid'}\n",
      "Train scores 0.678 (+/-0.477) Test scores 0.681 (+/-0.472) for {'C': 10, 'class_weight': 'balanced', 'decision_function_shape': 'ovo', 'degree': 7, 'gamma': 0.01, 'kernel': 'poly'}\n",
      "Train scores 0.855 (+/-0.014) Test scores 0.803 (+/-0.061) for {'C': 15, 'class_weight': 'balanced', 'decision_function_shape': 'ovo', 'degree': 5, 'gamma': 0.1, 'kernel': 'rbf'}\n",
      "Train scores 0.589 (+/-0.031) Test scores 0.576 (+/-0.062) for {'C': 15, 'class_weight': 'balanced', 'decision_function_shape': 'ovo', 'degree': 5, 'gamma': 0.1, 'kernel': 'sigmoid'}\n",
      "Train scores 0.851 (+/-0.006) Test scores 0.812 (+/-0.073) for {'C': 15, 'class_weight': 'balanced', 'decision_function_shape': 'ovo', 'degree': 5, 'gamma': 0.1, 'kernel': 'poly'}\n",
      "Train scores 0.817 (+/-0.025) Test scores 0.801 (+/-0.121) for {'C': 15, 'class_weight': 'balanced', 'decision_function_shape': 'ovo', 'degree': 5, 'gamma': 0.01, 'kernel': 'rbf'}\n",
      "Train scores 0.816 (+/-0.029) Test scores 0.803 (+/-0.116) for {'C': 15, 'class_weight': 'balanced', 'decision_function_shape': 'ovo', 'degree': 5, 'gamma': 0.01, 'kernel': 'sigmoid'}\n",
      "Train scores 0.797 (+/-0.001) Test scores 0.797 (+/-0.005) for {'C': 15, 'class_weight': 'balanced', 'decision_function_shape': 'ovo', 'degree': 5, 'gamma': 0.01, 'kernel': 'poly'}\n",
      "Train scores 0.855 (+/-0.014) Test scores 0.803 (+/-0.061) for {'C': 15, 'class_weight': 'balanced', 'decision_function_shape': 'ovo', 'degree': 6, 'gamma': 0.1, 'kernel': 'rbf'}\n",
      "Train scores 0.589 (+/-0.031) Test scores 0.576 (+/-0.062) for {'C': 15, 'class_weight': 'balanced', 'decision_function_shape': 'ovo', 'degree': 6, 'gamma': 0.1, 'kernel': 'sigmoid'}\n",
      "Train scores 0.849 (+/-0.013) Test scores 0.807 (+/-0.081) for {'C': 15, 'class_weight': 'balanced', 'decision_function_shape': 'ovo', 'degree': 6, 'gamma': 0.1, 'kernel': 'poly'}\n",
      "Train scores 0.817 (+/-0.025) Test scores 0.801 (+/-0.121) for {'C': 15, 'class_weight': 'balanced', 'decision_function_shape': 'ovo', 'degree': 6, 'gamma': 0.01, 'kernel': 'rbf'}\n",
      "Train scores 0.816 (+/-0.029) Test scores 0.803 (+/-0.116) for {'C': 15, 'class_weight': 'balanced', 'decision_function_shape': 'ovo', 'degree': 6, 'gamma': 0.01, 'kernel': 'sigmoid'}\n",
      "Train scores 0.797 (+/-0.001) Test scores 0.797 (+/-0.005) for {'C': 15, 'class_weight': 'balanced', 'decision_function_shape': 'ovo', 'degree': 6, 'gamma': 0.01, 'kernel': 'poly'}\n",
      "Train scores 0.855 (+/-0.014) Test scores 0.803 (+/-0.061) for {'C': 15, 'class_weight': 'balanced', 'decision_function_shape': 'ovo', 'degree': 7, 'gamma': 0.1, 'kernel': 'rbf'}\n",
      "Train scores 0.589 (+/-0.031) Test scores 0.576 (+/-0.062) for {'C': 15, 'class_weight': 'balanced', 'decision_function_shape': 'ovo', 'degree': 7, 'gamma': 0.1, 'kernel': 'sigmoid'}\n",
      "Train scores 0.848 (+/-0.015) Test scores 0.801 (+/-0.083) for {'C': 15, 'class_weight': 'balanced', 'decision_function_shape': 'ovo', 'degree': 7, 'gamma': 0.1, 'kernel': 'poly'}\n",
      "Train scores 0.817 (+/-0.025) Test scores 0.801 (+/-0.121) for {'C': 15, 'class_weight': 'balanced', 'decision_function_shape': 'ovo', 'degree': 7, 'gamma': 0.01, 'kernel': 'rbf'}\n",
      "Train scores 0.816 (+/-0.029) Test scores 0.803 (+/-0.116) for {'C': 15, 'class_weight': 'balanced', 'decision_function_shape': 'ovo', 'degree': 7, 'gamma': 0.01, 'kernel': 'sigmoid'}\n",
      "Train scores 0.797 (+/-0.001) Test scores 0.797 (+/-0.005) for {'C': 15, 'class_weight': 'balanced', 'decision_function_shape': 'ovo', 'degree': 7, 'gamma': 0.01, 'kernel': 'poly'}\n",
      "Train scores 0.859 (+/-0.014) Test scores 0.808 (+/-0.043) for {'C': 20, 'class_weight': 'balanced', 'decision_function_shape': 'ovo', 'degree': 5, 'gamma': 0.1, 'kernel': 'rbf'}\n",
      "Train scores 0.585 (+/-0.035) Test scores 0.562 (+/-0.053) for {'C': 20, 'class_weight': 'balanced', 'decision_function_shape': 'ovo', 'degree': 5, 'gamma': 0.1, 'kernel': 'sigmoid'}\n",
      "Train scores 0.856 (+/-0.010) Test scores 0.807 (+/-0.074) for {'C': 20, 'class_weight': 'balanced', 'decision_function_shape': 'ovo', 'degree': 5, 'gamma': 0.1, 'kernel': 'poly'}\n",
      "Train scores 0.820 (+/-0.024) Test scores 0.803 (+/-0.122) for {'C': 20, 'class_weight': 'balanced', 'decision_function_shape': 'ovo', 'degree': 5, 'gamma': 0.01, 'kernel': 'rbf'}\n",
      "Train scores 0.816 (+/-0.034) Test scores 0.808 (+/-0.121) for {'C': 20, 'class_weight': 'balanced', 'decision_function_shape': 'ovo', 'degree': 5, 'gamma': 0.01, 'kernel': 'sigmoid'}\n",
      "Train scores 0.678 (+/-0.477) Test scores 0.681 (+/-0.472) for {'C': 20, 'class_weight': 'balanced', 'decision_function_shape': 'ovo', 'degree': 5, 'gamma': 0.01, 'kernel': 'poly'}\n",
      "Train scores 0.859 (+/-0.014) Test scores 0.808 (+/-0.043) for {'C': 20, 'class_weight': 'balanced', 'decision_function_shape': 'ovo', 'degree': 6, 'gamma': 0.1, 'kernel': 'rbf'}\n",
      "Train scores 0.585 (+/-0.035) Test scores 0.562 (+/-0.053) for {'C': 20, 'class_weight': 'balanced', 'decision_function_shape': 'ovo', 'degree': 6, 'gamma': 0.1, 'kernel': 'sigmoid'}\n",
      "Train scores 0.857 (+/-0.008) Test scores 0.808 (+/-0.073) for {'C': 20, 'class_weight': 'balanced', 'decision_function_shape': 'ovo', 'degree': 6, 'gamma': 0.1, 'kernel': 'poly'}\n",
      "Train scores 0.820 (+/-0.024) Test scores 0.803 (+/-0.122) for {'C': 20, 'class_weight': 'balanced', 'decision_function_shape': 'ovo', 'degree': 6, 'gamma': 0.01, 'kernel': 'rbf'}\n",
      "Train scores 0.816 (+/-0.034) Test scores 0.808 (+/-0.121) for {'C': 20, 'class_weight': 'balanced', 'decision_function_shape': 'ovo', 'degree': 6, 'gamma': 0.01, 'kernel': 'sigmoid'}\n",
      "Train scores 0.678 (+/-0.477) Test scores 0.681 (+/-0.472) for {'C': 20, 'class_weight': 'balanced', 'decision_function_shape': 'ovo', 'degree': 6, 'gamma': 0.01, 'kernel': 'poly'}\n",
      "Train scores 0.859 (+/-0.014) Test scores 0.808 (+/-0.043) for {'C': 20, 'class_weight': 'balanced', 'decision_function_shape': 'ovo', 'degree': 7, 'gamma': 0.1, 'kernel': 'rbf'}\n",
      "Train scores 0.585 (+/-0.035) Test scores 0.562 (+/-0.053) for {'C': 20, 'class_weight': 'balanced', 'decision_function_shape': 'ovo', 'degree': 7, 'gamma': 0.1, 'kernel': 'sigmoid'}\n",
      "Train scores 0.857 (+/-0.011) Test scores 0.804 (+/-0.074) for {'C': 20, 'class_weight': 'balanced', 'decision_function_shape': 'ovo', 'degree': 7, 'gamma': 0.1, 'kernel': 'poly'}\n",
      "Train scores 0.820 (+/-0.024) Test scores 0.803 (+/-0.122) for {'C': 20, 'class_weight': 'balanced', 'decision_function_shape': 'ovo', 'degree': 7, 'gamma': 0.01, 'kernel': 'rbf'}\n",
      "Train scores 0.816 (+/-0.034) Test scores 0.808 (+/-0.121) for {'C': 20, 'class_weight': 'balanced', 'decision_function_shape': 'ovo', 'degree': 7, 'gamma': 0.01, 'kernel': 'sigmoid'}\n",
      "Train scores 0.678 (+/-0.477) Test scores 0.681 (+/-0.472) for {'C': 20, 'class_weight': 'balanced', 'decision_function_shape': 'ovo', 'degree': 7, 'gamma': 0.01, 'kernel': 'poly'}\n",
      "Train scores 0.857 (+/-0.013) Test scores 0.811 (+/-0.041) for {'C': 25, 'class_weight': 'balanced', 'decision_function_shape': 'ovo', 'degree': 5, 'gamma': 0.1, 'kernel': 'rbf'}\n",
      "Train scores 0.587 (+/-0.031) Test scores 0.568 (+/-0.055) for {'C': 25, 'class_weight': 'balanced', 'decision_function_shape': 'ovo', 'degree': 5, 'gamma': 0.1, 'kernel': 'sigmoid'}\n",
      "Train scores 0.863 (+/-0.012) Test scores 0.803 (+/-0.077) for {'C': 25, 'class_weight': 'balanced', 'decision_function_shape': 'ovo', 'degree': 5, 'gamma': 0.1, 'kernel': 'poly'}\n",
      "Train scores 0.822 (+/-0.021) Test scores 0.804 (+/-0.125) for {'C': 25, 'class_weight': 'balanced', 'decision_function_shape': 'ovo', 'degree': 5, 'gamma': 0.01, 'kernel': 'rbf'}\n",
      "Train scores 0.814 (+/-0.027) Test scores 0.801 (+/-0.125) for {'C': 25, 'class_weight': 'balanced', 'decision_function_shape': 'ovo', 'degree': 5, 'gamma': 0.01, 'kernel': 'sigmoid'}\n",
      "Train scores 0.678 (+/-0.477) Test scores 0.681 (+/-0.472) for {'C': 25, 'class_weight': 'balanced', 'decision_function_shape': 'ovo', 'degree': 5, 'gamma': 0.01, 'kernel': 'poly'}\n",
      "Train scores 0.857 (+/-0.013) Test scores 0.811 (+/-0.041) for {'C': 25, 'class_weight': 'balanced', 'decision_function_shape': 'ovo', 'degree': 6, 'gamma': 0.1, 'kernel': 'rbf'}\n",
      "Train scores 0.587 (+/-0.031) Test scores 0.568 (+/-0.055) for {'C': 25, 'class_weight': 'balanced', 'decision_function_shape': 'ovo', 'degree': 6, 'gamma': 0.1, 'kernel': 'sigmoid'}\n",
      "Train scores 0.861 (+/-0.006) Test scores 0.803 (+/-0.070) for {'C': 25, 'class_weight': 'balanced', 'decision_function_shape': 'ovo', 'degree': 6, 'gamma': 0.1, 'kernel': 'poly'}\n",
      "Train scores 0.822 (+/-0.021) Test scores 0.804 (+/-0.125) for {'C': 25, 'class_weight': 'balanced', 'decision_function_shape': 'ovo', 'degree': 6, 'gamma': 0.01, 'kernel': 'rbf'}\n",
      "Train scores 0.814 (+/-0.027) Test scores 0.801 (+/-0.125) for {'C': 25, 'class_weight': 'balanced', 'decision_function_shape': 'ovo', 'degree': 6, 'gamma': 0.01, 'kernel': 'sigmoid'}\n",
      "Train scores 0.678 (+/-0.477) Test scores 0.681 (+/-0.472) for {'C': 25, 'class_weight': 'balanced', 'decision_function_shape': 'ovo', 'degree': 6, 'gamma': 0.01, 'kernel': 'poly'}\n",
      "Train scores 0.857 (+/-0.013) Test scores 0.811 (+/-0.041) for {'C': 25, 'class_weight': 'balanced', 'decision_function_shape': 'ovo', 'degree': 7, 'gamma': 0.1, 'kernel': 'rbf'}\n",
      "Train scores 0.587 (+/-0.031) Test scores 0.568 (+/-0.055) for {'C': 25, 'class_weight': 'balanced', 'decision_function_shape': 'ovo', 'degree': 7, 'gamma': 0.1, 'kernel': 'sigmoid'}\n",
      "Train scores 0.860 (+/-0.010) Test scores 0.796 (+/-0.083) for {'C': 25, 'class_weight': 'balanced', 'decision_function_shape': 'ovo', 'degree': 7, 'gamma': 0.1, 'kernel': 'poly'}\n",
      "Train scores 0.822 (+/-0.021) Test scores 0.804 (+/-0.125) for {'C': 25, 'class_weight': 'balanced', 'decision_function_shape': 'ovo', 'degree': 7, 'gamma': 0.01, 'kernel': 'rbf'}\n",
      "Train scores 0.814 (+/-0.027) Test scores 0.801 (+/-0.125) for {'C': 25, 'class_weight': 'balanced', 'decision_function_shape': 'ovo', 'degree': 7, 'gamma': 0.01, 'kernel': 'sigmoid'}\n",
      "Train scores 0.678 (+/-0.477) Test scores 0.681 (+/-0.472) for {'C': 25, 'class_weight': 'balanced', 'decision_function_shape': 'ovo', 'degree': 7, 'gamma': 0.01, 'kernel': 'poly'}\n",
      "Train scores 0.860 (+/-0.015) Test scores 0.811 (+/-0.043) for {'C': 30, 'class_weight': 'balanced', 'decision_function_shape': 'ovo', 'degree': 5, 'gamma': 0.1, 'kernel': 'rbf'}\n",
      "Train scores 0.588 (+/-0.025) Test scores 0.570 (+/-0.064) for {'C': 30, 'class_weight': 'balanced', 'decision_function_shape': 'ovo', 'degree': 5, 'gamma': 0.1, 'kernel': 'sigmoid'}\n",
      "Train scores 0.867 (+/-0.011) Test scores 0.804 (+/-0.077) for {'C': 30, 'class_weight': 'balanced', 'decision_function_shape': 'ovo', 'degree': 5, 'gamma': 0.1, 'kernel': 'poly'}\n",
      "Train scores 0.826 (+/-0.020) Test scores 0.807 (+/-0.117) for {'C': 30, 'class_weight': 'balanced', 'decision_function_shape': 'ovo', 'degree': 5, 'gamma': 0.01, 'kernel': 'rbf'}\n",
      "Train scores 0.816 (+/-0.033) Test scores 0.803 (+/-0.117) for {'C': 30, 'class_weight': 'balanced', 'decision_function_shape': 'ovo', 'degree': 5, 'gamma': 0.01, 'kernel': 'sigmoid'}\n",
      "Train scores 0.797 (+/-0.001) Test scores 0.797 (+/-0.005) for {'C': 30, 'class_weight': 'balanced', 'decision_function_shape': 'ovo', 'degree': 5, 'gamma': 0.01, 'kernel': 'poly'}\n",
      "Train scores 0.860 (+/-0.015) Test scores 0.811 (+/-0.043) for {'C': 30, 'class_weight': 'balanced', 'decision_function_shape': 'ovo', 'degree': 6, 'gamma': 0.1, 'kernel': 'rbf'}\n",
      "Train scores 0.588 (+/-0.025) Test scores 0.570 (+/-0.064) for {'C': 30, 'class_weight': 'balanced', 'decision_function_shape': 'ovo', 'degree': 6, 'gamma': 0.1, 'kernel': 'sigmoid'}\n",
      "Train scores 0.864 (+/-0.007) Test scores 0.803 (+/-0.065) for {'C': 30, 'class_weight': 'balanced', 'decision_function_shape': 'ovo', 'degree': 6, 'gamma': 0.1, 'kernel': 'poly'}\n",
      "Train scores 0.826 (+/-0.020) Test scores 0.807 (+/-0.117) for {'C': 30, 'class_weight': 'balanced', 'decision_function_shape': 'ovo', 'degree': 6, 'gamma': 0.01, 'kernel': 'rbf'}\n",
      "Train scores 0.816 (+/-0.033) Test scores 0.803 (+/-0.117) for {'C': 30, 'class_weight': 'balanced', 'decision_function_shape': 'ovo', 'degree': 6, 'gamma': 0.01, 'kernel': 'sigmoid'}\n",
      "Train scores 0.797 (+/-0.001) Test scores 0.797 (+/-0.005) for {'C': 30, 'class_weight': 'balanced', 'decision_function_shape': 'ovo', 'degree': 6, 'gamma': 0.01, 'kernel': 'poly'}\n",
      "Train scores 0.860 (+/-0.015) Test scores 0.811 (+/-0.043) for {'C': 30, 'class_weight': 'balanced', 'decision_function_shape': 'ovo', 'degree': 7, 'gamma': 0.1, 'kernel': 'rbf'}\n",
      "Train scores 0.588 (+/-0.025) Test scores 0.570 (+/-0.064) for {'C': 30, 'class_weight': 'balanced', 'decision_function_shape': 'ovo', 'degree': 7, 'gamma': 0.1, 'kernel': 'sigmoid'}\n",
      "Train scores 0.862 (+/-0.007) Test scores 0.797 (+/-0.090) for {'C': 30, 'class_weight': 'balanced', 'decision_function_shape': 'ovo', 'degree': 7, 'gamma': 0.1, 'kernel': 'poly'}\n",
      "Train scores 0.826 (+/-0.020) Test scores 0.807 (+/-0.117) for {'C': 30, 'class_weight': 'balanced', 'decision_function_shape': 'ovo', 'degree': 7, 'gamma': 0.01, 'kernel': 'rbf'}\n",
      "Train scores 0.816 (+/-0.033) Test scores 0.803 (+/-0.117) for {'C': 30, 'class_weight': 'balanced', 'decision_function_shape': 'ovo', 'degree': 7, 'gamma': 0.01, 'kernel': 'sigmoid'}\n",
      "Train scores 0.797 (+/-0.001) Test scores 0.797 (+/-0.005) for {'C': 30, 'class_weight': 'balanced', 'decision_function_shape': 'ovo', 'degree': 7, 'gamma': 0.01, 'kernel': 'poly'}\n",
      "\n",
      "\n",
      "# Tuning hyper-parameters for f1_weighted\n",
      "\n"
     ]
    },
    {
     "name": "stdout",
     "output_type": "stream",
     "text": [
      "Best parameters set found on development set:\n",
      "\n",
      "{'C': 10, 'class_weight': 'balanced', 'decision_function_shape': 'ovo', 'degree': 5, 'gamma': 0.1, 'kernel': 'rbf'}\n",
      "\n",
      "Grid scores on development set:\n",
      "\n",
      "Train scores 0.855 (+/-0.010) Test scores 0.818 (+/-0.073) for {'C': 10, 'class_weight': 'balanced', 'decision_function_shape': 'ovo', 'degree': 5, 'gamma': 0.1, 'kernel': 'rbf'}\n",
      "Train scores 0.637 (+/-0.030) Test scores 0.623 (+/-0.041) for {'C': 10, 'class_weight': 'balanced', 'decision_function_shape': 'ovo', 'degree': 5, 'gamma': 0.1, 'kernel': 'sigmoid'}\n",
      "Train scores 0.846 (+/-0.005) Test scores 0.817 (+/-0.074) for {'C': 10, 'class_weight': 'balanced', 'decision_function_shape': 'ovo', 'degree': 5, 'gamma': 0.1, 'kernel': 'poly'}\n",
      "Train scores 0.825 (+/-0.020) Test scores 0.811 (+/-0.099) for {'C': 10, 'class_weight': 'balanced', 'decision_function_shape': 'ovo', 'degree': 5, 'gamma': 0.01, 'kernel': 'rbf'}\n",
      "Train scores 0.810 (+/-0.041) Test scores 0.797 (+/-0.088) for {'C': 10, 'class_weight': 'balanced', 'decision_function_shape': 'ovo', 'degree': 5, 'gamma': 0.01, 'kernel': 'sigmoid'}\n",
      "Train scores 0.579 (+/-0.512) Test scores 0.582 (+/-0.510) for {'C': 10, 'class_weight': 'balanced', 'decision_function_shape': 'ovo', 'degree': 5, 'gamma': 0.01, 'kernel': 'poly'}\n",
      "Train scores 0.855 (+/-0.010) Test scores 0.818 (+/-0.073) for {'C': 10, 'class_weight': 'balanced', 'decision_function_shape': 'ovo', 'degree': 6, 'gamma': 0.1, 'kernel': 'rbf'}\n",
      "Train scores 0.637 (+/-0.030) Test scores 0.623 (+/-0.041) for {'C': 10, 'class_weight': 'balanced', 'decision_function_shape': 'ovo', 'degree': 6, 'gamma': 0.1, 'kernel': 'sigmoid'}\n",
      "Train scores 0.842 (+/-0.012) Test scores 0.808 (+/-0.078) for {'C': 10, 'class_weight': 'balanced', 'decision_function_shape': 'ovo', 'degree': 6, 'gamma': 0.1, 'kernel': 'poly'}\n",
      "Train scores 0.825 (+/-0.020) Test scores 0.811 (+/-0.099) for {'C': 10, 'class_weight': 'balanced', 'decision_function_shape': 'ovo', 'degree': 6, 'gamma': 0.01, 'kernel': 'rbf'}\n",
      "Train scores 0.810 (+/-0.041) Test scores 0.797 (+/-0.088) for {'C': 10, 'class_weight': 'balanced', 'decision_function_shape': 'ovo', 'degree': 6, 'gamma': 0.01, 'kernel': 'sigmoid'}\n",
      "Train scores 0.579 (+/-0.512) Test scores 0.582 (+/-0.510) for {'C': 10, 'class_weight': 'balanced', 'decision_function_shape': 'ovo', 'degree': 6, 'gamma': 0.01, 'kernel': 'poly'}\n",
      "Train scores 0.855 (+/-0.010) Test scores 0.818 (+/-0.073) for {'C': 10, 'class_weight': 'balanced', 'decision_function_shape': 'ovo', 'degree': 7, 'gamma': 0.1, 'kernel': 'rbf'}\n",
      "Train scores 0.637 (+/-0.030) Test scores 0.623 (+/-0.041) for {'C': 10, 'class_weight': 'balanced', 'decision_function_shape': 'ovo', 'degree': 7, 'gamma': 0.1, 'kernel': 'sigmoid'}\n",
      "Train scores 0.831 (+/-0.037) Test scores 0.801 (+/-0.064) for {'C': 10, 'class_weight': 'balanced', 'decision_function_shape': 'ovo', 'degree': 7, 'gamma': 0.1, 'kernel': 'poly'}\n",
      "Train scores 0.825 (+/-0.020) Test scores 0.811 (+/-0.099) for {'C': 10, 'class_weight': 'balanced', 'decision_function_shape': 'ovo', 'degree': 7, 'gamma': 0.01, 'kernel': 'rbf'}\n",
      "Train scores 0.810 (+/-0.041) Test scores 0.797 (+/-0.088) for {'C': 10, 'class_weight': 'balanced', 'decision_function_shape': 'ovo', 'degree': 7, 'gamma': 0.01, 'kernel': 'sigmoid'}\n",
      "Train scores 0.579 (+/-0.512) Test scores 0.582 (+/-0.510) for {'C': 10, 'class_weight': 'balanced', 'decision_function_shape': 'ovo', 'degree': 7, 'gamma': 0.01, 'kernel': 'poly'}\n",
      "Train scores 0.860 (+/-0.012) Test scores 0.810 (+/-0.053) for {'C': 15, 'class_weight': 'balanced', 'decision_function_shape': 'ovo', 'degree': 5, 'gamma': 0.1, 'kernel': 'rbf'}\n",
      "Train scores 0.629 (+/-0.027) Test scores 0.617 (+/-0.056) for {'C': 15, 'class_weight': 'balanced', 'decision_function_shape': 'ovo', 'degree': 5, 'gamma': 0.1, 'kernel': 'sigmoid'}\n",
      "Train scores 0.853 (+/-0.005) Test scores 0.816 (+/-0.067) for {'C': 15, 'class_weight': 'balanced', 'decision_function_shape': 'ovo', 'degree': 5, 'gamma': 0.1, 'kernel': 'poly'}\n",
      "Train scores 0.824 (+/-0.021) Test scores 0.810 (+/-0.106) for {'C': 15, 'class_weight': 'balanced', 'decision_function_shape': 'ovo', 'degree': 5, 'gamma': 0.01, 'kernel': 'rbf'}\n",
      "Train scores 0.824 (+/-0.025) Test scores 0.812 (+/-0.102) for {'C': 15, 'class_weight': 'balanced', 'decision_function_shape': 'ovo', 'degree': 5, 'gamma': 0.01, 'kernel': 'sigmoid'}\n",
      "Train scores 0.707 (+/-0.002) Test scores 0.707 (+/-0.007) for {'C': 15, 'class_weight': 'balanced', 'decision_function_shape': 'ovo', 'degree': 5, 'gamma': 0.01, 'kernel': 'poly'}\n",
      "Train scores 0.860 (+/-0.012) Test scores 0.810 (+/-0.053) for {'C': 15, 'class_weight': 'balanced', 'decision_function_shape': 'ovo', 'degree': 6, 'gamma': 0.1, 'kernel': 'rbf'}\n",
      "Train scores 0.629 (+/-0.027) Test scores 0.617 (+/-0.056) for {'C': 15, 'class_weight': 'balanced', 'decision_function_shape': 'ovo', 'degree': 6, 'gamma': 0.1, 'kernel': 'sigmoid'}\n",
      "Train scores 0.851 (+/-0.011) Test scores 0.811 (+/-0.073) for {'C': 15, 'class_weight': 'balanced', 'decision_function_shape': 'ovo', 'degree': 6, 'gamma': 0.1, 'kernel': 'poly'}\n",
      "Train scores 0.824 (+/-0.021) Test scores 0.810 (+/-0.106) for {'C': 15, 'class_weight': 'balanced', 'decision_function_shape': 'ovo', 'degree': 6, 'gamma': 0.01, 'kernel': 'rbf'}\n",
      "Train scores 0.824 (+/-0.025) Test scores 0.812 (+/-0.102) for {'C': 15, 'class_weight': 'balanced', 'decision_function_shape': 'ovo', 'degree': 6, 'gamma': 0.01, 'kernel': 'sigmoid'}\n",
      "Train scores 0.707 (+/-0.002) Test scores 0.707 (+/-0.007) for {'C': 15, 'class_weight': 'balanced', 'decision_function_shape': 'ovo', 'degree': 6, 'gamma': 0.01, 'kernel': 'poly'}\n",
      "Train scores 0.860 (+/-0.012) Test scores 0.810 (+/-0.053) for {'C': 15, 'class_weight': 'balanced', 'decision_function_shape': 'ovo', 'degree': 7, 'gamma': 0.1, 'kernel': 'rbf'}\n",
      "Train scores 0.629 (+/-0.027) Test scores 0.617 (+/-0.056) for {'C': 15, 'class_weight': 'balanced', 'decision_function_shape': 'ovo', 'degree': 7, 'gamma': 0.1, 'kernel': 'sigmoid'}\n",
      "Train scores 0.850 (+/-0.012) Test scores 0.806 (+/-0.075) for {'C': 15, 'class_weight': 'balanced', 'decision_function_shape': 'ovo', 'degree': 7, 'gamma': 0.1, 'kernel': 'poly'}\n",
      "Train scores 0.824 (+/-0.021) Test scores 0.810 (+/-0.106) for {'C': 15, 'class_weight': 'balanced', 'decision_function_shape': 'ovo', 'degree': 7, 'gamma': 0.01, 'kernel': 'rbf'}\n",
      "Train scores 0.824 (+/-0.025) Test scores 0.812 (+/-0.102) for {'C': 15, 'class_weight': 'balanced', 'decision_function_shape': 'ovo', 'degree': 7, 'gamma': 0.01, 'kernel': 'sigmoid'}\n",
      "Train scores 0.707 (+/-0.002) Test scores 0.707 (+/-0.007) for {'C': 15, 'class_weight': 'balanced', 'decision_function_shape': 'ovo', 'degree': 7, 'gamma': 0.01, 'kernel': 'poly'}\n",
      "Train scores 0.864 (+/-0.013) Test scores 0.814 (+/-0.038) for {'C': 20, 'class_weight': 'balanced', 'decision_function_shape': 'ovo', 'degree': 5, 'gamma': 0.1, 'kernel': 'rbf'}\n",
      "Train scores 0.626 (+/-0.031) Test scores 0.605 (+/-0.048) for {'C': 20, 'class_weight': 'balanced', 'decision_function_shape': 'ovo', 'degree': 5, 'gamma': 0.1, 'kernel': 'sigmoid'}\n",
      "Train scores 0.859 (+/-0.009) Test scores 0.811 (+/-0.068) for {'C': 20, 'class_weight': 'balanced', 'decision_function_shape': 'ovo', 'degree': 5, 'gamma': 0.1, 'kernel': 'poly'}\n",
      "Train scores 0.827 (+/-0.022) Test scores 0.811 (+/-0.107) for {'C': 20, 'class_weight': 'balanced', 'decision_function_shape': 'ovo', 'degree': 5, 'gamma': 0.01, 'kernel': 'rbf'}\n",
      "Train scores 0.823 (+/-0.029) Test scores 0.817 (+/-0.107) for {'C': 20, 'class_weight': 'balanced', 'decision_function_shape': 'ovo', 'degree': 5, 'gamma': 0.01, 'kernel': 'sigmoid'}\n",
      "Train scores 0.579 (+/-0.512) Test scores 0.582 (+/-0.510) for {'C': 20, 'class_weight': 'balanced', 'decision_function_shape': 'ovo', 'degree': 5, 'gamma': 0.01, 'kernel': 'poly'}\n",
      "Train scores 0.864 (+/-0.013) Test scores 0.814 (+/-0.038) for {'C': 20, 'class_weight': 'balanced', 'decision_function_shape': 'ovo', 'degree': 6, 'gamma': 0.1, 'kernel': 'rbf'}\n",
      "Train scores 0.626 (+/-0.031) Test scores 0.605 (+/-0.048) for {'C': 20, 'class_weight': 'balanced', 'decision_function_shape': 'ovo', 'degree': 6, 'gamma': 0.1, 'kernel': 'sigmoid'}\n",
      "Train scores 0.859 (+/-0.007) Test scores 0.812 (+/-0.065) for {'C': 20, 'class_weight': 'balanced', 'decision_function_shape': 'ovo', 'degree': 6, 'gamma': 0.1, 'kernel': 'poly'}\n",
      "Train scores 0.827 (+/-0.022) Test scores 0.811 (+/-0.107) for {'C': 20, 'class_weight': 'balanced', 'decision_function_shape': 'ovo', 'degree': 6, 'gamma': 0.01, 'kernel': 'rbf'}\n",
      "Train scores 0.823 (+/-0.029) Test scores 0.817 (+/-0.107) for {'C': 20, 'class_weight': 'balanced', 'decision_function_shape': 'ovo', 'degree': 6, 'gamma': 0.01, 'kernel': 'sigmoid'}\n",
      "Train scores 0.579 (+/-0.512) Test scores 0.582 (+/-0.510) for {'C': 20, 'class_weight': 'balanced', 'decision_function_shape': 'ovo', 'degree': 6, 'gamma': 0.01, 'kernel': 'poly'}\n",
      "Train scores 0.864 (+/-0.013) Test scores 0.814 (+/-0.038) for {'C': 20, 'class_weight': 'balanced', 'decision_function_shape': 'ovo', 'degree': 7, 'gamma': 0.1, 'kernel': 'rbf'}\n",
      "Train scores 0.626 (+/-0.031) Test scores 0.605 (+/-0.048) for {'C': 20, 'class_weight': 'balanced', 'decision_function_shape': 'ovo', 'degree': 7, 'gamma': 0.1, 'kernel': 'sigmoid'}\n",
      "Train scores 0.858 (+/-0.009) Test scores 0.807 (+/-0.067) for {'C': 20, 'class_weight': 'balanced', 'decision_function_shape': 'ovo', 'degree': 7, 'gamma': 0.1, 'kernel': 'poly'}\n",
      "Train scores 0.827 (+/-0.022) Test scores 0.811 (+/-0.107) for {'C': 20, 'class_weight': 'balanced', 'decision_function_shape': 'ovo', 'degree': 7, 'gamma': 0.01, 'kernel': 'rbf'}\n",
      "Train scores 0.823 (+/-0.029) Test scores 0.817 (+/-0.107) for {'C': 20, 'class_weight': 'balanced', 'decision_function_shape': 'ovo', 'degree': 7, 'gamma': 0.01, 'kernel': 'sigmoid'}\n",
      "Train scores 0.579 (+/-0.512) Test scores 0.582 (+/-0.510) for {'C': 20, 'class_weight': 'balanced', 'decision_function_shape': 'ovo', 'degree': 7, 'gamma': 0.01, 'kernel': 'poly'}\n",
      "Train scores 0.862 (+/-0.012) Test scores 0.817 (+/-0.037) for {'C': 25, 'class_weight': 'balanced', 'decision_function_shape': 'ovo', 'degree': 5, 'gamma': 0.1, 'kernel': 'rbf'}\n",
      "Train scores 0.627 (+/-0.027) Test scores 0.610 (+/-0.050) for {'C': 25, 'class_weight': 'balanced', 'decision_function_shape': 'ovo', 'degree': 5, 'gamma': 0.1, 'kernel': 'sigmoid'}\n",
      "Train scores 0.865 (+/-0.012) Test scores 0.808 (+/-0.070) for {'C': 25, 'class_weight': 'balanced', 'decision_function_shape': 'ovo', 'degree': 5, 'gamma': 0.1, 'kernel': 'poly'}\n",
      "Train scores 0.829 (+/-0.019) Test scores 0.812 (+/-0.110) for {'C': 25, 'class_weight': 'balanced', 'decision_function_shape': 'ovo', 'degree': 5, 'gamma': 0.01, 'kernel': 'rbf'}\n",
      "Train scores 0.822 (+/-0.024) Test scores 0.811 (+/-0.109) for {'C': 25, 'class_weight': 'balanced', 'decision_function_shape': 'ovo', 'degree': 5, 'gamma': 0.01, 'kernel': 'sigmoid'}\n",
      "Train scores 0.579 (+/-0.512) Test scores 0.582 (+/-0.510) for {'C': 25, 'class_weight': 'balanced', 'decision_function_shape': 'ovo', 'degree': 5, 'gamma': 0.01, 'kernel': 'poly'}\n",
      "Train scores 0.862 (+/-0.012) Test scores 0.817 (+/-0.037) for {'C': 25, 'class_weight': 'balanced', 'decision_function_shape': 'ovo', 'degree': 6, 'gamma': 0.1, 'kernel': 'rbf'}\n",
      "Train scores 0.627 (+/-0.027) Test scores 0.610 (+/-0.050) for {'C': 25, 'class_weight': 'balanced', 'decision_function_shape': 'ovo', 'degree': 6, 'gamma': 0.1, 'kernel': 'sigmoid'}\n",
      "Train scores 0.863 (+/-0.005) Test scores 0.807 (+/-0.064) for {'C': 25, 'class_weight': 'balanced', 'decision_function_shape': 'ovo', 'degree': 6, 'gamma': 0.1, 'kernel': 'poly'}\n",
      "Train scores 0.829 (+/-0.019) Test scores 0.812 (+/-0.110) for {'C': 25, 'class_weight': 'balanced', 'decision_function_shape': 'ovo', 'degree': 6, 'gamma': 0.01, 'kernel': 'rbf'}\n",
      "Train scores 0.822 (+/-0.024) Test scores 0.811 (+/-0.109) for {'C': 25, 'class_weight': 'balanced', 'decision_function_shape': 'ovo', 'degree': 6, 'gamma': 0.01, 'kernel': 'sigmoid'}\n",
      "Train scores 0.579 (+/-0.512) Test scores 0.582 (+/-0.510) for {'C': 25, 'class_weight': 'balanced', 'decision_function_shape': 'ovo', 'degree': 6, 'gamma': 0.01, 'kernel': 'poly'}\n",
      "Train scores 0.862 (+/-0.012) Test scores 0.817 (+/-0.037) for {'C': 25, 'class_weight': 'balanced', 'decision_function_shape': 'ovo', 'degree': 7, 'gamma': 0.1, 'kernel': 'rbf'}\n",
      "Train scores 0.627 (+/-0.027) Test scores 0.610 (+/-0.050) for {'C': 25, 'class_weight': 'balanced', 'decision_function_shape': 'ovo', 'degree': 7, 'gamma': 0.1, 'kernel': 'sigmoid'}\n",
      "Train scores 0.861 (+/-0.009) Test scores 0.800 (+/-0.075) for {'C': 25, 'class_weight': 'balanced', 'decision_function_shape': 'ovo', 'degree': 7, 'gamma': 0.1, 'kernel': 'poly'}\n",
      "Train scores 0.829 (+/-0.019) Test scores 0.812 (+/-0.110) for {'C': 25, 'class_weight': 'balanced', 'decision_function_shape': 'ovo', 'degree': 7, 'gamma': 0.01, 'kernel': 'rbf'}\n",
      "Train scores 0.822 (+/-0.024) Test scores 0.811 (+/-0.109) for {'C': 25, 'class_weight': 'balanced', 'decision_function_shape': 'ovo', 'degree': 7, 'gamma': 0.01, 'kernel': 'sigmoid'}\n",
      "Train scores 0.579 (+/-0.512) Test scores 0.582 (+/-0.510) for {'C': 25, 'class_weight': 'balanced', 'decision_function_shape': 'ovo', 'degree': 7, 'gamma': 0.01, 'kernel': 'poly'}\n",
      "Train scores 0.865 (+/-0.014) Test scores 0.817 (+/-0.038) for {'C': 30, 'class_weight': 'balanced', 'decision_function_shape': 'ovo', 'degree': 5, 'gamma': 0.1, 'kernel': 'rbf'}\n",
      "Train scores 0.628 (+/-0.023) Test scores 0.612 (+/-0.058) for {'C': 30, 'class_weight': 'balanced', 'decision_function_shape': 'ovo', 'degree': 5, 'gamma': 0.1, 'kernel': 'sigmoid'}\n",
      "Train scores 0.869 (+/-0.011) Test scores 0.809 (+/-0.070) for {'C': 30, 'class_weight': 'balanced', 'decision_function_shape': 'ovo', 'degree': 5, 'gamma': 0.1, 'kernel': 'poly'}\n",
      "Train scores 0.832 (+/-0.017) Test scores 0.815 (+/-0.103) for {'C': 30, 'class_weight': 'balanced', 'decision_function_shape': 'ovo', 'degree': 5, 'gamma': 0.01, 'kernel': 'rbf'}\n",
      "Train scores 0.824 (+/-0.030) Test scores 0.812 (+/-0.103) for {'C': 30, 'class_weight': 'balanced', 'decision_function_shape': 'ovo', 'degree': 5, 'gamma': 0.01, 'kernel': 'sigmoid'}\n",
      "Train scores 0.707 (+/-0.002) Test scores 0.707 (+/-0.007) for {'C': 30, 'class_weight': 'balanced', 'decision_function_shape': 'ovo', 'degree': 5, 'gamma': 0.01, 'kernel': 'poly'}\n",
      "Train scores 0.865 (+/-0.014) Test scores 0.817 (+/-0.038) for {'C': 30, 'class_weight': 'balanced', 'decision_function_shape': 'ovo', 'degree': 6, 'gamma': 0.1, 'kernel': 'rbf'}\n",
      "Train scores 0.628 (+/-0.023) Test scores 0.612 (+/-0.058) for {'C': 30, 'class_weight': 'balanced', 'decision_function_shape': 'ovo', 'degree': 6, 'gamma': 0.1, 'kernel': 'sigmoid'}\n",
      "Train scores 0.866 (+/-0.008) Test scores 0.807 (+/-0.059) for {'C': 30, 'class_weight': 'balanced', 'decision_function_shape': 'ovo', 'degree': 6, 'gamma': 0.1, 'kernel': 'poly'}\n",
      "Train scores 0.832 (+/-0.017) Test scores 0.815 (+/-0.103) for {'C': 30, 'class_weight': 'balanced', 'decision_function_shape': 'ovo', 'degree': 6, 'gamma': 0.01, 'kernel': 'rbf'}\n",
      "Train scores 0.824 (+/-0.030) Test scores 0.812 (+/-0.103) for {'C': 30, 'class_weight': 'balanced', 'decision_function_shape': 'ovo', 'degree': 6, 'gamma': 0.01, 'kernel': 'sigmoid'}\n",
      "Train scores 0.707 (+/-0.002) Test scores 0.707 (+/-0.007) for {'C': 30, 'class_weight': 'balanced', 'decision_function_shape': 'ovo', 'degree': 6, 'gamma': 0.01, 'kernel': 'poly'}\n",
      "Train scores 0.865 (+/-0.014) Test scores 0.817 (+/-0.038) for {'C': 30, 'class_weight': 'balanced', 'decision_function_shape': 'ovo', 'degree': 7, 'gamma': 0.1, 'kernel': 'rbf'}\n",
      "Train scores 0.628 (+/-0.023) Test scores 0.612 (+/-0.058) for {'C': 30, 'class_weight': 'balanced', 'decision_function_shape': 'ovo', 'degree': 7, 'gamma': 0.1, 'kernel': 'sigmoid'}\n",
      "Train scores 0.863 (+/-0.006) Test scores 0.801 (+/-0.081) for {'C': 30, 'class_weight': 'balanced', 'decision_function_shape': 'ovo', 'degree': 7, 'gamma': 0.1, 'kernel': 'poly'}\n",
      "Train scores 0.832 (+/-0.017) Test scores 0.815 (+/-0.103) for {'C': 30, 'class_weight': 'balanced', 'decision_function_shape': 'ovo', 'degree': 7, 'gamma': 0.01, 'kernel': 'rbf'}\n",
      "Train scores 0.824 (+/-0.030) Test scores 0.812 (+/-0.103) for {'C': 30, 'class_weight': 'balanced', 'decision_function_shape': 'ovo', 'degree': 7, 'gamma': 0.01, 'kernel': 'sigmoid'}\n",
      "Train scores 0.707 (+/-0.002) Test scores 0.707 (+/-0.007) for {'C': 30, 'class_weight': 'balanced', 'decision_function_shape': 'ovo', 'degree': 7, 'gamma': 0.01, 'kernel': 'poly'}\n",
      "\n",
      "\n",
      "# Tuning hyper-parameters for recall_weighted\n",
      "\n"
     ]
    },
    {
     "name": "stdout",
     "output_type": "stream",
     "text": [
      "Best parameters set found on development set:\n",
      "\n",
      "{'C': 10, 'class_weight': 'balanced', 'decision_function_shape': 'ovo', 'degree': 5, 'gamma': 0.1, 'kernel': 'rbf'}\n",
      "\n",
      "Grid scores on development set:\n",
      "\n",
      "Train scores 0.850 (+/-0.011) Test scores 0.812 (+/-0.082) for {'C': 10, 'class_weight': 'balanced', 'decision_function_shape': 'ovo', 'degree': 5, 'gamma': 0.1, 'kernel': 'rbf'}\n",
      "Train scores 0.597 (+/-0.034) Test scores 0.583 (+/-0.045) for {'C': 10, 'class_weight': 'balanced', 'decision_function_shape': 'ovo', 'degree': 5, 'gamma': 0.1, 'kernel': 'sigmoid'}\n",
      "Train scores 0.843 (+/-0.006) Test scores 0.812 (+/-0.082) for {'C': 10, 'class_weight': 'balanced', 'decision_function_shape': 'ovo', 'degree': 5, 'gamma': 0.1, 'kernel': 'poly'}\n",
      "Train scores 0.818 (+/-0.023) Test scores 0.803 (+/-0.112) for {'C': 10, 'class_weight': 'balanced', 'decision_function_shape': 'ovo', 'degree': 5, 'gamma': 0.01, 'kernel': 'rbf'}\n",
      "Train scores 0.799 (+/-0.050) Test scores 0.784 (+/-0.100) for {'C': 10, 'class_weight': 'balanced', 'decision_function_shape': 'ovo', 'degree': 5, 'gamma': 0.01, 'kernel': 'sigmoid'}\n",
      "Train scores 0.678 (+/-0.477) Test scores 0.681 (+/-0.472) for {'C': 10, 'class_weight': 'balanced', 'decision_function_shape': 'ovo', 'degree': 5, 'gamma': 0.01, 'kernel': 'poly'}\n",
      "Train scores 0.850 (+/-0.011) Test scores 0.812 (+/-0.082) for {'C': 10, 'class_weight': 'balanced', 'decision_function_shape': 'ovo', 'degree': 6, 'gamma': 0.1, 'kernel': 'rbf'}\n",
      "Train scores 0.597 (+/-0.034) Test scores 0.583 (+/-0.045) for {'C': 10, 'class_weight': 'balanced', 'decision_function_shape': 'ovo', 'degree': 6, 'gamma': 0.1, 'kernel': 'sigmoid'}\n",
      "Train scores 0.839 (+/-0.015) Test scores 0.803 (+/-0.086) for {'C': 10, 'class_weight': 'balanced', 'decision_function_shape': 'ovo', 'degree': 6, 'gamma': 0.1, 'kernel': 'poly'}\n",
      "Train scores 0.818 (+/-0.023) Test scores 0.803 (+/-0.112) for {'C': 10, 'class_weight': 'balanced', 'decision_function_shape': 'ovo', 'degree': 6, 'gamma': 0.01, 'kernel': 'rbf'}\n",
      "Train scores 0.799 (+/-0.050) Test scores 0.784 (+/-0.100) for {'C': 10, 'class_weight': 'balanced', 'decision_function_shape': 'ovo', 'degree': 6, 'gamma': 0.01, 'kernel': 'sigmoid'}\n",
      "Train scores 0.678 (+/-0.477) Test scores 0.681 (+/-0.472) for {'C': 10, 'class_weight': 'balanced', 'decision_function_shape': 'ovo', 'degree': 6, 'gamma': 0.01, 'kernel': 'poly'}\n",
      "Train scores 0.850 (+/-0.011) Test scores 0.812 (+/-0.082) for {'C': 10, 'class_weight': 'balanced', 'decision_function_shape': 'ovo', 'degree': 7, 'gamma': 0.1, 'kernel': 'rbf'}\n",
      "Train scores 0.597 (+/-0.034) Test scores 0.583 (+/-0.045) for {'C': 10, 'class_weight': 'balanced', 'decision_function_shape': 'ovo', 'degree': 7, 'gamma': 0.1, 'kernel': 'sigmoid'}\n",
      "Train scores 0.824 (+/-0.047) Test scores 0.792 (+/-0.072) for {'C': 10, 'class_weight': 'balanced', 'decision_function_shape': 'ovo', 'degree': 7, 'gamma': 0.1, 'kernel': 'poly'}\n",
      "Train scores 0.818 (+/-0.023) Test scores 0.803 (+/-0.112) for {'C': 10, 'class_weight': 'balanced', 'decision_function_shape': 'ovo', 'degree': 7, 'gamma': 0.01, 'kernel': 'rbf'}\n",
      "Train scores 0.799 (+/-0.050) Test scores 0.784 (+/-0.100) for {'C': 10, 'class_weight': 'balanced', 'decision_function_shape': 'ovo', 'degree': 7, 'gamma': 0.01, 'kernel': 'sigmoid'}\n",
      "Train scores 0.678 (+/-0.477) Test scores 0.681 (+/-0.472) for {'C': 10, 'class_weight': 'balanced', 'decision_function_shape': 'ovo', 'degree': 7, 'gamma': 0.01, 'kernel': 'poly'}\n",
      "Train scores 0.855 (+/-0.014) Test scores 0.803 (+/-0.061) for {'C': 15, 'class_weight': 'balanced', 'decision_function_shape': 'ovo', 'degree': 5, 'gamma': 0.1, 'kernel': 'rbf'}\n",
      "Train scores 0.589 (+/-0.031) Test scores 0.576 (+/-0.062) for {'C': 15, 'class_weight': 'balanced', 'decision_function_shape': 'ovo', 'degree': 5, 'gamma': 0.1, 'kernel': 'sigmoid'}\n",
      "Train scores 0.851 (+/-0.006) Test scores 0.812 (+/-0.073) for {'C': 15, 'class_weight': 'balanced', 'decision_function_shape': 'ovo', 'degree': 5, 'gamma': 0.1, 'kernel': 'poly'}\n",
      "Train scores 0.817 (+/-0.025) Test scores 0.801 (+/-0.121) for {'C': 15, 'class_weight': 'balanced', 'decision_function_shape': 'ovo', 'degree': 5, 'gamma': 0.01, 'kernel': 'rbf'}\n",
      "Train scores 0.816 (+/-0.029) Test scores 0.803 (+/-0.116) for {'C': 15, 'class_weight': 'balanced', 'decision_function_shape': 'ovo', 'degree': 5, 'gamma': 0.01, 'kernel': 'sigmoid'}\n",
      "Train scores 0.797 (+/-0.001) Test scores 0.797 (+/-0.005) for {'C': 15, 'class_weight': 'balanced', 'decision_function_shape': 'ovo', 'degree': 5, 'gamma': 0.01, 'kernel': 'poly'}\n",
      "Train scores 0.855 (+/-0.014) Test scores 0.803 (+/-0.061) for {'C': 15, 'class_weight': 'balanced', 'decision_function_shape': 'ovo', 'degree': 6, 'gamma': 0.1, 'kernel': 'rbf'}\n",
      "Train scores 0.589 (+/-0.031) Test scores 0.576 (+/-0.062) for {'C': 15, 'class_weight': 'balanced', 'decision_function_shape': 'ovo', 'degree': 6, 'gamma': 0.1, 'kernel': 'sigmoid'}\n",
      "Train scores 0.849 (+/-0.013) Test scores 0.807 (+/-0.081) for {'C': 15, 'class_weight': 'balanced', 'decision_function_shape': 'ovo', 'degree': 6, 'gamma': 0.1, 'kernel': 'poly'}\n",
      "Train scores 0.817 (+/-0.025) Test scores 0.801 (+/-0.121) for {'C': 15, 'class_weight': 'balanced', 'decision_function_shape': 'ovo', 'degree': 6, 'gamma': 0.01, 'kernel': 'rbf'}\n",
      "Train scores 0.816 (+/-0.029) Test scores 0.803 (+/-0.116) for {'C': 15, 'class_weight': 'balanced', 'decision_function_shape': 'ovo', 'degree': 6, 'gamma': 0.01, 'kernel': 'sigmoid'}\n",
      "Train scores 0.797 (+/-0.001) Test scores 0.797 (+/-0.005) for {'C': 15, 'class_weight': 'balanced', 'decision_function_shape': 'ovo', 'degree': 6, 'gamma': 0.01, 'kernel': 'poly'}\n",
      "Train scores 0.855 (+/-0.014) Test scores 0.803 (+/-0.061) for {'C': 15, 'class_weight': 'balanced', 'decision_function_shape': 'ovo', 'degree': 7, 'gamma': 0.1, 'kernel': 'rbf'}\n",
      "Train scores 0.589 (+/-0.031) Test scores 0.576 (+/-0.062) for {'C': 15, 'class_weight': 'balanced', 'decision_function_shape': 'ovo', 'degree': 7, 'gamma': 0.1, 'kernel': 'sigmoid'}\n",
      "Train scores 0.848 (+/-0.015) Test scores 0.801 (+/-0.083) for {'C': 15, 'class_weight': 'balanced', 'decision_function_shape': 'ovo', 'degree': 7, 'gamma': 0.1, 'kernel': 'poly'}\n",
      "Train scores 0.817 (+/-0.025) Test scores 0.801 (+/-0.121) for {'C': 15, 'class_weight': 'balanced', 'decision_function_shape': 'ovo', 'degree': 7, 'gamma': 0.01, 'kernel': 'rbf'}\n",
      "Train scores 0.816 (+/-0.029) Test scores 0.803 (+/-0.116) for {'C': 15, 'class_weight': 'balanced', 'decision_function_shape': 'ovo', 'degree': 7, 'gamma': 0.01, 'kernel': 'sigmoid'}\n",
      "Train scores 0.797 (+/-0.001) Test scores 0.797 (+/-0.005) for {'C': 15, 'class_weight': 'balanced', 'decision_function_shape': 'ovo', 'degree': 7, 'gamma': 0.01, 'kernel': 'poly'}\n",
      "Train scores 0.859 (+/-0.014) Test scores 0.808 (+/-0.043) for {'C': 20, 'class_weight': 'balanced', 'decision_function_shape': 'ovo', 'degree': 5, 'gamma': 0.1, 'kernel': 'rbf'}\n",
      "Train scores 0.585 (+/-0.035) Test scores 0.562 (+/-0.053) for {'C': 20, 'class_weight': 'balanced', 'decision_function_shape': 'ovo', 'degree': 5, 'gamma': 0.1, 'kernel': 'sigmoid'}\n",
      "Train scores 0.856 (+/-0.010) Test scores 0.807 (+/-0.074) for {'C': 20, 'class_weight': 'balanced', 'decision_function_shape': 'ovo', 'degree': 5, 'gamma': 0.1, 'kernel': 'poly'}\n",
      "Train scores 0.820 (+/-0.024) Test scores 0.803 (+/-0.122) for {'C': 20, 'class_weight': 'balanced', 'decision_function_shape': 'ovo', 'degree': 5, 'gamma': 0.01, 'kernel': 'rbf'}\n",
      "Train scores 0.816 (+/-0.034) Test scores 0.808 (+/-0.121) for {'C': 20, 'class_weight': 'balanced', 'decision_function_shape': 'ovo', 'degree': 5, 'gamma': 0.01, 'kernel': 'sigmoid'}\n",
      "Train scores 0.678 (+/-0.477) Test scores 0.681 (+/-0.472) for {'C': 20, 'class_weight': 'balanced', 'decision_function_shape': 'ovo', 'degree': 5, 'gamma': 0.01, 'kernel': 'poly'}\n",
      "Train scores 0.859 (+/-0.014) Test scores 0.808 (+/-0.043) for {'C': 20, 'class_weight': 'balanced', 'decision_function_shape': 'ovo', 'degree': 6, 'gamma': 0.1, 'kernel': 'rbf'}\n",
      "Train scores 0.585 (+/-0.035) Test scores 0.562 (+/-0.053) for {'C': 20, 'class_weight': 'balanced', 'decision_function_shape': 'ovo', 'degree': 6, 'gamma': 0.1, 'kernel': 'sigmoid'}\n",
      "Train scores 0.857 (+/-0.008) Test scores 0.808 (+/-0.073) for {'C': 20, 'class_weight': 'balanced', 'decision_function_shape': 'ovo', 'degree': 6, 'gamma': 0.1, 'kernel': 'poly'}\n",
      "Train scores 0.820 (+/-0.024) Test scores 0.803 (+/-0.122) for {'C': 20, 'class_weight': 'balanced', 'decision_function_shape': 'ovo', 'degree': 6, 'gamma': 0.01, 'kernel': 'rbf'}\n",
      "Train scores 0.816 (+/-0.034) Test scores 0.808 (+/-0.121) for {'C': 20, 'class_weight': 'balanced', 'decision_function_shape': 'ovo', 'degree': 6, 'gamma': 0.01, 'kernel': 'sigmoid'}\n",
      "Train scores 0.678 (+/-0.477) Test scores 0.681 (+/-0.472) for {'C': 20, 'class_weight': 'balanced', 'decision_function_shape': 'ovo', 'degree': 6, 'gamma': 0.01, 'kernel': 'poly'}\n",
      "Train scores 0.859 (+/-0.014) Test scores 0.808 (+/-0.043) for {'C': 20, 'class_weight': 'balanced', 'decision_function_shape': 'ovo', 'degree': 7, 'gamma': 0.1, 'kernel': 'rbf'}\n",
      "Train scores 0.585 (+/-0.035) Test scores 0.562 (+/-0.053) for {'C': 20, 'class_weight': 'balanced', 'decision_function_shape': 'ovo', 'degree': 7, 'gamma': 0.1, 'kernel': 'sigmoid'}\n",
      "Train scores 0.857 (+/-0.011) Test scores 0.804 (+/-0.074) for {'C': 20, 'class_weight': 'balanced', 'decision_function_shape': 'ovo', 'degree': 7, 'gamma': 0.1, 'kernel': 'poly'}\n",
      "Train scores 0.820 (+/-0.024) Test scores 0.803 (+/-0.122) for {'C': 20, 'class_weight': 'balanced', 'decision_function_shape': 'ovo', 'degree': 7, 'gamma': 0.01, 'kernel': 'rbf'}\n",
      "Train scores 0.816 (+/-0.034) Test scores 0.808 (+/-0.121) for {'C': 20, 'class_weight': 'balanced', 'decision_function_shape': 'ovo', 'degree': 7, 'gamma': 0.01, 'kernel': 'sigmoid'}\n",
      "Train scores 0.678 (+/-0.477) Test scores 0.681 (+/-0.472) for {'C': 20, 'class_weight': 'balanced', 'decision_function_shape': 'ovo', 'degree': 7, 'gamma': 0.01, 'kernel': 'poly'}\n",
      "Train scores 0.857 (+/-0.013) Test scores 0.811 (+/-0.041) for {'C': 25, 'class_weight': 'balanced', 'decision_function_shape': 'ovo', 'degree': 5, 'gamma': 0.1, 'kernel': 'rbf'}\n",
      "Train scores 0.587 (+/-0.031) Test scores 0.568 (+/-0.055) for {'C': 25, 'class_weight': 'balanced', 'decision_function_shape': 'ovo', 'degree': 5, 'gamma': 0.1, 'kernel': 'sigmoid'}\n",
      "Train scores 0.863 (+/-0.012) Test scores 0.803 (+/-0.077) for {'C': 25, 'class_weight': 'balanced', 'decision_function_shape': 'ovo', 'degree': 5, 'gamma': 0.1, 'kernel': 'poly'}\n",
      "Train scores 0.822 (+/-0.021) Test scores 0.804 (+/-0.125) for {'C': 25, 'class_weight': 'balanced', 'decision_function_shape': 'ovo', 'degree': 5, 'gamma': 0.01, 'kernel': 'rbf'}\n",
      "Train scores 0.814 (+/-0.027) Test scores 0.801 (+/-0.125) for {'C': 25, 'class_weight': 'balanced', 'decision_function_shape': 'ovo', 'degree': 5, 'gamma': 0.01, 'kernel': 'sigmoid'}\n",
      "Train scores 0.678 (+/-0.477) Test scores 0.681 (+/-0.472) for {'C': 25, 'class_weight': 'balanced', 'decision_function_shape': 'ovo', 'degree': 5, 'gamma': 0.01, 'kernel': 'poly'}\n",
      "Train scores 0.857 (+/-0.013) Test scores 0.811 (+/-0.041) for {'C': 25, 'class_weight': 'balanced', 'decision_function_shape': 'ovo', 'degree': 6, 'gamma': 0.1, 'kernel': 'rbf'}\n",
      "Train scores 0.587 (+/-0.031) Test scores 0.568 (+/-0.055) for {'C': 25, 'class_weight': 'balanced', 'decision_function_shape': 'ovo', 'degree': 6, 'gamma': 0.1, 'kernel': 'sigmoid'}\n",
      "Train scores 0.861 (+/-0.006) Test scores 0.803 (+/-0.070) for {'C': 25, 'class_weight': 'balanced', 'decision_function_shape': 'ovo', 'degree': 6, 'gamma': 0.1, 'kernel': 'poly'}\n",
      "Train scores 0.822 (+/-0.021) Test scores 0.804 (+/-0.125) for {'C': 25, 'class_weight': 'balanced', 'decision_function_shape': 'ovo', 'degree': 6, 'gamma': 0.01, 'kernel': 'rbf'}\n",
      "Train scores 0.814 (+/-0.027) Test scores 0.801 (+/-0.125) for {'C': 25, 'class_weight': 'balanced', 'decision_function_shape': 'ovo', 'degree': 6, 'gamma': 0.01, 'kernel': 'sigmoid'}\n",
      "Train scores 0.678 (+/-0.477) Test scores 0.681 (+/-0.472) for {'C': 25, 'class_weight': 'balanced', 'decision_function_shape': 'ovo', 'degree': 6, 'gamma': 0.01, 'kernel': 'poly'}\n",
      "Train scores 0.857 (+/-0.013) Test scores 0.811 (+/-0.041) for {'C': 25, 'class_weight': 'balanced', 'decision_function_shape': 'ovo', 'degree': 7, 'gamma': 0.1, 'kernel': 'rbf'}\n",
      "Train scores 0.587 (+/-0.031) Test scores 0.568 (+/-0.055) for {'C': 25, 'class_weight': 'balanced', 'decision_function_shape': 'ovo', 'degree': 7, 'gamma': 0.1, 'kernel': 'sigmoid'}\n",
      "Train scores 0.860 (+/-0.010) Test scores 0.796 (+/-0.083) for {'C': 25, 'class_weight': 'balanced', 'decision_function_shape': 'ovo', 'degree': 7, 'gamma': 0.1, 'kernel': 'poly'}\n",
      "Train scores 0.822 (+/-0.021) Test scores 0.804 (+/-0.125) for {'C': 25, 'class_weight': 'balanced', 'decision_function_shape': 'ovo', 'degree': 7, 'gamma': 0.01, 'kernel': 'rbf'}\n",
      "Train scores 0.814 (+/-0.027) Test scores 0.801 (+/-0.125) for {'C': 25, 'class_weight': 'balanced', 'decision_function_shape': 'ovo', 'degree': 7, 'gamma': 0.01, 'kernel': 'sigmoid'}\n",
      "Train scores 0.678 (+/-0.477) Test scores 0.681 (+/-0.472) for {'C': 25, 'class_weight': 'balanced', 'decision_function_shape': 'ovo', 'degree': 7, 'gamma': 0.01, 'kernel': 'poly'}\n",
      "Train scores 0.860 (+/-0.015) Test scores 0.811 (+/-0.043) for {'C': 30, 'class_weight': 'balanced', 'decision_function_shape': 'ovo', 'degree': 5, 'gamma': 0.1, 'kernel': 'rbf'}\n",
      "Train scores 0.588 (+/-0.025) Test scores 0.570 (+/-0.064) for {'C': 30, 'class_weight': 'balanced', 'decision_function_shape': 'ovo', 'degree': 5, 'gamma': 0.1, 'kernel': 'sigmoid'}\n",
      "Train scores 0.867 (+/-0.011) Test scores 0.804 (+/-0.077) for {'C': 30, 'class_weight': 'balanced', 'decision_function_shape': 'ovo', 'degree': 5, 'gamma': 0.1, 'kernel': 'poly'}\n",
      "Train scores 0.826 (+/-0.020) Test scores 0.807 (+/-0.117) for {'C': 30, 'class_weight': 'balanced', 'decision_function_shape': 'ovo', 'degree': 5, 'gamma': 0.01, 'kernel': 'rbf'}\n",
      "Train scores 0.816 (+/-0.033) Test scores 0.803 (+/-0.117) for {'C': 30, 'class_weight': 'balanced', 'decision_function_shape': 'ovo', 'degree': 5, 'gamma': 0.01, 'kernel': 'sigmoid'}\n",
      "Train scores 0.797 (+/-0.001) Test scores 0.797 (+/-0.005) for {'C': 30, 'class_weight': 'balanced', 'decision_function_shape': 'ovo', 'degree': 5, 'gamma': 0.01, 'kernel': 'poly'}\n",
      "Train scores 0.860 (+/-0.015) Test scores 0.811 (+/-0.043) for {'C': 30, 'class_weight': 'balanced', 'decision_function_shape': 'ovo', 'degree': 6, 'gamma': 0.1, 'kernel': 'rbf'}\n",
      "Train scores 0.588 (+/-0.025) Test scores 0.570 (+/-0.064) for {'C': 30, 'class_weight': 'balanced', 'decision_function_shape': 'ovo', 'degree': 6, 'gamma': 0.1, 'kernel': 'sigmoid'}\n",
      "Train scores 0.864 (+/-0.007) Test scores 0.803 (+/-0.065) for {'C': 30, 'class_weight': 'balanced', 'decision_function_shape': 'ovo', 'degree': 6, 'gamma': 0.1, 'kernel': 'poly'}\n",
      "Train scores 0.826 (+/-0.020) Test scores 0.807 (+/-0.117) for {'C': 30, 'class_weight': 'balanced', 'decision_function_shape': 'ovo', 'degree': 6, 'gamma': 0.01, 'kernel': 'rbf'}\n",
      "Train scores 0.816 (+/-0.033) Test scores 0.803 (+/-0.117) for {'C': 30, 'class_weight': 'balanced', 'decision_function_shape': 'ovo', 'degree': 6, 'gamma': 0.01, 'kernel': 'sigmoid'}\n",
      "Train scores 0.797 (+/-0.001) Test scores 0.797 (+/-0.005) for {'C': 30, 'class_weight': 'balanced', 'decision_function_shape': 'ovo', 'degree': 6, 'gamma': 0.01, 'kernel': 'poly'}\n",
      "Train scores 0.860 (+/-0.015) Test scores 0.811 (+/-0.043) for {'C': 30, 'class_weight': 'balanced', 'decision_function_shape': 'ovo', 'degree': 7, 'gamma': 0.1, 'kernel': 'rbf'}\n",
      "Train scores 0.588 (+/-0.025) Test scores 0.570 (+/-0.064) for {'C': 30, 'class_weight': 'balanced', 'decision_function_shape': 'ovo', 'degree': 7, 'gamma': 0.1, 'kernel': 'sigmoid'}\n",
      "Train scores 0.862 (+/-0.007) Test scores 0.797 (+/-0.090) for {'C': 30, 'class_weight': 'balanced', 'decision_function_shape': 'ovo', 'degree': 7, 'gamma': 0.1, 'kernel': 'poly'}\n",
      "Train scores 0.826 (+/-0.020) Test scores 0.807 (+/-0.117) for {'C': 30, 'class_weight': 'balanced', 'decision_function_shape': 'ovo', 'degree': 7, 'gamma': 0.01, 'kernel': 'rbf'}\n",
      "Train scores 0.816 (+/-0.033) Test scores 0.803 (+/-0.117) for {'C': 30, 'class_weight': 'balanced', 'decision_function_shape': 'ovo', 'degree': 7, 'gamma': 0.01, 'kernel': 'sigmoid'}\n",
      "Train scores 0.797 (+/-0.001) Test scores 0.797 (+/-0.005) for {'C': 30, 'class_weight': 'balanced', 'decision_function_shape': 'ovo', 'degree': 7, 'gamma': 0.01, 'kernel': 'poly'}\n",
      "\n",
      "\n"
     ]
    }
   ],
   "source": [
    "support_vector_machine_hyperparameter_tuning(df1,y_train_1)"
   ]
  },
  {
   "cell_type": "code",
   "execution_count": 39,
   "metadata": {},
   "outputs": [],
   "source": [
    "from sklearn.metrics import cohen_kappa_score\n",
    "# pred = clf.predict(df2)\n",
    "\n",
    "# cohen_kappa_score(y_test, pred)\n",
    "\n",
    "def benchmark(name,clf):\n",
    "    print('_' * 80)\n",
    "\n",
    "    print(clf)\n",
    "    \n",
    "    clf.fit(df1, y_train_1)\n",
    "\n",
    "    pred = clf.predict(df2)\n",
    "    print(\"Predictions\")\n",
    "    print(pred)\n",
    "    \n",
    "    \n",
    "    train_score = metrics.accuracy_score(y_train_1, clf.predict(df1))\n",
    "    print(\"Train accuracy:   %0.5f\" % train_score)\n",
    "    score = metrics.accuracy_score(y_test_1, pred)\n",
    "    print(\"Test accuracy:   %0.5f\" % score)\n",
    "    \n",
    "    \n",
    "    train_rscore = metrics.recall_score(y_train_1, clf.predict(df1),average=\"micro\")\n",
    "    print(\"Train recall:   %0.5f\" % train_rscore)\n",
    "    rscore = metrics.recall_score(y_test_1, pred,average=\"micro\")\n",
    "    print(\"Test recall:   %0.5f\" % rscore)\n",
    "    \n",
    "    cohen_score = cohen_kappa_score(y_test_1, pred)\n",
    "    print(\"Cohen kappa score:   %0.5f\" % cohen_score)\n",
    "    \n",
    "    u = np.unique(y_test_1)\n",
    "    print(\"classification report:\")\n",
    "    print(metrics.classification_report(y_test_1, pred))\n",
    "\n",
    "    print(\"confusion matrix:\")\n",
    "    print(metrics.confusion_matrix(y_test_1, pred))\n",
    "\n",
    "    print()\n",
    "    \n",
    "    metrics.plot_confusion_matrix(clf,df2, y_test_1,values_format='g')  \n",
    "    plt.show()\n",
    "    \n",
    "    return clf\n",
    "#     dimensions = X_train.shape[1]\n",
    "#     clf_descr = str(clf).split('(')[0]\n",
    "#     clf_param= clf.get_params\n"
   ]
  },
  {
   "cell_type": "code",
   "execution_count": 66,
   "metadata": {},
   "outputs": [
    {
     "name": "stdout",
     "output_type": "stream",
     "text": [
      "Support Vector Machines\n",
      "________________________________________________________________________________\n",
      "SVC(C=10, break_ties=False, cache_size=200, class_weight='balanced', coef0=0.0,\n",
      "    decision_function_shape='ovo', degree=5, gamma=0.1, kernel='rbf',\n",
      "    max_iter=-1, probability=False, random_state=None, shrinking=True,\n",
      "    tol=0.001, verbose=False)\n",
      "Predictions\n",
      "[2 2 2 1 2 2 2 2 2 2 2 2 2 2 2 1 1 2 2 2 2 2 1 2 2 1 1 2 1 2 1 2 2 1 1 2 2\n",
      " 1 1 2 1 1 2 1 2 2 1 1 2 2 2 1 2 2 2 2 2 1 2 2 2 1 1 1 2 1 2 1 2 2 2 1 2 2\n",
      " 1 2 1 2 1 2 2 2 2 1 2 2 2 2 1 1 2 2 2 2 2 1 1 2 1 1 2 2 2 2 2 1 2 2 2 2 2\n",
      " 2 2 2 2 2 2 1 1 2 1 2 2 2 1 2 2 2 2 1 1 1 1 2 2 1 2 1 2 2 1 2 2 2 2 2 2 2\n",
      " 1 2 1 2 1 2 1 2 1 2 1 1 1 1 2 2 1 2 2 2 1 1 1 1 2 2 1 2 2 1 1 2 2 2 1 2 2\n",
      " 2 2 2 1 2 1 1 1 1 2 1 2 2 1 2 2 2 2 2 2 1 1 2 2 2 2 2 1 2 2 2 1 2 1 2 2 2\n",
      " 1 1 1 2 2 2 1 2 1 2 2 1 2 2 1 1 2 2 2 1 2 2 1 1 2 1 2]\n",
      "Train accuracy:   0.82819\n",
      "Test accuracy:   0.72691\n",
      "Train recall:   0.82819\n",
      "Test recall:   0.72691\n",
      "Cohen kappa score:   0.34326\n",
      "classification report:\n",
      "              precision    recall  f1-score   support\n",
      "\n",
      "           1       0.40      0.71      0.51        51\n",
      "           2       0.91      0.73      0.81       198\n",
      "\n",
      "    accuracy                           0.73       249\n",
      "   macro avg       0.66      0.72      0.66       249\n",
      "weighted avg       0.80      0.73      0.75       249\n",
      "\n",
      "confusion matrix:\n",
      "[[ 36  15]\n",
      " [ 53 145]]\n",
      "\n"
     ]
    },
    {
     "data": {
      "image/png": "[encoded data removed]",
      "text/plain": [
       "<Figure size 432x288 with 2 Axes>"
      ]
     },
     "metadata": {
      "needs_background": "light"
     },
     "output_type": "display_data"
    }
   ],
   "source": [
    "\n",
    "# {'C': 5, 'class_weight': 'balanced', 'decision_function_shape': 'ovo', 'degree': 5, 'gamma': 0.1, 'kernel': 'rbf'}\n",
    "    \n",
    "print(\"Support Vector Machines\")\n",
    "clf = benchmark(\"SVM\",SVC(C=10, kernel='rbf',gamma=0.1,class_weight=\"balanced\",decision_function_shape=\"ovo\",degree=5))"
   ]
  },
  {
   "cell_type": "code",
   "execution_count": null,
   "metadata": {},
   "outputs": [],
   "source": []
  },
  {
   "cell_type": "code",
   "execution_count": 49,
   "metadata": {},
   "outputs": [
    {
     "data": {
      "text/plain": [
       "<Figure size 640x480 with 2 Axes>"
      ]
     },
     "metadata": {},
     "output_type": "display_data"
    }
   ],
   "source": [
    "import matplotlib.pyplot as plt\n",
    "from sklearn.metrics import plot_confusion_matrix\n",
    "metrics.plot_confusion_matrix(clf, df2, y_test_1)  \n",
    "plt.show()"
   ]
  },
  {
   "cell_type": "code",
   "execution_count": 67,
   "metadata": {},
   "outputs": [
    {
     "name": "stdout",
     "output_type": "stream",
     "text": [
      "0.7494764372734355\n"
     ]
    }
   ],
   "source": [
    "y_predict = clf.predict(df2)\n",
    "\n",
    "print(metrics.f1_score(y_test_1,y_predict,average='weighted'))"
   ]
  },
  {
   "cell_type": "code",
   "execution_count": 68,
   "metadata": {},
   "outputs": [
    {
     "name": "stdout",
     "output_type": "stream",
     "text": [
      "[2 2 2 1 2 2 2 2 2 2 2 2 2 2 2 1 1 2 2 2 2 2 1 2 2 1 1 2 1 2 1 2 2 1 1 2 2\n",
      " 1 1 2 1 1 2 1 2 2 1 1 2 2 2 1 2 2 2 2 2 1 2 2 2 1 1 1 2 1 2 1 2 2 2 1 2 2\n",
      " 1 2 1 2 1 2 2 2 2 1 2 2 2 2 1 1 2 2 2 2 2 1 1 2 1 1 2 2 2 2 2 1 2 2 2 2 2\n",
      " 2 2 2 2 2 2 1 1 2 1 2 2 2 1 2 2 2 2 1 1 1 1 2 2 1 2 1 2 2 1 2 2 2 2 2 2 2\n",
      " 1 2 1 2 1 2 1 2 1 2 1 1 1 1 2 2 1 2 2 2 1 1 1 1 2 2 1 2 2 1 1 2 2 2 1 2 2\n",
      " 2 2 2 1 2 1 1 1 1 2 1 2 2 1 2 2 2 2 2 2 1 1 2 2 2 2 2 1 2 2 2 1 2 1 2 2 2\n",
      " 1 1 1 2 2 2 1 2 1 2 2 1 2 2 1 1 2 2 2 1 2 2 1 1 2 1 2]\n"
     ]
    }
   ],
   "source": [
    "print(y_predict)"
   ]
  },
  {
   "cell_type": "markdown",
   "metadata": {},
   "source": [
    "### Binary RF"
   ]
  },
  {
   "cell_type": "code",
   "execution_count": 67,
   "metadata": {},
   "outputs": [],
   "source": [
    "def rf_hyperparameter_tuning(X_train,y_train):\n",
    "    print(\"RandomForest for predicting rating\")   \n",
    "\n",
    "    # Set the parameters by cross-validation\n",
    "\n",
    "    tuned_parameters = [{'n_estimators': [200,250,300,350], 'criterion':[\"gini\",\"entropy\"],'max_features':[\"sqrt\", \"log2\"],\n",
    "                        'min_samples_leaf':[1,2,3],'n_jobs':[-1]}\n",
    "                   ]\n",
    "    scores = ['f1_weighted','recall_weighted']\n",
    "    \n",
    "    for score in scores:\n",
    "        print(\"# Tuning hyper-parameters for %s\" % score)\n",
    "        print()\n",
    "    \n",
    "        clf = GridSearchCV(RandomForestClassifier(), tuned_parameters, cv=5,n_jobs=-1,return_train_score = True,\n",
    "                           scoring='%s' % score)\n",
    "        clf.fit(X_train, y_train)\n",
    "    \n",
    "        print(\"Best parameters set found on development set:\")\n",
    "        print()\n",
    "        print(clf.best_params_)\n",
    "        print()\n",
    "        print(\"Grid scores on development set:\")\n",
    "        print()\n",
    "        means_test = clf.cv_results_['mean_test_score']\n",
    "        stds_test = clf.cv_results_['std_test_score']\n",
    "        means_train = clf.cv_results_['mean_train_score']\n",
    "        stds_train = clf.cv_results_['std_train_score']\n",
    "        for mean_train, std_train,mean_test,std_test, params in zip(means_train,stds_train,means_test, stds_test, clf.cv_results_['params']):\n",
    "            print(\"Train scores %0.3f (+/-%0.03f) Test scores %0.3f (+/-%0.03f) for %r\"\n",
    "                  % (mean_train, std_train * 2, mean_test, std_test * 2, params))\n",
    "        print()\n",
    "        print()"
   ]
  },
  {
   "cell_type": "code",
   "execution_count": 68,
   "metadata": {},
   "outputs": [
    {
     "name": "stdout",
     "output_type": "stream",
     "text": [
      "RandomForest for predicting rating\n",
      "# Tuning hyper-parameters for f1_weighted\n",
      "\n",
      "Best parameters set found on development set:\n",
      "\n",
      "{'criterion': 'gini', 'max_features': 'sqrt', 'min_samples_leaf': 2, 'n_estimators': 250, 'n_jobs': -1}\n",
      "\n",
      "Grid scores on development set:\n",
      "\n",
      "Train scores 1.000 (+/-0.000) Test scores 0.822 (+/-0.063) for {'criterion': 'gini', 'max_features': 'sqrt', 'min_samples_leaf': 1, 'n_estimators': 200, 'n_jobs': -1}\n",
      "Train scores 1.000 (+/-0.000) Test scores 0.828 (+/-0.069) for {'criterion': 'gini', 'max_features': 'sqrt', 'min_samples_leaf': 1, 'n_estimators': 250, 'n_jobs': -1}\n",
      "Train scores 1.000 (+/-0.000) Test scores 0.821 (+/-0.056) for {'criterion': 'gini', 'max_features': 'sqrt', 'min_samples_leaf': 1, 'n_estimators': 300, 'n_jobs': -1}\n",
      "Train scores 1.000 (+/-0.000) Test scores 0.825 (+/-0.049) for {'criterion': 'gini', 'max_features': 'sqrt', 'min_samples_leaf': 1, 'n_estimators': 350, 'n_jobs': -1}\n",
      "Train scores 0.984 (+/-0.005) Test scores 0.824 (+/-0.042) for {'criterion': 'gini', 'max_features': 'sqrt', 'min_samples_leaf': 2, 'n_estimators': 200, 'n_jobs': -1}\n",
      "Train scores 0.988 (+/-0.005) Test scores 0.830 (+/-0.053) for {'criterion': 'gini', 'max_features': 'sqrt', 'min_samples_leaf': 2, 'n_estimators': 250, 'n_jobs': -1}\n",
      "Train scores 0.988 (+/-0.010) Test scores 0.820 (+/-0.038) for {'criterion': 'gini', 'max_features': 'sqrt', 'min_samples_leaf': 2, 'n_estimators': 300, 'n_jobs': -1}\n",
      "Train scores 0.988 (+/-0.007) Test scores 0.823 (+/-0.053) for {'criterion': 'gini', 'max_features': 'sqrt', 'min_samples_leaf': 2, 'n_estimators': 350, 'n_jobs': -1}\n",
      "Train scores 0.953 (+/-0.003) Test scores 0.828 (+/-0.039) for {'criterion': 'gini', 'max_features': 'sqrt', 'min_samples_leaf': 3, 'n_estimators': 200, 'n_jobs': -1}\n",
      "Train scores 0.948 (+/-0.009) Test scores 0.818 (+/-0.040) for {'criterion': 'gini', 'max_features': 'sqrt', 'min_samples_leaf': 3, 'n_estimators': 250, 'n_jobs': -1}\n",
      "Train scores 0.951 (+/-0.010) Test scores 0.824 (+/-0.034) for {'criterion': 'gini', 'max_features': 'sqrt', 'min_samples_leaf': 3, 'n_estimators': 300, 'n_jobs': -1}\n",
      "Train scores 0.948 (+/-0.007) Test scores 0.821 (+/-0.041) for {'criterion': 'gini', 'max_features': 'sqrt', 'min_samples_leaf': 3, 'n_estimators': 350, 'n_jobs': -1}\n",
      "Train scores 1.000 (+/-0.000) Test scores 0.822 (+/-0.055) for {'criterion': 'gini', 'max_features': 'log2', 'min_samples_leaf': 1, 'n_estimators': 200, 'n_jobs': -1}\n",
      "Train scores 1.000 (+/-0.000) Test scores 0.813 (+/-0.051) for {'criterion': 'gini', 'max_features': 'log2', 'min_samples_leaf': 1, 'n_estimators': 250, 'n_jobs': -1}\n",
      "Train scores 1.000 (+/-0.000) Test scores 0.828 (+/-0.055) for {'criterion': 'gini', 'max_features': 'log2', 'min_samples_leaf': 1, 'n_estimators': 300, 'n_jobs': -1}\n",
      "Train scores 1.000 (+/-0.000) Test scores 0.821 (+/-0.053) for {'criterion': 'gini', 'max_features': 'log2', 'min_samples_leaf': 1, 'n_estimators': 350, 'n_jobs': -1}\n",
      "Train scores 0.986 (+/-0.005) Test scores 0.815 (+/-0.050) for {'criterion': 'gini', 'max_features': 'log2', 'min_samples_leaf': 2, 'n_estimators': 200, 'n_jobs': -1}\n",
      "Train scores 0.985 (+/-0.010) Test scores 0.821 (+/-0.044) for {'criterion': 'gini', 'max_features': 'log2', 'min_samples_leaf': 2, 'n_estimators': 250, 'n_jobs': -1}\n",
      "Train scores 0.985 (+/-0.004) Test scores 0.825 (+/-0.047) for {'criterion': 'gini', 'max_features': 'log2', 'min_samples_leaf': 2, 'n_estimators': 300, 'n_jobs': -1}\n",
      "Train scores 0.983 (+/-0.003) Test scores 0.824 (+/-0.045) for {'criterion': 'gini', 'max_features': 'log2', 'min_samples_leaf': 2, 'n_estimators': 350, 'n_jobs': -1}\n",
      "Train scores 0.946 (+/-0.007) Test scores 0.819 (+/-0.046) for {'criterion': 'gini', 'max_features': 'log2', 'min_samples_leaf': 3, 'n_estimators': 200, 'n_jobs': -1}\n",
      "Train scores 0.946 (+/-0.008) Test scores 0.825 (+/-0.032) for {'criterion': 'gini', 'max_features': 'log2', 'min_samples_leaf': 3, 'n_estimators': 250, 'n_jobs': -1}\n",
      "Train scores 0.947 (+/-0.008) Test scores 0.818 (+/-0.052) for {'criterion': 'gini', 'max_features': 'log2', 'min_samples_leaf': 3, 'n_estimators': 300, 'n_jobs': -1}\n",
      "Train scores 0.948 (+/-0.012) Test scores 0.819 (+/-0.042) for {'criterion': 'gini', 'max_features': 'log2', 'min_samples_leaf': 3, 'n_estimators': 350, 'n_jobs': -1}\n",
      "Train scores 1.000 (+/-0.000) Test scores 0.826 (+/-0.069) for {'criterion': 'entropy', 'max_features': 'sqrt', 'min_samples_leaf': 1, 'n_estimators': 200, 'n_jobs': -1}\n",
      "Train scores 1.000 (+/-0.000) Test scores 0.824 (+/-0.071) for {'criterion': 'entropy', 'max_features': 'sqrt', 'min_samples_leaf': 1, 'n_estimators': 250, 'n_jobs': -1}\n",
      "Train scores 1.000 (+/-0.000) Test scores 0.827 (+/-0.043) for {'criterion': 'entropy', 'max_features': 'sqrt', 'min_samples_leaf': 1, 'n_estimators': 300, 'n_jobs': -1}\n",
      "Train scores 1.000 (+/-0.000) Test scores 0.822 (+/-0.033) for {'criterion': 'entropy', 'max_features': 'sqrt', 'min_samples_leaf': 1, 'n_estimators': 350, 'n_jobs': -1}\n",
      "Train scores 0.995 (+/-0.003) Test scores 0.826 (+/-0.053) for {'criterion': 'entropy', 'max_features': 'sqrt', 'min_samples_leaf': 2, 'n_estimators': 200, 'n_jobs': -1}\n",
      "Train scores 0.997 (+/-0.004) Test scores 0.824 (+/-0.031) for {'criterion': 'entropy', 'max_features': 'sqrt', 'min_samples_leaf': 2, 'n_estimators': 250, 'n_jobs': -1}\n",
      "Train scores 0.996 (+/-0.003) Test scores 0.819 (+/-0.042) for {'criterion': 'entropy', 'max_features': 'sqrt', 'min_samples_leaf': 2, 'n_estimators': 300, 'n_jobs': -1}\n",
      "Train scores 0.996 (+/-0.003) Test scores 0.826 (+/-0.043) for {'criterion': 'entropy', 'max_features': 'sqrt', 'min_samples_leaf': 2, 'n_estimators': 350, 'n_jobs': -1}\n",
      "Train scores 0.966 (+/-0.008) Test scores 0.823 (+/-0.043) for {'criterion': 'entropy', 'max_features': 'sqrt', 'min_samples_leaf': 3, 'n_estimators': 200, 'n_jobs': -1}\n",
      "Train scores 0.969 (+/-0.010) Test scores 0.824 (+/-0.051) for {'criterion': 'entropy', 'max_features': 'sqrt', 'min_samples_leaf': 3, 'n_estimators': 250, 'n_jobs': -1}\n",
      "Train scores 0.971 (+/-0.007) Test scores 0.815 (+/-0.049) for {'criterion': 'entropy', 'max_features': 'sqrt', 'min_samples_leaf': 3, 'n_estimators': 300, 'n_jobs': -1}\n",
      "Train scores 0.974 (+/-0.005) Test scores 0.825 (+/-0.048) for {'criterion': 'entropy', 'max_features': 'sqrt', 'min_samples_leaf': 3, 'n_estimators': 350, 'n_jobs': -1}\n",
      "Train scores 1.000 (+/-0.000) Test scores 0.825 (+/-0.049) for {'criterion': 'entropy', 'max_features': 'log2', 'min_samples_leaf': 1, 'n_estimators': 200, 'n_jobs': -1}\n",
      "Train scores 1.000 (+/-0.000) Test scores 0.824 (+/-0.047) for {'criterion': 'entropy', 'max_features': 'log2', 'min_samples_leaf': 1, 'n_estimators': 250, 'n_jobs': -1}\n",
      "Train scores 1.000 (+/-0.000) Test scores 0.821 (+/-0.047) for {'criterion': 'entropy', 'max_features': 'log2', 'min_samples_leaf': 1, 'n_estimators': 300, 'n_jobs': -1}\n",
      "Train scores 1.000 (+/-0.000) Test scores 0.821 (+/-0.043) for {'criterion': 'entropy', 'max_features': 'log2', 'min_samples_leaf': 1, 'n_estimators': 350, 'n_jobs': -1}\n",
      "Train scores 0.995 (+/-0.004) Test scores 0.815 (+/-0.053) for {'criterion': 'entropy', 'max_features': 'log2', 'min_samples_leaf': 2, 'n_estimators': 200, 'n_jobs': -1}\n",
      "Train scores 0.996 (+/-0.003) Test scores 0.825 (+/-0.057) for {'criterion': 'entropy', 'max_features': 'log2', 'min_samples_leaf': 2, 'n_estimators': 250, 'n_jobs': -1}\n",
      "Train scores 0.994 (+/-0.002) Test scores 0.823 (+/-0.046) for {'criterion': 'entropy', 'max_features': 'log2', 'min_samples_leaf': 2, 'n_estimators': 300, 'n_jobs': -1}\n",
      "Train scores 0.995 (+/-0.002) Test scores 0.814 (+/-0.037) for {'criterion': 'entropy', 'max_features': 'log2', 'min_samples_leaf': 2, 'n_estimators': 350, 'n_jobs': -1}\n",
      "Train scores 0.965 (+/-0.009) Test scores 0.813 (+/-0.053) for {'criterion': 'entropy', 'max_features': 'log2', 'min_samples_leaf': 3, 'n_estimators': 200, 'n_jobs': -1}\n",
      "Train scores 0.965 (+/-0.010) Test scores 0.825 (+/-0.057) for {'criterion': 'entropy', 'max_features': 'log2', 'min_samples_leaf': 3, 'n_estimators': 250, 'n_jobs': -1}\n",
      "Train scores 0.962 (+/-0.012) Test scores 0.820 (+/-0.062) for {'criterion': 'entropy', 'max_features': 'log2', 'min_samples_leaf': 3, 'n_estimators': 300, 'n_jobs': -1}\n",
      "Train scores 0.963 (+/-0.010) Test scores 0.817 (+/-0.038) for {'criterion': 'entropy', 'max_features': 'log2', 'min_samples_leaf': 3, 'n_estimators': 350, 'n_jobs': -1}\n",
      "\n",
      "\n",
      "# Tuning hyper-parameters for recall_weighted\n",
      "\n"
     ]
    },
    {
     "name": "stdout",
     "output_type": "stream",
     "text": [
      "Best parameters set found on development set:\n",
      "\n",
      "{'criterion': 'gini', 'max_features': 'sqrt', 'min_samples_leaf': 2, 'n_estimators': 300, 'n_jobs': -1}\n",
      "\n",
      "Grid scores on development set:\n",
      "\n",
      "Train scores 1.000 (+/-0.000) Test scores 0.851 (+/-0.044) for {'criterion': 'gini', 'max_features': 'sqrt', 'min_samples_leaf': 1, 'n_estimators': 200, 'n_jobs': -1}\n",
      "Train scores 1.000 (+/-0.000) Test scores 0.846 (+/-0.038) for {'criterion': 'gini', 'max_features': 'sqrt', 'min_samples_leaf': 1, 'n_estimators': 250, 'n_jobs': -1}\n",
      "Train scores 1.000 (+/-0.000) Test scores 0.844 (+/-0.040) for {'criterion': 'gini', 'max_features': 'sqrt', 'min_samples_leaf': 1, 'n_estimators': 300, 'n_jobs': -1}\n",
      "Train scores 1.000 (+/-0.000) Test scores 0.847 (+/-0.052) for {'criterion': 'gini', 'max_features': 'sqrt', 'min_samples_leaf': 1, 'n_estimators': 350, 'n_jobs': -1}\n",
      "Train scores 0.987 (+/-0.003) Test scores 0.850 (+/-0.039) for {'criterion': 'gini', 'max_features': 'sqrt', 'min_samples_leaf': 2, 'n_estimators': 200, 'n_jobs': -1}\n",
      "Train scores 0.988 (+/-0.008) Test scores 0.847 (+/-0.039) for {'criterion': 'gini', 'max_features': 'sqrt', 'min_samples_leaf': 2, 'n_estimators': 250, 'n_jobs': -1}\n",
      "Train scores 0.985 (+/-0.002) Test scores 0.855 (+/-0.045) for {'criterion': 'gini', 'max_features': 'sqrt', 'min_samples_leaf': 2, 'n_estimators': 300, 'n_jobs': -1}\n",
      "Train scores 0.988 (+/-0.003) Test scores 0.846 (+/-0.046) for {'criterion': 'gini', 'max_features': 'sqrt', 'min_samples_leaf': 2, 'n_estimators': 350, 'n_jobs': -1}\n",
      "Train scores 0.953 (+/-0.006) Test scores 0.847 (+/-0.037) for {'criterion': 'gini', 'max_features': 'sqrt', 'min_samples_leaf': 3, 'n_estimators': 200, 'n_jobs': -1}\n",
      "Train scores 0.953 (+/-0.010) Test scores 0.848 (+/-0.043) for {'criterion': 'gini', 'max_features': 'sqrt', 'min_samples_leaf': 3, 'n_estimators': 250, 'n_jobs': -1}\n",
      "Train scores 0.951 (+/-0.008) Test scores 0.848 (+/-0.044) for {'criterion': 'gini', 'max_features': 'sqrt', 'min_samples_leaf': 3, 'n_estimators': 300, 'n_jobs': -1}\n",
      "Train scores 0.953 (+/-0.008) Test scores 0.848 (+/-0.039) for {'criterion': 'gini', 'max_features': 'sqrt', 'min_samples_leaf': 3, 'n_estimators': 350, 'n_jobs': -1}\n",
      "Train scores 1.000 (+/-0.000) Test scores 0.848 (+/-0.041) for {'criterion': 'gini', 'max_features': 'log2', 'min_samples_leaf': 1, 'n_estimators': 200, 'n_jobs': -1}\n",
      "Train scores 1.000 (+/-0.000) Test scores 0.850 (+/-0.032) for {'criterion': 'gini', 'max_features': 'log2', 'min_samples_leaf': 1, 'n_estimators': 250, 'n_jobs': -1}\n",
      "Train scores 1.000 (+/-0.000) Test scores 0.848 (+/-0.037) for {'criterion': 'gini', 'max_features': 'log2', 'min_samples_leaf': 1, 'n_estimators': 300, 'n_jobs': -1}\n",
      "Train scores 1.000 (+/-0.000) Test scores 0.847 (+/-0.036) for {'criterion': 'gini', 'max_features': 'log2', 'min_samples_leaf': 1, 'n_estimators': 350, 'n_jobs': -1}\n",
      "Train scores 0.986 (+/-0.003) Test scores 0.850 (+/-0.036) for {'criterion': 'gini', 'max_features': 'log2', 'min_samples_leaf': 2, 'n_estimators': 200, 'n_jobs': -1}\n",
      "Train scores 0.986 (+/-0.005) Test scores 0.847 (+/-0.026) for {'criterion': 'gini', 'max_features': 'log2', 'min_samples_leaf': 2, 'n_estimators': 250, 'n_jobs': -1}\n",
      "Train scores 0.985 (+/-0.003) Test scores 0.848 (+/-0.036) for {'criterion': 'gini', 'max_features': 'log2', 'min_samples_leaf': 2, 'n_estimators': 300, 'n_jobs': -1}\n",
      "Train scores 0.986 (+/-0.006) Test scores 0.848 (+/-0.031) for {'criterion': 'gini', 'max_features': 'log2', 'min_samples_leaf': 2, 'n_estimators': 350, 'n_jobs': -1}\n",
      "Train scores 0.948 (+/-0.008) Test scores 0.844 (+/-0.030) for {'criterion': 'gini', 'max_features': 'log2', 'min_samples_leaf': 3, 'n_estimators': 200, 'n_jobs': -1}\n",
      "Train scores 0.950 (+/-0.006) Test scores 0.848 (+/-0.028) for {'criterion': 'gini', 'max_features': 'log2', 'min_samples_leaf': 3, 'n_estimators': 250, 'n_jobs': -1}\n",
      "Train scores 0.949 (+/-0.005) Test scores 0.846 (+/-0.037) for {'criterion': 'gini', 'max_features': 'log2', 'min_samples_leaf': 3, 'n_estimators': 300, 'n_jobs': -1}\n",
      "Train scores 0.950 (+/-0.007) Test scores 0.846 (+/-0.033) for {'criterion': 'gini', 'max_features': 'log2', 'min_samples_leaf': 3, 'n_estimators': 350, 'n_jobs': -1}\n",
      "Train scores 1.000 (+/-0.000) Test scores 0.847 (+/-0.039) for {'criterion': 'entropy', 'max_features': 'sqrt', 'min_samples_leaf': 1, 'n_estimators': 200, 'n_jobs': -1}\n",
      "Train scores 1.000 (+/-0.000) Test scores 0.840 (+/-0.032) for {'criterion': 'entropy', 'max_features': 'sqrt', 'min_samples_leaf': 1, 'n_estimators': 250, 'n_jobs': -1}\n",
      "Train scores 1.000 (+/-0.000) Test scores 0.844 (+/-0.037) for {'criterion': 'entropy', 'max_features': 'sqrt', 'min_samples_leaf': 1, 'n_estimators': 300, 'n_jobs': -1}\n",
      "Train scores 1.000 (+/-0.000) Test scores 0.846 (+/-0.035) for {'criterion': 'entropy', 'max_features': 'sqrt', 'min_samples_leaf': 1, 'n_estimators': 350, 'n_jobs': -1}\n",
      "Train scores 0.997 (+/-0.002) Test scores 0.850 (+/-0.034) for {'criterion': 'entropy', 'max_features': 'sqrt', 'min_samples_leaf': 2, 'n_estimators': 200, 'n_jobs': -1}\n",
      "Train scores 0.996 (+/-0.004) Test scores 0.852 (+/-0.031) for {'criterion': 'entropy', 'max_features': 'sqrt', 'min_samples_leaf': 2, 'n_estimators': 250, 'n_jobs': -1}\n",
      "Train scores 0.998 (+/-0.002) Test scores 0.851 (+/-0.044) for {'criterion': 'entropy', 'max_features': 'sqrt', 'min_samples_leaf': 2, 'n_estimators': 300, 'n_jobs': -1}\n",
      "Train scores 0.995 (+/-0.003) Test scores 0.851 (+/-0.027) for {'criterion': 'entropy', 'max_features': 'sqrt', 'min_samples_leaf': 2, 'n_estimators': 350, 'n_jobs': -1}\n",
      "Train scores 0.972 (+/-0.005) Test scores 0.846 (+/-0.037) for {'criterion': 'entropy', 'max_features': 'sqrt', 'min_samples_leaf': 3, 'n_estimators': 200, 'n_jobs': -1}\n",
      "Train scores 0.969 (+/-0.008) Test scores 0.844 (+/-0.043) for {'criterion': 'entropy', 'max_features': 'sqrt', 'min_samples_leaf': 3, 'n_estimators': 250, 'n_jobs': -1}\n",
      "Train scores 0.971 (+/-0.009) Test scores 0.850 (+/-0.032) for {'criterion': 'entropy', 'max_features': 'sqrt', 'min_samples_leaf': 3, 'n_estimators': 300, 'n_jobs': -1}\n",
      "Train scores 0.970 (+/-0.003) Test scores 0.847 (+/-0.033) for {'criterion': 'entropy', 'max_features': 'sqrt', 'min_samples_leaf': 3, 'n_estimators': 350, 'n_jobs': -1}\n",
      "Train scores 1.000 (+/-0.000) Test scores 0.851 (+/-0.038) for {'criterion': 'entropy', 'max_features': 'log2', 'min_samples_leaf': 1, 'n_estimators': 200, 'n_jobs': -1}\n",
      "Train scores 1.000 (+/-0.000) Test scores 0.846 (+/-0.038) for {'criterion': 'entropy', 'max_features': 'log2', 'min_samples_leaf': 1, 'n_estimators': 250, 'n_jobs': -1}\n",
      "Train scores 1.000 (+/-0.000) Test scores 0.847 (+/-0.040) for {'criterion': 'entropy', 'max_features': 'log2', 'min_samples_leaf': 1, 'n_estimators': 300, 'n_jobs': -1}\n",
      "Train scores 1.000 (+/-0.000) Test scores 0.846 (+/-0.031) for {'criterion': 'entropy', 'max_features': 'log2', 'min_samples_leaf': 1, 'n_estimators': 350, 'n_jobs': -1}\n",
      "Train scores 0.995 (+/-0.004) Test scores 0.842 (+/-0.036) for {'criterion': 'entropy', 'max_features': 'log2', 'min_samples_leaf': 2, 'n_estimators': 200, 'n_jobs': -1}\n",
      "Train scores 0.996 (+/-0.002) Test scores 0.846 (+/-0.036) for {'criterion': 'entropy', 'max_features': 'log2', 'min_samples_leaf': 2, 'n_estimators': 250, 'n_jobs': -1}\n",
      "Train scores 0.995 (+/-0.003) Test scores 0.848 (+/-0.037) for {'criterion': 'entropy', 'max_features': 'log2', 'min_samples_leaf': 2, 'n_estimators': 300, 'n_jobs': -1}\n",
      "Train scores 0.996 (+/-0.003) Test scores 0.850 (+/-0.030) for {'criterion': 'entropy', 'max_features': 'log2', 'min_samples_leaf': 2, 'n_estimators': 350, 'n_jobs': -1}\n",
      "Train scores 0.969 (+/-0.005) Test scores 0.846 (+/-0.031) for {'criterion': 'entropy', 'max_features': 'log2', 'min_samples_leaf': 3, 'n_estimators': 200, 'n_jobs': -1}\n",
      "Train scores 0.966 (+/-0.007) Test scores 0.847 (+/-0.031) for {'criterion': 'entropy', 'max_features': 'log2', 'min_samples_leaf': 3, 'n_estimators': 250, 'n_jobs': -1}\n",
      "Train scores 0.966 (+/-0.006) Test scores 0.850 (+/-0.029) for {'criterion': 'entropy', 'max_features': 'log2', 'min_samples_leaf': 3, 'n_estimators': 300, 'n_jobs': -1}\n",
      "Train scores 0.966 (+/-0.005) Test scores 0.846 (+/-0.036) for {'criterion': 'entropy', 'max_features': 'log2', 'min_samples_leaf': 3, 'n_estimators': 350, 'n_jobs': -1}\n",
      "\n",
      "\n"
     ]
    }
   ],
   "source": [
    "rf_hyperparameter_tuning(df1,y_train_1)"
   ]
  },
  {
   "cell_type": "code",
   "execution_count": 41,
   "metadata": {},
   "outputs": [
    {
     "name": "stdout",
     "output_type": "stream",
     "text": [
      "RandomForest Classification\n",
      "________________________________________________________________________________\n",
      "RandomForestClassifier(bootstrap=True, ccp_alpha=0.0, class_weight=None,\n",
      "                       criterion='gini', max_depth=None, max_features='sqrt',\n",
      "                       max_leaf_nodes=None, max_samples=None,\n",
      "                       min_impurity_decrease=0.0, min_impurity_split=None,\n",
      "                       min_samples_leaf=2, min_samples_split=2,\n",
      "                       min_weight_fraction_leaf=0.0, n_estimators=250,\n",
      "                       n_jobs=-1, oob_score=False, random_state=None, verbose=0,\n",
      "                       warm_start=False)\n",
      "Predictions\n",
      "[2 2 2 2 2 2 2 2 2 2 2 2 2 2 2 2 1 2 2 2 2 2 1 2 2 2 2 2 1 2 2 2 2 2 2 2 2\n",
      " 2 1 2 2 2 2 2 2 2 2 2 2 2 2 2 2 2 2 2 2 1 2 2 2 2 2 2 2 2 2 2 2 2 2 1 2 2\n",
      " 2 2 1 2 1 2 2 2 2 1 2 2 2 2 2 2 2 2 2 2 2 2 1 2 2 1 2 2 2 2 2 2 2 2 2 2 2\n",
      " 2 2 2 2 2 2 2 2 2 2 2 2 2 2 2 2 2 2 2 2 2 2 2 2 2 2 1 2 2 2 2 2 2 2 2 2 2\n",
      " 2 2 1 2 1 2 2 2 2 2 2 2 2 1 2 2 2 2 2 2 2 2 2 2 2 2 2 2 2 2 2 2 2 2 2 2 2\n",
      " 2 2 2 2 2 2 2 1 2 2 2 2 2 2 2 2 2 2 2 2 2 2 2 2 2 2 2 2 2 2 2 1 2 2 2 2 2\n",
      " 1 2 2 2 2 2 2 2 2 2 2 2 2 2 2 2 2 2 2 2 2 2 2 1 2 2 2]\n",
      "Train accuracy:   0.98926\n",
      "Test accuracy:   0.83936\n",
      "Train recall:   0.98926\n",
      "Test recall:   0.83936\n",
      "Cohen kappa score:   0.35709\n",
      "classification report:\n",
      "              precision    recall  f1-score   support\n",
      "\n",
      "           1       0.79      0.29      0.43        51\n",
      "           2       0.84      0.98      0.91       198\n",
      "\n",
      "    accuracy                           0.84       249\n",
      "   macro avg       0.82      0.64      0.67       249\n",
      "weighted avg       0.83      0.84      0.81       249\n",
      "\n",
      "confusion matrix:\n",
      "[[ 15  36]\n",
      " [  4 194]]\n",
      "\n"
     ]
    },
    {
     "data": {
      "image/png": "[encoded data removed]",
      "text/plain": [
       "<Figure size 432x288 with 2 Axes>"
      ]
     },
     "metadata": {
      "needs_background": "light"
     },
     "output_type": "display_data"
    }
   ],
   "source": [
    "\n",
    "# {'criterion': 'entropy', 'max_features': 'sqrt', 'min_samples_leaf': 1, 'n_estimators': 200, 'n_jobs': -1}\n",
    "    \n",
    "print(\"RandomForest Classification\")\n",
    "clf = benchmark(\"RF\",RandomForestClassifier(min_samples_leaf=2, criterion='gini',n_estimators=250,max_features=\"sqrt\",n_jobs=-1))"
   ]
  },
  {
   "cell_type": "code",
   "execution_count": 44,
   "metadata": {},
   "outputs": [
    {
     "name": "stdout",
     "output_type": "stream",
     "text": [
      "0.8086444576704683\n"
     ]
    }
   ],
   "source": [
    "y_predict = clf.predict(df2)\n",
    "\n",
    "print(metrics.f1_score(y_test_1,y_predict,average='weighted'))"
   ]
  },
  {
   "cell_type": "code",
   "execution_count": 99,
   "metadata": {},
   "outputs": [
    {
     "data": {
      "text/plain": [
       "(249,)"
      ]
     },
     "execution_count": 99,
     "metadata": {},
     "output_type": "execute_result"
    }
   ],
   "source": [
    "y_predict.shape"
   ]
  },
  {
   "cell_type": "code",
   "execution_count": null,
   "metadata": {},
   "outputs": [],
   "source": []
  },
  {
   "cell_type": "markdown",
   "metadata": {},
   "source": [
    "## Minority classes"
   ]
  },
  {
   "cell_type": "code",
   "execution_count": null,
   "metadata": {},
   "outputs": [],
   "source": []
  },
  {
   "cell_type": "code",
   "execution_count": 45,
   "metadata": {},
   "outputs": [],
   "source": [
    "df1 = pd.DataFrame(df1)"
   ]
  },
  {
   "cell_type": "code",
   "execution_count": 46,
   "metadata": {},
   "outputs": [],
   "source": [
    "df2 = pd.DataFrame(df2)"
   ]
  },
  {
   "cell_type": "code",
   "execution_count": 47,
   "metadata": {},
   "outputs": [],
   "source": [
    "x_train_minor=[]\n",
    "y_train_minor=[]\n",
    "for i in range (0,train_rowcount):\n",
    "    if y_train[i] != 2:\n",
    "        x_train_minor.append(df1.iloc[i,:].values.tolist())\n",
    "        y_train_minor.append(y_train[i])\n",
    "        \n",
    "        "
   ]
  },
  {
   "cell_type": "code",
   "execution_count": 48,
   "metadata": {},
   "outputs": [],
   "source": [
    "x_train_minor_df = pd.DataFrame(x_train_minor)"
   ]
  },
  {
   "cell_type": "code",
   "execution_count": 49,
   "metadata": {},
   "outputs": [
    {
     "data": {
      "text/html": [
       "<div>\n",
       "<style scoped>\n",
       "    .dataframe tbody tr th:only-of-type {\n",
       "        vertical-align: middle;\n",
       "    }\n",
       "\n",
       "    .dataframe tbody tr th {\n",
       "        vertical-align: top;\n",
       "    }\n",
       "\n",
       "    .dataframe thead th {\n",
       "        text-align: right;\n",
       "    }\n",
       "</style>\n",
       "<table border=\"1\" class=\"dataframe\">\n",
       "  <thead>\n",
       "    <tr style=\"text-align: right;\">\n",
       "      <th></th>\n",
       "      <th>0</th>\n",
       "      <th>1</th>\n",
       "      <th>2</th>\n",
       "      <th>3</th>\n",
       "      <th>4</th>\n",
       "      <th>5</th>\n",
       "      <th>6</th>\n",
       "      <th>7</th>\n",
       "      <th>8</th>\n",
       "      <th>9</th>\n",
       "      <th>...</th>\n",
       "      <th>46</th>\n",
       "      <th>47</th>\n",
       "      <th>48</th>\n",
       "      <th>49</th>\n",
       "      <th>50</th>\n",
       "      <th>51</th>\n",
       "      <th>52</th>\n",
       "      <th>53</th>\n",
       "      <th>54</th>\n",
       "      <th>55</th>\n",
       "    </tr>\n",
       "  </thead>\n",
       "  <tbody>\n",
       "    <tr>\n",
       "      <th>0</th>\n",
       "      <td>0.181360</td>\n",
       "      <td>0.162402</td>\n",
       "      <td>0.110862</td>\n",
       "      <td>0.092058</td>\n",
       "      <td>0.056259</td>\n",
       "      <td>0.207127</td>\n",
       "      <td>0.214004</td>\n",
       "      <td>0.075415</td>\n",
       "      <td>0.040640</td>\n",
       "      <td>0.100742</td>\n",
       "      <td>...</td>\n",
       "      <td>0.099698</td>\n",
       "      <td>0.698630</td>\n",
       "      <td>0.368421</td>\n",
       "      <td>0.698980</td>\n",
       "      <td>0.795761</td>\n",
       "      <td>0.852113</td>\n",
       "      <td>0.810680</td>\n",
       "      <td>0.534031</td>\n",
       "      <td>0.815592</td>\n",
       "      <td>0.796407</td>\n",
       "    </tr>\n",
       "    <tr>\n",
       "      <th>1</th>\n",
       "      <td>0.346348</td>\n",
       "      <td>0.190945</td>\n",
       "      <td>0.180291</td>\n",
       "      <td>0.142599</td>\n",
       "      <td>0.389592</td>\n",
       "      <td>0.153675</td>\n",
       "      <td>0.392505</td>\n",
       "      <td>0.158371</td>\n",
       "      <td>0.278325</td>\n",
       "      <td>0.196182</td>\n",
       "      <td>...</td>\n",
       "      <td>0.151057</td>\n",
       "      <td>0.630137</td>\n",
       "      <td>0.263158</td>\n",
       "      <td>0.627551</td>\n",
       "      <td>0.799615</td>\n",
       "      <td>0.830986</td>\n",
       "      <td>0.757282</td>\n",
       "      <td>0.581152</td>\n",
       "      <td>0.826087</td>\n",
       "      <td>0.784431</td>\n",
       "    </tr>\n",
       "    <tr>\n",
       "      <th>2</th>\n",
       "      <td>0.074307</td>\n",
       "      <td>0.096457</td>\n",
       "      <td>0.151176</td>\n",
       "      <td>0.027076</td>\n",
       "      <td>0.143460</td>\n",
       "      <td>0.153675</td>\n",
       "      <td>0.284024</td>\n",
       "      <td>0.297134</td>\n",
       "      <td>0.109606</td>\n",
       "      <td>0.063627</td>\n",
       "      <td>...</td>\n",
       "      <td>0.148036</td>\n",
       "      <td>0.684932</td>\n",
       "      <td>0.263158</td>\n",
       "      <td>0.734694</td>\n",
       "      <td>0.751445</td>\n",
       "      <td>0.795775</td>\n",
       "      <td>0.733010</td>\n",
       "      <td>0.643979</td>\n",
       "      <td>0.715142</td>\n",
       "      <td>0.805389</td>\n",
       "    </tr>\n",
       "    <tr>\n",
       "      <th>3</th>\n",
       "      <td>0.099496</td>\n",
       "      <td>0.077756</td>\n",
       "      <td>0.073908</td>\n",
       "      <td>0.054152</td>\n",
       "      <td>0.060478</td>\n",
       "      <td>0.062361</td>\n",
       "      <td>0.114398</td>\n",
       "      <td>0.042232</td>\n",
       "      <td>0.039409</td>\n",
       "      <td>0.046660</td>\n",
       "      <td>...</td>\n",
       "      <td>0.069486</td>\n",
       "      <td>0.575342</td>\n",
       "      <td>0.263158</td>\n",
       "      <td>0.617347</td>\n",
       "      <td>0.753372</td>\n",
       "      <td>0.802817</td>\n",
       "      <td>0.757282</td>\n",
       "      <td>0.528796</td>\n",
       "      <td>0.767616</td>\n",
       "      <td>0.745509</td>\n",
       "    </tr>\n",
       "    <tr>\n",
       "      <th>4</th>\n",
       "      <td>0.287154</td>\n",
       "      <td>0.184055</td>\n",
       "      <td>0.207167</td>\n",
       "      <td>0.093863</td>\n",
       "      <td>0.395218</td>\n",
       "      <td>0.252784</td>\n",
       "      <td>0.368836</td>\n",
       "      <td>0.260935</td>\n",
       "      <td>0.176108</td>\n",
       "      <td>0.173913</td>\n",
       "      <td>...</td>\n",
       "      <td>0.214502</td>\n",
       "      <td>0.890411</td>\n",
       "      <td>0.368421</td>\n",
       "      <td>0.785714</td>\n",
       "      <td>0.816956</td>\n",
       "      <td>0.906103</td>\n",
       "      <td>0.834951</td>\n",
       "      <td>0.685864</td>\n",
       "      <td>0.869565</td>\n",
       "      <td>0.859281</td>\n",
       "    </tr>\n",
       "  </tbody>\n",
       "</table>\n",
       "<p>5 rows × 56 columns</p>\n",
       "</div>"
      ],
      "text/plain": [
       "         0         1         2         3         4         5         6   \\\n",
       "0  0.181360  0.162402  0.110862  0.092058  0.056259  0.207127  0.214004   \n",
       "1  0.346348  0.190945  0.180291  0.142599  0.389592  0.153675  0.392505   \n",
       "2  0.074307  0.096457  0.151176  0.027076  0.143460  0.153675  0.284024   \n",
       "3  0.099496  0.077756  0.073908  0.054152  0.060478  0.062361  0.114398   \n",
       "4  0.287154  0.184055  0.207167  0.093863  0.395218  0.252784  0.368836   \n",
       "\n",
       "         7         8         9   ...        46        47        48        49  \\\n",
       "0  0.075415  0.040640  0.100742  ...  0.099698  0.698630  0.368421  0.698980   \n",
       "1  0.158371  0.278325  0.196182  ...  0.151057  0.630137  0.263158  0.627551   \n",
       "2  0.297134  0.109606  0.063627  ...  0.148036  0.684932  0.263158  0.734694   \n",
       "3  0.042232  0.039409  0.046660  ...  0.069486  0.575342  0.263158  0.617347   \n",
       "4  0.260935  0.176108  0.173913  ...  0.214502  0.890411  0.368421  0.785714   \n",
       "\n",
       "         50        51        52        53        54        55  \n",
       "0  0.795761  0.852113  0.810680  0.534031  0.815592  0.796407  \n",
       "1  0.799615  0.830986  0.757282  0.581152  0.826087  0.784431  \n",
       "2  0.751445  0.795775  0.733010  0.643979  0.715142  0.805389  \n",
       "3  0.753372  0.802817  0.757282  0.528796  0.767616  0.745509  \n",
       "4  0.816956  0.906103  0.834951  0.685864  0.869565  0.859281  \n",
       "\n",
       "[5 rows x 56 columns]"
      ]
     },
     "execution_count": 49,
     "metadata": {},
     "output_type": "execute_result"
    }
   ],
   "source": [
    "x_train_minor_df.head()"
   ]
  },
  {
   "cell_type": "code",
   "execution_count": 52,
   "metadata": {},
   "outputs": [
    {
     "data": {
      "text/plain": [
       "51"
      ]
     },
     "execution_count": 52,
     "metadata": {},
     "output_type": "execute_result"
    }
   ],
   "source": [
    "len(y_test_minor)"
   ]
  },
  {
   "cell_type": "code",
   "execution_count": 51,
   "metadata": {},
   "outputs": [],
   "source": [
    "x_test_minor=[]\n",
    "y_test_minor=[]\n",
    "for i in range (0,test_rowcount):\n",
    "    if y_test[i] != 2:\n",
    "        x_test_minor.append(df2.iloc[i,:].values.tolist())\n",
    "        y_test_minor.append(y_test[i])\n",
    "x_test_minor_df = pd.DataFrame(x_test_minor)"
   ]
  },
  {
   "cell_type": "markdown",
   "metadata": {},
   "source": [
    "### Minority SVM"
   ]
  },
  {
   "cell_type": "code",
   "execution_count": 62,
   "metadata": {},
   "outputs": [
    {
     "name": "stdout",
     "output_type": "stream",
     "text": [
      "SVM for predicting rating\n",
      "# Tuning hyper-parameters for f1_weighted\n",
      "\n"
     ]
    },
    {
     "name": "stderr",
     "output_type": "stream",
     "text": [
      "D:\\Softwares\\Anaconda\\lib\\site-packages\\sklearn\\model_selection\\_split.py:667: UserWarning: The least populated class in y has only 2 members, which is less than n_splits=5.\n",
      "  % (min_groups, self.n_splits)), UserWarning)\n"
     ]
    },
    {
     "name": "stdout",
     "output_type": "stream",
     "text": [
      "Best parameters set found on development set:\n",
      "\n",
      "{'C': 30, 'class_weight': 'balanced', 'decision_function_shape': 'ovo', 'degree': 5, 'gamma': 0.1, 'kernel': 'rbf'}\n",
      "\n",
      "Grid scores on development set:\n",
      "\n",
      "Train scores 0.805 (+/-0.026) Test scores 0.702 (+/-0.091) for {'C': 10, 'class_weight': 'balanced', 'decision_function_shape': 'ovo', 'degree': 5, 'gamma': 0.1, 'kernel': 'rbf'}\n",
      "Train scores 0.687 (+/-0.096) Test scores 0.594 (+/-0.102) for {'C': 10, 'class_weight': 'balanced', 'decision_function_shape': 'ovo', 'degree': 5, 'gamma': 0.1, 'kernel': 'sigmoid'}\n",
      "Train scores 0.635 (+/-0.097) Test scores 0.510 (+/-0.133) for {'C': 10, 'class_weight': 'balanced', 'decision_function_shape': 'ovo', 'degree': 5, 'gamma': 0.1, 'kernel': 'poly'}\n",
      "Train scores 0.501 (+/-0.198) Test scores 0.414 (+/-0.209) for {'C': 10, 'class_weight': 'balanced', 'decision_function_shape': 'ovo', 'degree': 5, 'gamma': 0.01, 'kernel': 'rbf'}\n",
      "Train scores 0.275 (+/-0.255) Test scores 0.236 (+/-0.256) for {'C': 10, 'class_weight': 'balanced', 'decision_function_shape': 'ovo', 'degree': 5, 'gamma': 0.01, 'kernel': 'sigmoid'}\n",
      "Train scores 0.122 (+/-0.314) Test scores 0.113 (+/-0.292) for {'C': 10, 'class_weight': 'balanced', 'decision_function_shape': 'ovo', 'degree': 5, 'gamma': 0.01, 'kernel': 'poly'}\n",
      "Train scores 0.805 (+/-0.026) Test scores 0.702 (+/-0.091) for {'C': 10, 'class_weight': 'balanced', 'decision_function_shape': 'ovo', 'degree': 6, 'gamma': 0.1, 'kernel': 'rbf'}\n",
      "Train scores 0.687 (+/-0.096) Test scores 0.594 (+/-0.102) for {'C': 10, 'class_weight': 'balanced', 'decision_function_shape': 'ovo', 'degree': 6, 'gamma': 0.1, 'kernel': 'sigmoid'}\n",
      "Train scores 0.576 (+/-0.093) Test scores 0.446 (+/-0.194) for {'C': 10, 'class_weight': 'balanced', 'decision_function_shape': 'ovo', 'degree': 6, 'gamma': 0.1, 'kernel': 'poly'}\n",
      "Train scores 0.501 (+/-0.198) Test scores 0.414 (+/-0.209) for {'C': 10, 'class_weight': 'balanced', 'decision_function_shape': 'ovo', 'degree': 6, 'gamma': 0.01, 'kernel': 'rbf'}\n",
      "Train scores 0.275 (+/-0.255) Test scores 0.236 (+/-0.256) for {'C': 10, 'class_weight': 'balanced', 'decision_function_shape': 'ovo', 'degree': 6, 'gamma': 0.01, 'kernel': 'sigmoid'}\n",
      "Train scores 0.117 (+/-0.310) Test scores 0.113 (+/-0.293) for {'C': 10, 'class_weight': 'balanced', 'decision_function_shape': 'ovo', 'degree': 6, 'gamma': 0.01, 'kernel': 'poly'}\n",
      "Train scores 0.805 (+/-0.026) Test scores 0.702 (+/-0.091) for {'C': 10, 'class_weight': 'balanced', 'decision_function_shape': 'ovo', 'degree': 7, 'gamma': 0.1, 'kernel': 'rbf'}\n",
      "Train scores 0.687 (+/-0.096) Test scores 0.594 (+/-0.102) for {'C': 10, 'class_weight': 'balanced', 'decision_function_shape': 'ovo', 'degree': 7, 'gamma': 0.1, 'kernel': 'sigmoid'}\n",
      "Train scores 0.472 (+/-0.116) Test scores 0.365 (+/-0.125) for {'C': 10, 'class_weight': 'balanced', 'decision_function_shape': 'ovo', 'degree': 7, 'gamma': 0.1, 'kernel': 'poly'}\n",
      "Train scores 0.501 (+/-0.198) Test scores 0.414 (+/-0.209) for {'C': 10, 'class_weight': 'balanced', 'decision_function_shape': 'ovo', 'degree': 7, 'gamma': 0.01, 'kernel': 'rbf'}\n",
      "Train scores 0.275 (+/-0.255) Test scores 0.236 (+/-0.256) for {'C': 10, 'class_weight': 'balanced', 'decision_function_shape': 'ovo', 'degree': 7, 'gamma': 0.01, 'kernel': 'sigmoid'}\n",
      "Train scores 0.113 (+/-0.307) Test scores 0.117 (+/-0.297) for {'C': 10, 'class_weight': 'balanced', 'decision_function_shape': 'ovo', 'degree': 7, 'gamma': 0.01, 'kernel': 'poly'}\n",
      "Train scores 0.824 (+/-0.021) Test scores 0.711 (+/-0.134) for {'C': 15, 'class_weight': 'balanced', 'decision_function_shape': 'ovo', 'degree': 5, 'gamma': 0.1, 'kernel': 'rbf'}\n",
      "Train scores 0.710 (+/-0.050) Test scores 0.643 (+/-0.121) for {'C': 15, 'class_weight': 'balanced', 'decision_function_shape': 'ovo', 'degree': 5, 'gamma': 0.1, 'kernel': 'sigmoid'}\n",
      "Train scores 0.692 (+/-0.039) Test scores 0.577 (+/-0.095) for {'C': 15, 'class_weight': 'balanced', 'decision_function_shape': 'ovo', 'degree': 5, 'gamma': 0.1, 'kernel': 'poly'}\n",
      "Train scores 0.555 (+/-0.154) Test scores 0.481 (+/-0.176) for {'C': 15, 'class_weight': 'balanced', 'decision_function_shape': 'ovo', 'degree': 5, 'gamma': 0.01, 'kernel': 'rbf'}\n",
      "Train scores 0.371 (+/-0.226) Test scores 0.280 (+/-0.283) for {'C': 15, 'class_weight': 'balanced', 'decision_function_shape': 'ovo', 'degree': 5, 'gamma': 0.01, 'kernel': 'sigmoid'}\n",
      "Train scores 0.093 (+/-0.069) Test scores 0.052 (+/-0.032) for {'C': 15, 'class_weight': 'balanced', 'decision_function_shape': 'ovo', 'degree': 5, 'gamma': 0.01, 'kernel': 'poly'}\n",
      "Train scores 0.824 (+/-0.021) Test scores 0.711 (+/-0.134) for {'C': 15, 'class_weight': 'balanced', 'decision_function_shape': 'ovo', 'degree': 6, 'gamma': 0.1, 'kernel': 'rbf'}\n",
      "Train scores 0.710 (+/-0.050) Test scores 0.643 (+/-0.121) for {'C': 15, 'class_weight': 'balanced', 'decision_function_shape': 'ovo', 'degree': 6, 'gamma': 0.1, 'kernel': 'sigmoid'}\n",
      "Train scores 0.645 (+/-0.090) Test scores 0.498 (+/-0.156) for {'C': 15, 'class_weight': 'balanced', 'decision_function_shape': 'ovo', 'degree': 6, 'gamma': 0.1, 'kernel': 'poly'}\n",
      "Train scores 0.555 (+/-0.154) Test scores 0.481 (+/-0.176) for {'C': 15, 'class_weight': 'balanced', 'decision_function_shape': 'ovo', 'degree': 6, 'gamma': 0.01, 'kernel': 'rbf'}\n",
      "Train scores 0.371 (+/-0.226) Test scores 0.280 (+/-0.283) for {'C': 15, 'class_weight': 'balanced', 'decision_function_shape': 'ovo', 'degree': 6, 'gamma': 0.01, 'kernel': 'sigmoid'}\n",
      "Train scores 0.092 (+/-0.077) Test scores 0.060 (+/-0.061) for {'C': 15, 'class_weight': 'balanced', 'decision_function_shape': 'ovo', 'degree': 6, 'gamma': 0.01, 'kernel': 'poly'}\n",
      "Train scores 0.824 (+/-0.021) Test scores 0.711 (+/-0.134) for {'C': 15, 'class_weight': 'balanced', 'decision_function_shape': 'ovo', 'degree': 7, 'gamma': 0.1, 'kernel': 'rbf'}\n",
      "Train scores 0.710 (+/-0.050) Test scores 0.643 (+/-0.121) for {'C': 15, 'class_weight': 'balanced', 'decision_function_shape': 'ovo', 'degree': 7, 'gamma': 0.1, 'kernel': 'sigmoid'}\n",
      "Train scores 0.578 (+/-0.089) Test scores 0.440 (+/-0.194) for {'C': 15, 'class_weight': 'balanced', 'decision_function_shape': 'ovo', 'degree': 7, 'gamma': 0.1, 'kernel': 'poly'}\n",
      "Train scores 0.555 (+/-0.154) Test scores 0.481 (+/-0.176) for {'C': 15, 'class_weight': 'balanced', 'decision_function_shape': 'ovo', 'degree': 7, 'gamma': 0.01, 'kernel': 'rbf'}\n",
      "Train scores 0.371 (+/-0.226) Test scores 0.280 (+/-0.283) for {'C': 15, 'class_weight': 'balanced', 'decision_function_shape': 'ovo', 'degree': 7, 'gamma': 0.01, 'kernel': 'sigmoid'}\n",
      "Train scores 0.088 (+/-0.068) Test scores 0.062 (+/-0.103) for {'C': 15, 'class_weight': 'balanced', 'decision_function_shape': 'ovo', 'degree': 7, 'gamma': 0.01, 'kernel': 'poly'}\n",
      "Train scores 0.836 (+/-0.024) Test scores 0.711 (+/-0.142) for {'C': 20, 'class_weight': 'balanced', 'decision_function_shape': 'ovo', 'degree': 5, 'gamma': 0.1, 'kernel': 'rbf'}\n",
      "Train scores 0.739 (+/-0.023) Test scores 0.646 (+/-0.157) for {'C': 20, 'class_weight': 'balanced', 'decision_function_shape': 'ovo', 'degree': 5, 'gamma': 0.1, 'kernel': 'sigmoid'}\n",
      "Train scores 0.729 (+/-0.050) Test scores 0.625 (+/-0.115) for {'C': 20, 'class_weight': 'balanced', 'decision_function_shape': 'ovo', 'degree': 5, 'gamma': 0.1, 'kernel': 'poly'}\n",
      "Train scores 0.618 (+/-0.154) Test scores 0.504 (+/-0.122) for {'C': 20, 'class_weight': 'balanced', 'decision_function_shape': 'ovo', 'degree': 5, 'gamma': 0.01, 'kernel': 'rbf'}\n",
      "Train scores 0.497 (+/-0.218) Test scores 0.430 (+/-0.243) for {'C': 20, 'class_weight': 'balanced', 'decision_function_shape': 'ovo', 'degree': 5, 'gamma': 0.01, 'kernel': 'sigmoid'}\n",
      "Train scores 0.122 (+/-0.314) Test scores 0.113 (+/-0.292) for {'C': 20, 'class_weight': 'balanced', 'decision_function_shape': 'ovo', 'degree': 5, 'gamma': 0.01, 'kernel': 'poly'}\n",
      "Train scores 0.836 (+/-0.024) Test scores 0.711 (+/-0.142) for {'C': 20, 'class_weight': 'balanced', 'decision_function_shape': 'ovo', 'degree': 6, 'gamma': 0.1, 'kernel': 'rbf'}\n",
      "Train scores 0.739 (+/-0.023) Test scores 0.646 (+/-0.157) for {'C': 20, 'class_weight': 'balanced', 'decision_function_shape': 'ovo', 'degree': 6, 'gamma': 0.1, 'kernel': 'sigmoid'}\n",
      "Train scores 0.673 (+/-0.070) Test scores 0.530 (+/-0.168) for {'C': 20, 'class_weight': 'balanced', 'decision_function_shape': 'ovo', 'degree': 6, 'gamma': 0.1, 'kernel': 'poly'}\n",
      "Train scores 0.618 (+/-0.154) Test scores 0.504 (+/-0.122) for {'C': 20, 'class_weight': 'balanced', 'decision_function_shape': 'ovo', 'degree': 6, 'gamma': 0.01, 'kernel': 'rbf'}\n",
      "Train scores 0.497 (+/-0.218) Test scores 0.430 (+/-0.243) for {'C': 20, 'class_weight': 'balanced', 'decision_function_shape': 'ovo', 'degree': 6, 'gamma': 0.01, 'kernel': 'sigmoid'}\n",
      "Train scores 0.117 (+/-0.310) Test scores 0.113 (+/-0.293) for {'C': 20, 'class_weight': 'balanced', 'decision_function_shape': 'ovo', 'degree': 6, 'gamma': 0.01, 'kernel': 'poly'}\n",
      "Train scores 0.836 (+/-0.024) Test scores 0.711 (+/-0.142) for {'C': 20, 'class_weight': 'balanced', 'decision_function_shape': 'ovo', 'degree': 7, 'gamma': 0.1, 'kernel': 'rbf'}\n",
      "Train scores 0.739 (+/-0.023) Test scores 0.646 (+/-0.157) for {'C': 20, 'class_weight': 'balanced', 'decision_function_shape': 'ovo', 'degree': 7, 'gamma': 0.1, 'kernel': 'sigmoid'}\n",
      "Train scores 0.630 (+/-0.081) Test scores 0.469 (+/-0.166) for {'C': 20, 'class_weight': 'balanced', 'decision_function_shape': 'ovo', 'degree': 7, 'gamma': 0.1, 'kernel': 'poly'}\n",
      "Train scores 0.618 (+/-0.154) Test scores 0.504 (+/-0.122) for {'C': 20, 'class_weight': 'balanced', 'decision_function_shape': 'ovo', 'degree': 7, 'gamma': 0.01, 'kernel': 'rbf'}\n",
      "Train scores 0.497 (+/-0.218) Test scores 0.430 (+/-0.243) for {'C': 20, 'class_weight': 'balanced', 'decision_function_shape': 'ovo', 'degree': 7, 'gamma': 0.01, 'kernel': 'sigmoid'}\n",
      "Train scores 0.113 (+/-0.307) Test scores 0.117 (+/-0.297) for {'C': 20, 'class_weight': 'balanced', 'decision_function_shape': 'ovo', 'degree': 7, 'gamma': 0.01, 'kernel': 'poly'}\n",
      "Train scores 0.854 (+/-0.013) Test scores 0.717 (+/-0.142) for {'C': 25, 'class_weight': 'balanced', 'decision_function_shape': 'ovo', 'degree': 5, 'gamma': 0.1, 'kernel': 'rbf'}\n",
      "Train scores 0.744 (+/-0.030) Test scores 0.646 (+/-0.141) for {'C': 25, 'class_weight': 'balanced', 'decision_function_shape': 'ovo', 'degree': 5, 'gamma': 0.1, 'kernel': 'sigmoid'}\n",
      "Train scores 0.746 (+/-0.069) Test scores 0.640 (+/-0.119) for {'C': 25, 'class_weight': 'balanced', 'decision_function_shape': 'ovo', 'degree': 5, 'gamma': 0.1, 'kernel': 'poly'}\n",
      "Train scores 0.665 (+/-0.147) Test scores 0.588 (+/-0.068) for {'C': 25, 'class_weight': 'balanced', 'decision_function_shape': 'ovo', 'degree': 5, 'gamma': 0.01, 'kernel': 'rbf'}\n",
      "Train scores 0.486 (+/-0.222) Test scores 0.455 (+/-0.255) for {'C': 25, 'class_weight': 'balanced', 'decision_function_shape': 'ovo', 'degree': 5, 'gamma': 0.01, 'kernel': 'sigmoid'}\n",
      "Train scores 0.029 (+/-0.071) Test scores 0.022 (+/-0.045) for {'C': 25, 'class_weight': 'balanced', 'decision_function_shape': 'ovo', 'degree': 5, 'gamma': 0.01, 'kernel': 'poly'}\n",
      "Train scores 0.854 (+/-0.013) Test scores 0.717 (+/-0.142) for {'C': 25, 'class_weight': 'balanced', 'decision_function_shape': 'ovo', 'degree': 6, 'gamma': 0.1, 'kernel': 'rbf'}\n",
      "Train scores 0.744 (+/-0.030) Test scores 0.646 (+/-0.141) for {'C': 25, 'class_weight': 'balanced', 'decision_function_shape': 'ovo', 'degree': 6, 'gamma': 0.1, 'kernel': 'sigmoid'}\n",
      "Train scores 0.706 (+/-0.061) Test scores 0.557 (+/-0.139) for {'C': 25, 'class_weight': 'balanced', 'decision_function_shape': 'ovo', 'degree': 6, 'gamma': 0.1, 'kernel': 'poly'}\n",
      "Train scores 0.665 (+/-0.147) Test scores 0.588 (+/-0.068) for {'C': 25, 'class_weight': 'balanced', 'decision_function_shape': 'ovo', 'degree': 6, 'gamma': 0.01, 'kernel': 'rbf'}\n",
      "Train scores 0.486 (+/-0.222) Test scores 0.455 (+/-0.255) for {'C': 25, 'class_weight': 'balanced', 'decision_function_shape': 'ovo', 'degree': 6, 'gamma': 0.01, 'kernel': 'sigmoid'}\n",
      "Train scores 0.023 (+/-0.056) Test scores 0.020 (+/-0.040) for {'C': 25, 'class_weight': 'balanced', 'decision_function_shape': 'ovo', 'degree': 6, 'gamma': 0.01, 'kernel': 'poly'}\n",
      "Train scores 0.854 (+/-0.013) Test scores 0.717 (+/-0.142) for {'C': 25, 'class_weight': 'balanced', 'decision_function_shape': 'ovo', 'degree': 7, 'gamma': 0.1, 'kernel': 'rbf'}\n",
      "Train scores 0.744 (+/-0.030) Test scores 0.646 (+/-0.141) for {'C': 25, 'class_weight': 'balanced', 'decision_function_shape': 'ovo', 'degree': 7, 'gamma': 0.1, 'kernel': 'sigmoid'}\n",
      "Train scores 0.655 (+/-0.085) Test scores 0.506 (+/-0.130) for {'C': 25, 'class_weight': 'balanced', 'decision_function_shape': 'ovo', 'degree': 7, 'gamma': 0.1, 'kernel': 'poly'}\n",
      "Train scores 0.665 (+/-0.147) Test scores 0.588 (+/-0.068) for {'C': 25, 'class_weight': 'balanced', 'decision_function_shape': 'ovo', 'degree': 7, 'gamma': 0.01, 'kernel': 'rbf'}\n",
      "Train scores 0.486 (+/-0.222) Test scores 0.455 (+/-0.255) for {'C': 25, 'class_weight': 'balanced', 'decision_function_shape': 'ovo', 'degree': 7, 'gamma': 0.01, 'kernel': 'sigmoid'}\n",
      "Train scores 0.022 (+/-0.052) Test scores 0.012 (+/-0.037) for {'C': 25, 'class_weight': 'balanced', 'decision_function_shape': 'ovo', 'degree': 7, 'gamma': 0.01, 'kernel': 'poly'}\n",
      "Train scores 0.864 (+/-0.026) Test scores 0.729 (+/-0.140) for {'C': 30, 'class_weight': 'balanced', 'decision_function_shape': 'ovo', 'degree': 5, 'gamma': 0.1, 'kernel': 'rbf'}\n",
      "Train scores 0.739 (+/-0.037) Test scores 0.662 (+/-0.141) for {'C': 30, 'class_weight': 'balanced', 'decision_function_shape': 'ovo', 'degree': 5, 'gamma': 0.1, 'kernel': 'sigmoid'}\n",
      "Train scores 0.776 (+/-0.043) Test scores 0.642 (+/-0.162) for {'C': 30, 'class_weight': 'balanced', 'decision_function_shape': 'ovo', 'degree': 5, 'gamma': 0.1, 'kernel': 'poly'}\n",
      "Train scores 0.689 (+/-0.134) Test scores 0.615 (+/-0.070) for {'C': 30, 'class_weight': 'balanced', 'decision_function_shape': 'ovo', 'degree': 5, 'gamma': 0.01, 'kernel': 'rbf'}\n",
      "Train scores 0.561 (+/-0.157) Test scores 0.472 (+/-0.181) for {'C': 30, 'class_weight': 'balanced', 'decision_function_shape': 'ovo', 'degree': 5, 'gamma': 0.01, 'kernel': 'sigmoid'}\n",
      "Train scores 0.093 (+/-0.069) Test scores 0.052 (+/-0.032) for {'C': 30, 'class_weight': 'balanced', 'decision_function_shape': 'ovo', 'degree': 5, 'gamma': 0.01, 'kernel': 'poly'}\n",
      "Train scores 0.864 (+/-0.026) Test scores 0.729 (+/-0.140) for {'C': 30, 'class_weight': 'balanced', 'decision_function_shape': 'ovo', 'degree': 6, 'gamma': 0.1, 'kernel': 'rbf'}\n",
      "Train scores 0.739 (+/-0.037) Test scores 0.662 (+/-0.141) for {'C': 30, 'class_weight': 'balanced', 'decision_function_shape': 'ovo', 'degree': 6, 'gamma': 0.1, 'kernel': 'sigmoid'}\n",
      "Train scores 0.730 (+/-0.052) Test scores 0.633 (+/-0.113) for {'C': 30, 'class_weight': 'balanced', 'decision_function_shape': 'ovo', 'degree': 6, 'gamma': 0.1, 'kernel': 'poly'}\n",
      "Train scores 0.689 (+/-0.134) Test scores 0.615 (+/-0.070) for {'C': 30, 'class_weight': 'balanced', 'decision_function_shape': 'ovo', 'degree': 6, 'gamma': 0.01, 'kernel': 'rbf'}\n",
      "Train scores 0.561 (+/-0.157) Test scores 0.472 (+/-0.181) for {'C': 30, 'class_weight': 'balanced', 'decision_function_shape': 'ovo', 'degree': 6, 'gamma': 0.01, 'kernel': 'sigmoid'}\n",
      "Train scores 0.092 (+/-0.077) Test scores 0.060 (+/-0.061) for {'C': 30, 'class_weight': 'balanced', 'decision_function_shape': 'ovo', 'degree': 6, 'gamma': 0.01, 'kernel': 'poly'}\n",
      "Train scores 0.864 (+/-0.026) Test scores 0.729 (+/-0.140) for {'C': 30, 'class_weight': 'balanced', 'decision_function_shape': 'ovo', 'degree': 7, 'gamma': 0.1, 'kernel': 'rbf'}\n",
      "Train scores 0.739 (+/-0.037) Test scores 0.662 (+/-0.141) for {'C': 30, 'class_weight': 'balanced', 'decision_function_shape': 'ovo', 'degree': 7, 'gamma': 0.1, 'kernel': 'sigmoid'}\n",
      "Train scores 0.694 (+/-0.053) Test scores 0.518 (+/-0.165) for {'C': 30, 'class_weight': 'balanced', 'decision_function_shape': 'ovo', 'degree': 7, 'gamma': 0.1, 'kernel': 'poly'}\n",
      "Train scores 0.689 (+/-0.134) Test scores 0.615 (+/-0.070) for {'C': 30, 'class_weight': 'balanced', 'decision_function_shape': 'ovo', 'degree': 7, 'gamma': 0.01, 'kernel': 'rbf'}\n",
      "Train scores 0.561 (+/-0.157) Test scores 0.472 (+/-0.181) for {'C': 30, 'class_weight': 'balanced', 'decision_function_shape': 'ovo', 'degree': 7, 'gamma': 0.01, 'kernel': 'sigmoid'}\n",
      "Train scores 0.088 (+/-0.068) Test scores 0.062 (+/-0.103) for {'C': 30, 'class_weight': 'balanced', 'decision_function_shape': 'ovo', 'degree': 7, 'gamma': 0.01, 'kernel': 'poly'}\n",
      "\n",
      "\n",
      "# Tuning hyper-parameters for recall_weighted\n",
      "\n"
     ]
    },
    {
     "name": "stderr",
     "output_type": "stream",
     "text": [
      "D:\\Softwares\\Anaconda\\lib\\site-packages\\sklearn\\model_selection\\_split.py:667: UserWarning: The least populated class in y has only 2 members, which is less than n_splits=5.\n",
      "  % (min_groups, self.n_splits)), UserWarning)\n"
     ]
    },
    {
     "name": "stdout",
     "output_type": "stream",
     "text": [
      "Best parameters set found on development set:\n",
      "\n",
      "{'C': 30, 'class_weight': 'balanced', 'decision_function_shape': 'ovo', 'degree': 5, 'gamma': 0.1, 'kernel': 'rbf'}\n",
      "\n",
      "Grid scores on development set:\n",
      "\n",
      "Train scores 0.783 (+/-0.031) Test scores 0.682 (+/-0.096) for {'C': 10, 'class_weight': 'balanced', 'decision_function_shape': 'ovo', 'degree': 5, 'gamma': 0.1, 'kernel': 'rbf'}\n",
      "Train scores 0.656 (+/-0.112) Test scores 0.563 (+/-0.133) for {'C': 10, 'class_weight': 'balanced', 'decision_function_shape': 'ovo', 'degree': 5, 'gamma': 0.1, 'kernel': 'sigmoid'}\n",
      "Train scores 0.561 (+/-0.110) Test scores 0.457 (+/-0.126) for {'C': 10, 'class_weight': 'balanced', 'decision_function_shape': 'ovo', 'degree': 5, 'gamma': 0.1, 'kernel': 'poly'}\n",
      "Train scores 0.457 (+/-0.236) Test scores 0.377 (+/-0.227) for {'C': 10, 'class_weight': 'balanced', 'decision_function_shape': 'ovo', 'degree': 5, 'gamma': 0.01, 'kernel': 'rbf'}\n",
      "Train scores 0.273 (+/-0.248) Test scores 0.264 (+/-0.327) for {'C': 10, 'class_weight': 'balanced', 'decision_function_shape': 'ovo', 'degree': 5, 'gamma': 0.01, 'kernel': 'sigmoid'}\n",
      "Train scores 0.174 (+/-0.403) Test scores 0.165 (+/-0.388) for {'C': 10, 'class_weight': 'balanced', 'decision_function_shape': 'ovo', 'degree': 5, 'gamma': 0.01, 'kernel': 'poly'}\n",
      "Train scores 0.783 (+/-0.031) Test scores 0.682 (+/-0.096) for {'C': 10, 'class_weight': 'balanced', 'decision_function_shape': 'ovo', 'degree': 6, 'gamma': 0.1, 'kernel': 'rbf'}\n",
      "Train scores 0.656 (+/-0.112) Test scores 0.563 (+/-0.133) for {'C': 10, 'class_weight': 'balanced', 'decision_function_shape': 'ovo', 'degree': 6, 'gamma': 0.1, 'kernel': 'sigmoid'}\n",
      "Train scores 0.492 (+/-0.091) Test scores 0.391 (+/-0.148) for {'C': 10, 'class_weight': 'balanced', 'decision_function_shape': 'ovo', 'degree': 6, 'gamma': 0.1, 'kernel': 'poly'}\n",
      "Train scores 0.457 (+/-0.236) Test scores 0.377 (+/-0.227) for {'C': 10, 'class_weight': 'balanced', 'decision_function_shape': 'ovo', 'degree': 6, 'gamma': 0.01, 'kernel': 'rbf'}\n",
      "Train scores 0.273 (+/-0.248) Test scores 0.264 (+/-0.327) for {'C': 10, 'class_weight': 'balanced', 'decision_function_shape': 'ovo', 'degree': 6, 'gamma': 0.01, 'kernel': 'sigmoid'}\n",
      "Train scores 0.169 (+/-0.402) Test scores 0.165 (+/-0.388) for {'C': 10, 'class_weight': 'balanced', 'decision_function_shape': 'ovo', 'degree': 6, 'gamma': 0.01, 'kernel': 'poly'}\n",
      "Train scores 0.783 (+/-0.031) Test scores 0.682 (+/-0.096) for {'C': 10, 'class_weight': 'balanced', 'decision_function_shape': 'ovo', 'degree': 7, 'gamma': 0.1, 'kernel': 'rbf'}\n",
      "Train scores 0.656 (+/-0.112) Test scores 0.563 (+/-0.133) for {'C': 10, 'class_weight': 'balanced', 'decision_function_shape': 'ovo', 'degree': 7, 'gamma': 0.1, 'kernel': 'sigmoid'}\n",
      "Train scores 0.379 (+/-0.098) Test scores 0.298 (+/-0.101) for {'C': 10, 'class_weight': 'balanced', 'decision_function_shape': 'ovo', 'degree': 7, 'gamma': 0.1, 'kernel': 'poly'}\n",
      "Train scores 0.457 (+/-0.236) Test scores 0.377 (+/-0.227) for {'C': 10, 'class_weight': 'balanced', 'decision_function_shape': 'ovo', 'degree': 7, 'gamma': 0.01, 'kernel': 'rbf'}\n",
      "Train scores 0.273 (+/-0.248) Test scores 0.264 (+/-0.327) for {'C': 10, 'class_weight': 'balanced', 'decision_function_shape': 'ovo', 'degree': 7, 'gamma': 0.01, 'kernel': 'sigmoid'}\n",
      "Train scores 0.166 (+/-0.401) Test scores 0.172 (+/-0.391) for {'C': 10, 'class_weight': 'balanced', 'decision_function_shape': 'ovo', 'degree': 7, 'gamma': 0.01, 'kernel': 'poly'}\n",
      "Train scores 0.808 (+/-0.022) Test scores 0.689 (+/-0.156) for {'C': 15, 'class_weight': 'balanced', 'decision_function_shape': 'ovo', 'degree': 5, 'gamma': 0.1, 'kernel': 'rbf'}\n",
      "Train scores 0.685 (+/-0.062) Test scores 0.623 (+/-0.103) for {'C': 15, 'class_weight': 'balanced', 'decision_function_shape': 'ovo', 'degree': 5, 'gamma': 0.1, 'kernel': 'sigmoid'}\n",
      "Train scores 0.636 (+/-0.044) Test scores 0.543 (+/-0.072) for {'C': 15, 'class_weight': 'balanced', 'decision_function_shape': 'ovo', 'degree': 5, 'gamma': 0.1, 'kernel': 'poly'}\n",
      "Train scores 0.523 (+/-0.171) Test scores 0.470 (+/-0.213) for {'C': 15, 'class_weight': 'balanced', 'decision_function_shape': 'ovo', 'degree': 5, 'gamma': 0.01, 'kernel': 'rbf'}\n",
      "Train scores 0.329 (+/-0.170) Test scores 0.253 (+/-0.227) for {'C': 15, 'class_weight': 'balanced', 'decision_function_shape': 'ovo', 'degree': 5, 'gamma': 0.01, 'kernel': 'sigmoid'}\n",
      "Train scores 0.128 (+/-0.072) Test scores 0.105 (+/-0.093) for {'C': 15, 'class_weight': 'balanced', 'decision_function_shape': 'ovo', 'degree': 5, 'gamma': 0.01, 'kernel': 'poly'}\n",
      "Train scores 0.808 (+/-0.022) Test scores 0.689 (+/-0.156) for {'C': 15, 'class_weight': 'balanced', 'decision_function_shape': 'ovo', 'degree': 6, 'gamma': 0.1, 'kernel': 'rbf'}\n",
      "Train scores 0.685 (+/-0.062) Test scores 0.623 (+/-0.103) for {'C': 15, 'class_weight': 'balanced', 'decision_function_shape': 'ovo', 'degree': 6, 'gamma': 0.1, 'kernel': 'sigmoid'}\n",
      "Train scores 0.571 (+/-0.094) Test scores 0.450 (+/-0.123) for {'C': 15, 'class_weight': 'balanced', 'decision_function_shape': 'ovo', 'degree': 6, 'gamma': 0.1, 'kernel': 'poly'}\n",
      "Train scores 0.523 (+/-0.171) Test scores 0.470 (+/-0.213) for {'C': 15, 'class_weight': 'balanced', 'decision_function_shape': 'ovo', 'degree': 6, 'gamma': 0.01, 'kernel': 'rbf'}\n",
      "Train scores 0.329 (+/-0.170) Test scores 0.253 (+/-0.227) for {'C': 15, 'class_weight': 'balanced', 'decision_function_shape': 'ovo', 'degree': 6, 'gamma': 0.01, 'kernel': 'sigmoid'}\n",
      "Train scores 0.124 (+/-0.073) Test scores 0.105 (+/-0.111) for {'C': 15, 'class_weight': 'balanced', 'decision_function_shape': 'ovo', 'degree': 6, 'gamma': 0.01, 'kernel': 'poly'}\n",
      "Train scores 0.808 (+/-0.022) Test scores 0.689 (+/-0.156) for {'C': 15, 'class_weight': 'balanced', 'decision_function_shape': 'ovo', 'degree': 7, 'gamma': 0.1, 'kernel': 'rbf'}\n",
      "Train scores 0.685 (+/-0.062) Test scores 0.623 (+/-0.103) for {'C': 15, 'class_weight': 'balanced', 'decision_function_shape': 'ovo', 'degree': 7, 'gamma': 0.1, 'kernel': 'sigmoid'}\n",
      "Train scores 0.488 (+/-0.082) Test scores 0.384 (+/-0.157) for {'C': 15, 'class_weight': 'balanced', 'decision_function_shape': 'ovo', 'degree': 7, 'gamma': 0.1, 'kernel': 'poly'}\n",
      "Train scores 0.523 (+/-0.171) Test scores 0.470 (+/-0.213) for {'C': 15, 'class_weight': 'balanced', 'decision_function_shape': 'ovo', 'degree': 7, 'gamma': 0.01, 'kernel': 'rbf'}\n",
      "Train scores 0.329 (+/-0.170) Test scores 0.253 (+/-0.227) for {'C': 15, 'class_weight': 'balanced', 'decision_function_shape': 'ovo', 'degree': 7, 'gamma': 0.01, 'kernel': 'sigmoid'}\n",
      "Train scores 0.121 (+/-0.072) Test scores 0.105 (+/-0.126) for {'C': 15, 'class_weight': 'balanced', 'decision_function_shape': 'ovo', 'degree': 7, 'gamma': 0.01, 'kernel': 'poly'}\n",
      "Train scores 0.825 (+/-0.026) Test scores 0.696 (+/-0.160) for {'C': 20, 'class_weight': 'balanced', 'decision_function_shape': 'ovo', 'degree': 5, 'gamma': 0.1, 'kernel': 'rbf'}\n",
      "Train scores 0.717 (+/-0.039) Test scores 0.636 (+/-0.121) for {'C': 20, 'class_weight': 'balanced', 'decision_function_shape': 'ovo', 'degree': 5, 'gamma': 0.1, 'kernel': 'sigmoid'}\n",
      "Train scores 0.679 (+/-0.068) Test scores 0.589 (+/-0.122) for {'C': 20, 'class_weight': 'balanced', 'decision_function_shape': 'ovo', 'degree': 5, 'gamma': 0.1, 'kernel': 'poly'}\n",
      "Train scores 0.585 (+/-0.170) Test scores 0.490 (+/-0.148) for {'C': 20, 'class_weight': 'balanced', 'decision_function_shape': 'ovo', 'degree': 5, 'gamma': 0.01, 'kernel': 'rbf'}\n",
      "Train scores 0.454 (+/-0.250) Test scores 0.391 (+/-0.249) for {'C': 20, 'class_weight': 'balanced', 'decision_function_shape': 'ovo', 'degree': 5, 'gamma': 0.01, 'kernel': 'sigmoid'}\n",
      "Train scores 0.174 (+/-0.403) Test scores 0.165 (+/-0.388) for {'C': 20, 'class_weight': 'balanced', 'decision_function_shape': 'ovo', 'degree': 5, 'gamma': 0.01, 'kernel': 'poly'}\n",
      "Train scores 0.825 (+/-0.026) Test scores 0.696 (+/-0.160) for {'C': 20, 'class_weight': 'balanced', 'decision_function_shape': 'ovo', 'degree': 6, 'gamma': 0.1, 'kernel': 'rbf'}\n",
      "Train scores 0.717 (+/-0.039) Test scores 0.636 (+/-0.121) for {'C': 20, 'class_weight': 'balanced', 'decision_function_shape': 'ovo', 'degree': 6, 'gamma': 0.1, 'kernel': 'sigmoid'}\n",
      "Train scores 0.609 (+/-0.092) Test scores 0.497 (+/-0.161) for {'C': 20, 'class_weight': 'balanced', 'decision_function_shape': 'ovo', 'degree': 6, 'gamma': 0.1, 'kernel': 'poly'}\n",
      "Train scores 0.585 (+/-0.170) Test scores 0.490 (+/-0.148) for {'C': 20, 'class_weight': 'balanced', 'decision_function_shape': 'ovo', 'degree': 6, 'gamma': 0.01, 'kernel': 'rbf'}\n",
      "Train scores 0.454 (+/-0.250) Test scores 0.391 (+/-0.249) for {'C': 20, 'class_weight': 'balanced', 'decision_function_shape': 'ovo', 'degree': 6, 'gamma': 0.01, 'kernel': 'sigmoid'}\n",
      "Train scores 0.169 (+/-0.402) Test scores 0.165 (+/-0.388) for {'C': 20, 'class_weight': 'balanced', 'decision_function_shape': 'ovo', 'degree': 6, 'gamma': 0.01, 'kernel': 'poly'}\n",
      "Train scores 0.825 (+/-0.026) Test scores 0.696 (+/-0.160) for {'C': 20, 'class_weight': 'balanced', 'decision_function_shape': 'ovo', 'degree': 7, 'gamma': 0.1, 'kernel': 'rbf'}\n",
      "Train scores 0.717 (+/-0.039) Test scores 0.636 (+/-0.121) for {'C': 20, 'class_weight': 'balanced', 'decision_function_shape': 'ovo', 'degree': 7, 'gamma': 0.1, 'kernel': 'sigmoid'}\n",
      "Train scores 0.546 (+/-0.088) Test scores 0.417 (+/-0.137) for {'C': 20, 'class_weight': 'balanced', 'decision_function_shape': 'ovo', 'degree': 7, 'gamma': 0.1, 'kernel': 'poly'}\n",
      "Train scores 0.585 (+/-0.170) Test scores 0.490 (+/-0.148) for {'C': 20, 'class_weight': 'balanced', 'decision_function_shape': 'ovo', 'degree': 7, 'gamma': 0.01, 'kernel': 'rbf'}\n",
      "Train scores 0.454 (+/-0.250) Test scores 0.391 (+/-0.249) for {'C': 20, 'class_weight': 'balanced', 'decision_function_shape': 'ovo', 'degree': 7, 'gamma': 0.01, 'kernel': 'sigmoid'}\n",
      "Train scores 0.166 (+/-0.401) Test scores 0.172 (+/-0.391) for {'C': 20, 'class_weight': 'balanced', 'decision_function_shape': 'ovo', 'degree': 7, 'gamma': 0.01, 'kernel': 'poly'}\n",
      "Train scores 0.846 (+/-0.013) Test scores 0.709 (+/-0.164) for {'C': 25, 'class_weight': 'balanced', 'decision_function_shape': 'ovo', 'degree': 5, 'gamma': 0.1, 'kernel': 'rbf'}\n",
      "Train scores 0.725 (+/-0.034) Test scores 0.636 (+/-0.113) for {'C': 25, 'class_weight': 'balanced', 'decision_function_shape': 'ovo', 'degree': 5, 'gamma': 0.1, 'kernel': 'sigmoid'}\n",
      "Train scores 0.697 (+/-0.083) Test scores 0.616 (+/-0.127) for {'C': 25, 'class_weight': 'balanced', 'decision_function_shape': 'ovo', 'degree': 5, 'gamma': 0.1, 'kernel': 'poly'}\n",
      "Train scores 0.633 (+/-0.157) Test scores 0.569 (+/-0.098) for {'C': 25, 'class_weight': 'balanced', 'decision_function_shape': 'ovo', 'degree': 5, 'gamma': 0.01, 'kernel': 'rbf'}\n",
      "Train scores 0.450 (+/-0.232) Test scores 0.411 (+/-0.251) for {'C': 25, 'class_weight': 'balanced', 'decision_function_shape': 'ovo', 'degree': 5, 'gamma': 0.01, 'kernel': 'sigmoid'}\n",
      "Train scores 0.061 (+/-0.090) Test scores 0.053 (+/-0.051) for {'C': 25, 'class_weight': 'balanced', 'decision_function_shape': 'ovo', 'degree': 5, 'gamma': 0.01, 'kernel': 'poly'}\n",
      "Train scores 0.846 (+/-0.013) Test scores 0.709 (+/-0.164) for {'C': 25, 'class_weight': 'balanced', 'decision_function_shape': 'ovo', 'degree': 6, 'gamma': 0.1, 'kernel': 'rbf'}\n",
      "Train scores 0.725 (+/-0.034) Test scores 0.636 (+/-0.113) for {'C': 25, 'class_weight': 'balanced', 'decision_function_shape': 'ovo', 'degree': 6, 'gamma': 0.1, 'kernel': 'sigmoid'}\n",
      "Train scores 0.647 (+/-0.070) Test scores 0.543 (+/-0.129) for {'C': 25, 'class_weight': 'balanced', 'decision_function_shape': 'ovo', 'degree': 6, 'gamma': 0.1, 'kernel': 'poly'}\n",
      "Train scores 0.633 (+/-0.157) Test scores 0.569 (+/-0.098) for {'C': 25, 'class_weight': 'balanced', 'decision_function_shape': 'ovo', 'degree': 6, 'gamma': 0.01, 'kernel': 'rbf'}\n",
      "Train scores 0.450 (+/-0.232) Test scores 0.411 (+/-0.251) for {'C': 25, 'class_weight': 'balanced', 'decision_function_shape': 'ovo', 'degree': 6, 'gamma': 0.01, 'kernel': 'sigmoid'}\n",
      "Train scores 0.051 (+/-0.058) Test scores 0.046 (+/-0.032) for {'C': 25, 'class_weight': 'balanced', 'decision_function_shape': 'ovo', 'degree': 6, 'gamma': 0.01, 'kernel': 'poly'}\n",
      "Train scores 0.846 (+/-0.013) Test scores 0.709 (+/-0.164) for {'C': 25, 'class_weight': 'balanced', 'decision_function_shape': 'ovo', 'degree': 7, 'gamma': 0.1, 'kernel': 'rbf'}\n",
      "Train scores 0.725 (+/-0.034) Test scores 0.636 (+/-0.113) for {'C': 25, 'class_weight': 'balanced', 'decision_function_shape': 'ovo', 'degree': 7, 'gamma': 0.1, 'kernel': 'sigmoid'}\n",
      "Train scores 0.581 (+/-0.099) Test scores 0.470 (+/-0.127) for {'C': 25, 'class_weight': 'balanced', 'decision_function_shape': 'ovo', 'degree': 7, 'gamma': 0.1, 'kernel': 'poly'}\n",
      "Train scores 0.633 (+/-0.157) Test scores 0.569 (+/-0.098) for {'C': 25, 'class_weight': 'balanced', 'decision_function_shape': 'ovo', 'degree': 7, 'gamma': 0.01, 'kernel': 'rbf'}\n",
      "Train scores 0.450 (+/-0.232) Test scores 0.411 (+/-0.251) for {'C': 25, 'class_weight': 'balanced', 'decision_function_shape': 'ovo', 'degree': 7, 'gamma': 0.01, 'kernel': 'sigmoid'}\n",
      "Train scores 0.050 (+/-0.052) Test scores 0.046 (+/-0.051) for {'C': 25, 'class_weight': 'balanced', 'decision_function_shape': 'ovo', 'degree': 7, 'gamma': 0.01, 'kernel': 'poly'}\n",
      "Train scores 0.858 (+/-0.026) Test scores 0.723 (+/-0.165) for {'C': 30, 'class_weight': 'balanced', 'decision_function_shape': 'ovo', 'degree': 5, 'gamma': 0.1, 'kernel': 'rbf'}\n",
      "Train scores 0.723 (+/-0.034) Test scores 0.656 (+/-0.120) for {'C': 30, 'class_weight': 'balanced', 'decision_function_shape': 'ovo', 'degree': 5, 'gamma': 0.1, 'kernel': 'sigmoid'}\n",
      "Train scores 0.730 (+/-0.056) Test scores 0.623 (+/-0.179) for {'C': 30, 'class_weight': 'balanced', 'decision_function_shape': 'ovo', 'degree': 5, 'gamma': 0.1, 'kernel': 'poly'}\n",
      "Train scores 0.654 (+/-0.149) Test scores 0.589 (+/-0.105) for {'C': 30, 'class_weight': 'balanced', 'decision_function_shape': 'ovo', 'degree': 5, 'gamma': 0.01, 'kernel': 'rbf'}\n",
      "Train scores 0.527 (+/-0.170) Test scores 0.463 (+/-0.209) for {'C': 30, 'class_weight': 'balanced', 'decision_function_shape': 'ovo', 'degree': 5, 'gamma': 0.01, 'kernel': 'sigmoid'}\n",
      "Train scores 0.128 (+/-0.072) Test scores 0.105 (+/-0.093) for {'C': 30, 'class_weight': 'balanced', 'decision_function_shape': 'ovo', 'degree': 5, 'gamma': 0.01, 'kernel': 'poly'}\n",
      "Train scores 0.858 (+/-0.026) Test scores 0.723 (+/-0.165) for {'C': 30, 'class_weight': 'balanced', 'decision_function_shape': 'ovo', 'degree': 6, 'gamma': 0.1, 'kernel': 'rbf'}\n",
      "Train scores 0.723 (+/-0.034) Test scores 0.656 (+/-0.120) for {'C': 30, 'class_weight': 'balanced', 'decision_function_shape': 'ovo', 'degree': 6, 'gamma': 0.1, 'kernel': 'sigmoid'}\n",
      "Train scores 0.675 (+/-0.055) Test scores 0.596 (+/-0.127) for {'C': 30, 'class_weight': 'balanced', 'decision_function_shape': 'ovo', 'degree': 6, 'gamma': 0.1, 'kernel': 'poly'}\n",
      "Train scores 0.654 (+/-0.149) Test scores 0.589 (+/-0.105) for {'C': 30, 'class_weight': 'balanced', 'decision_function_shape': 'ovo', 'degree': 6, 'gamma': 0.01, 'kernel': 'rbf'}\n",
      "Train scores 0.527 (+/-0.170) Test scores 0.463 (+/-0.209) for {'C': 30, 'class_weight': 'balanced', 'decision_function_shape': 'ovo', 'degree': 6, 'gamma': 0.01, 'kernel': 'sigmoid'}\n",
      "Train scores 0.124 (+/-0.073) Test scores 0.105 (+/-0.111) for {'C': 30, 'class_weight': 'balanced', 'decision_function_shape': 'ovo', 'degree': 6, 'gamma': 0.01, 'kernel': 'poly'}\n",
      "Train scores 0.858 (+/-0.026) Test scores 0.723 (+/-0.165) for {'C': 30, 'class_weight': 'balanced', 'decision_function_shape': 'ovo', 'degree': 7, 'gamma': 0.1, 'kernel': 'rbf'}\n",
      "Train scores 0.723 (+/-0.034) Test scores 0.656 (+/-0.120) for {'C': 30, 'class_weight': 'balanced', 'decision_function_shape': 'ovo', 'degree': 7, 'gamma': 0.1, 'kernel': 'sigmoid'}\n",
      "Train scores 0.626 (+/-0.067) Test scores 0.490 (+/-0.173) for {'C': 30, 'class_weight': 'balanced', 'decision_function_shape': 'ovo', 'degree': 7, 'gamma': 0.1, 'kernel': 'poly'}\n",
      "Train scores 0.654 (+/-0.149) Test scores 0.589 (+/-0.105) for {'C': 30, 'class_weight': 'balanced', 'decision_function_shape': 'ovo', 'degree': 7, 'gamma': 0.01, 'kernel': 'rbf'}\n",
      "Train scores 0.527 (+/-0.170) Test scores 0.463 (+/-0.209) for {'C': 30, 'class_weight': 'balanced', 'decision_function_shape': 'ovo', 'degree': 7, 'gamma': 0.01, 'kernel': 'sigmoid'}\n",
      "Train scores 0.121 (+/-0.072) Test scores 0.105 (+/-0.126) for {'C': 30, 'class_weight': 'balanced', 'decision_function_shape': 'ovo', 'degree': 7, 'gamma': 0.01, 'kernel': 'poly'}\n",
      "\n",
      "\n"
     ]
    }
   ],
   "source": [
    "\n",
    "def support_vector_machine_hyperparameter_tuning(X_train,y_train):\n",
    "    print(\"SVM for predicting rating\")   \n",
    "\n",
    "    # Set the parameters by cross-validation\n",
    "    tuned_parameters = [{'kernel': ['rbf','sigmoid','poly'],'degree':[5,6,7],'gamma': [0.1,0.01],\n",
    "                         'C': [10,15,20,25,30], 'class_weight':[\"balanced\"],'decision_function_shape':['ovo']}\n",
    "                       ]\n",
    "    \n",
    "    scores = ['f1_weighted','recall_weighted']\n",
    "#    scores = ['accuracy']\n",
    "    \n",
    "    for score in scores:\n",
    "        print(\"# Tuning hyper-parameters for %s\" % score)\n",
    "        print()\n",
    "    \n",
    "        clf = GridSearchCV(SVC(), tuned_parameters, cv=5,n_jobs=-1,return_train_score = True,\n",
    "                           scoring='%s' % score)\n",
    "        clf.fit(X_train, y_train)\n",
    "    \n",
    "        print(\"Best parameters set found on development set:\")\n",
    "        print()\n",
    "        print(clf.best_params_)\n",
    "        print()\n",
    "        print(\"Grid scores on development set:\")\n",
    "        print()\n",
    "        means_test = clf.cv_results_['mean_test_score']\n",
    "        stds_test = clf.cv_results_['std_test_score']\n",
    "        means_train = clf.cv_results_['mean_train_score']\n",
    "        stds_train = clf.cv_results_['std_train_score']\n",
    "        for mean_train, std_train,mean_test,std_test, params in zip(means_train,stds_train,means_test, stds_test, clf.cv_results_['params']):\n",
    "            print(\"Train scores %0.3f (+/-%0.03f) Test scores %0.3f (+/-%0.03f) for %r\"\n",
    "                  % (mean_train, std_train * 2, mean_test, std_test * 2, params))\n",
    "        print()\n",
    "        print()      \n",
    "        \n",
    "\n",
    "        \n",
    "support_vector_machine_hyperparameter_tuning(x_train_minor_df,y_train_minor)"
   ]
  },
  {
   "cell_type": "code",
   "execution_count": 53,
   "metadata": {},
   "outputs": [],
   "source": [
    "from sklearn.metrics import cohen_kappa_score\n",
    "# pred = clf.predict(df2)\n",
    "\n",
    "# cohen_kappa_score(y_test, pred)\n",
    "\n",
    "def benchmark1(name,clf,X_train,y_train,X_test,y_test):\n",
    "    print('_' * 80)\n",
    "\n",
    "    print(clf)\n",
    "    \n",
    "    clf.fit(X_train, y_train)\n",
    "\n",
    "    pred = clf.predict(X_test)\n",
    "    print(\"Predictions\")\n",
    "    print(pred)\n",
    "    \n",
    "    \n",
    "    train_score = metrics.accuracy_score(y_train, clf.predict(X_train))\n",
    "    print(\"Train accuracy:   %0.5f\" % train_score)\n",
    "    score = metrics.accuracy_score(y_test, pred)\n",
    "    print(\"Test accuracy:   %0.5f\" % score)\n",
    "    \n",
    "    \n",
    "    train_rscore = metrics.recall_score(y_train, clf.predict(X_train),average=\"weighted\")\n",
    "    print(\"Train recall:   %0.5f\" % train_rscore)\n",
    "    rscore = metrics.recall_score(y_test, pred,average=\"weighted\")\n",
    "    print(\"Test recall:   %0.5f\" % rscore)\n",
    "    \n",
    "    cohen_score = cohen_kappa_score(y_test, pred)\n",
    "    print(\"Cohen kappa score:   %0.5f\" % cohen_score)\n",
    "    \n",
    "    f1_score = metrics.f1_score(y_test,pred,average='weighted')\n",
    "    print(\"F1 Score: %0.5f\" %f1_score)\n",
    "    \n",
    "    u = np.unique(y_test_1)\n",
    "    print(\"classification report:\")\n",
    "    print(metrics.classification_report(y_test, pred))\n",
    "\n",
    "    print(\"confusion matrix:\")\n",
    "    print(metrics.confusion_matrix(y_test, pred))\n",
    "\n",
    "    print()\n",
    "    \n",
    "    metrics.plot_confusion_matrix(clf,X_test, y_test,values_format='g')  \n",
    "    plt.show()\n",
    "    \n",
    "    return clf\n",
    "#     dimensions = X_train.shape[1]\n",
    "#     clf_descr = str(clf).split('(')[0]\n",
    "#     clf_param= clf.get_params\n"
   ]
  },
  {
   "cell_type": "code",
   "execution_count": 69,
   "metadata": {},
   "outputs": [
    {
     "name": "stdout",
     "output_type": "stream",
     "text": [
      "Support Vector Machines\n",
      "________________________________________________________________________________\n",
      "SVC(C=30, break_ties=False, cache_size=200, class_weight='balanced', coef0=0.0,\n",
      "    decision_function_shape='ovo', degree=5, gamma=0.1, kernel='rbf',\n",
      "    max_iter=-1, probability=False, random_state=None, shrinking=True,\n",
      "    tol=0.001, verbose=False)\n",
      "Predictions\n",
      "[1 1 1 7 9 1 7 3 6 7 1 3 1 1 1 6 5 1 1 9 1 3 3 7 6 1 6 4 6 4 3 7 3 9 3 1 1\n",
      " 1 3 4 1 1 3 6 1 3 5 1 5 7 1]\n",
      "Train accuracy:   0.88079\n",
      "Test accuracy:   0.62745\n",
      "Train recall:   0.88079\n",
      "Test recall:   0.62745\n",
      "Cohen kappa score:   0.48865\n",
      "F1 Score: 0.66477\n",
      "classification report:\n",
      "              precision    recall  f1-score   support\n",
      "\n",
      "           1       0.95      0.68      0.79        28\n",
      "           3       0.30      0.60      0.40         5\n",
      "           4       0.33      0.50      0.40         2\n",
      "           5       0.33      1.00      0.50         1\n",
      "           6       0.67      0.80      0.73         5\n",
      "           7       0.67      0.44      0.53         9\n",
      "           9       0.00      0.00      0.00         1\n",
      "\n",
      "    accuracy                           0.63        51\n",
      "   macro avg       0.46      0.57      0.48        51\n",
      "weighted avg       0.75      0.63      0.66        51\n",
      "\n",
      "confusion matrix:\n",
      "[[19  4  1  1  0  1  2]\n",
      " [ 1  3  0  0  0  0  1]\n",
      " [ 0  0  1  0  1  0  0]\n",
      " [ 0  0  0  1  0  0  0]\n",
      " [ 0  0  0  1  4  0  0]\n",
      " [ 0  3  1  0  1  4  0]\n",
      " [ 0  0  0  0  0  1  0]]\n",
      "\n"
     ]
    },
    {
     "data": {
      "image/png": "[encoded data removed]",
      "text/plain": [
       "<Figure size 432x288 with 2 Axes>"
      ]
     },
     "metadata": {
      "needs_background": "light"
     },
     "output_type": "display_data"
    }
   ],
   "source": [
    "\n",
    "# {'C': 5, 'class_weight': 'balanced', 'decision_function_shape': 'ovo', 'degree': 5, 'gamma': 0.1, 'kernel': 'rbf'}\n",
    "    \n",
    "print(\"Support Vector Machines\")\n",
    "clf = benchmark1(\"SVM\",SVC(C=30, kernel='rbf',gamma=0.1,class_weight=\"balanced\",decision_function_shape=\"ovo\",degree=5),x_train_minor_df,y_train_minor,x_test_minor_df,y_test_minor)"
   ]
  },
  {
   "cell_type": "markdown",
   "metadata": {},
   "source": [
    "### Minority Random Forest"
   ]
  },
  {
   "cell_type": "code",
   "execution_count": 72,
   "metadata": {},
   "outputs": [
    {
     "name": "stdout",
     "output_type": "stream",
     "text": [
      "RandomForest for predicting rating\n",
      "# Tuning hyper-parameters for f1_weighted\n",
      "\n"
     ]
    },
    {
     "name": "stderr",
     "output_type": "stream",
     "text": [
      "D:\\Softwares\\Anaconda\\lib\\site-packages\\sklearn\\model_selection\\_split.py:667: UserWarning: The least populated class in y has only 2 members, which is less than n_splits=5.\n",
      "  % (min_groups, self.n_splits)), UserWarning)\n"
     ]
    },
    {
     "name": "stdout",
     "output_type": "stream",
     "text": [
      "Best parameters set found on development set:\n",
      "\n",
      "{'criterion': 'gini', 'max_features': 'sqrt', 'min_samples_leaf': 1, 'n_estimators': 350, 'n_jobs': -1}\n",
      "\n",
      "Grid scores on development set:\n",
      "\n",
      "Train scores 1.000 (+/-0.000) Test scores 0.606 (+/-0.143) for {'criterion': 'gini', 'max_features': 'sqrt', 'min_samples_leaf': 1, 'n_estimators': 200, 'n_jobs': -1}\n",
      "Train scores 1.000 (+/-0.000) Test scores 0.625 (+/-0.107) for {'criterion': 'gini', 'max_features': 'sqrt', 'min_samples_leaf': 1, 'n_estimators': 250, 'n_jobs': -1}\n",
      "Train scores 1.000 (+/-0.000) Test scores 0.614 (+/-0.126) for {'criterion': 'gini', 'max_features': 'sqrt', 'min_samples_leaf': 1, 'n_estimators': 300, 'n_jobs': -1}\n",
      "Train scores 1.000 (+/-0.000) Test scores 0.629 (+/-0.076) for {'criterion': 'gini', 'max_features': 'sqrt', 'min_samples_leaf': 1, 'n_estimators': 350, 'n_jobs': -1}\n",
      "Train scores 0.991 (+/-0.011) Test scores 0.604 (+/-0.102) for {'criterion': 'gini', 'max_features': 'sqrt', 'min_samples_leaf': 2, 'n_estimators': 200, 'n_jobs': -1}\n",
      "Train scores 0.996 (+/-0.009) Test scores 0.626 (+/-0.140) for {'criterion': 'gini', 'max_features': 'sqrt', 'min_samples_leaf': 2, 'n_estimators': 250, 'n_jobs': -1}\n",
      "Train scores 0.995 (+/-0.009) Test scores 0.615 (+/-0.123) for {'criterion': 'gini', 'max_features': 'sqrt', 'min_samples_leaf': 2, 'n_estimators': 300, 'n_jobs': -1}\n",
      "Train scores 0.995 (+/-0.008) Test scores 0.621 (+/-0.105) for {'criterion': 'gini', 'max_features': 'sqrt', 'min_samples_leaf': 2, 'n_estimators': 350, 'n_jobs': -1}\n",
      "Train scores 0.933 (+/-0.031) Test scores 0.598 (+/-0.140) for {'criterion': 'gini', 'max_features': 'sqrt', 'min_samples_leaf': 3, 'n_estimators': 200, 'n_jobs': -1}\n",
      "Train scores 0.942 (+/-0.026) Test scores 0.578 (+/-0.162) for {'criterion': 'gini', 'max_features': 'sqrt', 'min_samples_leaf': 3, 'n_estimators': 250, 'n_jobs': -1}\n",
      "Train scores 0.930 (+/-0.033) Test scores 0.592 (+/-0.097) for {'criterion': 'gini', 'max_features': 'sqrt', 'min_samples_leaf': 3, 'n_estimators': 300, 'n_jobs': -1}\n",
      "Train scores 0.937 (+/-0.027) Test scores 0.597 (+/-0.089) for {'criterion': 'gini', 'max_features': 'sqrt', 'min_samples_leaf': 3, 'n_estimators': 350, 'n_jobs': -1}\n",
      "Train scores 1.000 (+/-0.000) Test scores 0.573 (+/-0.148) for {'criterion': 'gini', 'max_features': 'log2', 'min_samples_leaf': 1, 'n_estimators': 200, 'n_jobs': -1}\n",
      "Train scores 1.000 (+/-0.000) Test scores 0.560 (+/-0.051) for {'criterion': 'gini', 'max_features': 'log2', 'min_samples_leaf': 1, 'n_estimators': 250, 'n_jobs': -1}\n",
      "Train scores 1.000 (+/-0.000) Test scores 0.608 (+/-0.131) for {'criterion': 'gini', 'max_features': 'log2', 'min_samples_leaf': 1, 'n_estimators': 300, 'n_jobs': -1}\n",
      "Train scores 1.000 (+/-0.000) Test scores 0.606 (+/-0.132) for {'criterion': 'gini', 'max_features': 'log2', 'min_samples_leaf': 1, 'n_estimators': 350, 'n_jobs': -1}\n",
      "Train scores 0.996 (+/-0.009) Test scores 0.550 (+/-0.076) for {'criterion': 'gini', 'max_features': 'log2', 'min_samples_leaf': 2, 'n_estimators': 200, 'n_jobs': -1}\n",
      "Train scores 0.993 (+/-0.013) Test scores 0.599 (+/-0.159) for {'criterion': 'gini', 'max_features': 'log2', 'min_samples_leaf': 2, 'n_estimators': 250, 'n_jobs': -1}\n",
      "Train scores 0.991 (+/-0.011) Test scores 0.571 (+/-0.112) for {'criterion': 'gini', 'max_features': 'log2', 'min_samples_leaf': 2, 'n_estimators': 300, 'n_jobs': -1}\n",
      "Train scores 0.993 (+/-0.013) Test scores 0.557 (+/-0.083) for {'criterion': 'gini', 'max_features': 'log2', 'min_samples_leaf': 2, 'n_estimators': 350, 'n_jobs': -1}\n",
      "Train scores 0.922 (+/-0.033) Test scores 0.527 (+/-0.091) for {'criterion': 'gini', 'max_features': 'log2', 'min_samples_leaf': 3, 'n_estimators': 200, 'n_jobs': -1}\n",
      "Train scores 0.913 (+/-0.023) Test scores 0.553 (+/-0.066) for {'criterion': 'gini', 'max_features': 'log2', 'min_samples_leaf': 3, 'n_estimators': 250, 'n_jobs': -1}\n",
      "Train scores 0.920 (+/-0.036) Test scores 0.548 (+/-0.087) for {'criterion': 'gini', 'max_features': 'log2', 'min_samples_leaf': 3, 'n_estimators': 300, 'n_jobs': -1}\n",
      "Train scores 0.936 (+/-0.020) Test scores 0.549 (+/-0.155) for {'criterion': 'gini', 'max_features': 'log2', 'min_samples_leaf': 3, 'n_estimators': 350, 'n_jobs': -1}\n",
      "Train scores 1.000 (+/-0.000) Test scores 0.599 (+/-0.129) for {'criterion': 'entropy', 'max_features': 'sqrt', 'min_samples_leaf': 1, 'n_estimators': 200, 'n_jobs': -1}\n",
      "Train scores 1.000 (+/-0.000) Test scores 0.563 (+/-0.138) for {'criterion': 'entropy', 'max_features': 'sqrt', 'min_samples_leaf': 1, 'n_estimators': 250, 'n_jobs': -1}\n",
      "Train scores 1.000 (+/-0.000) Test scores 0.587 (+/-0.136) for {'criterion': 'entropy', 'max_features': 'sqrt', 'min_samples_leaf': 1, 'n_estimators': 300, 'n_jobs': -1}\n",
      "Train scores 1.000 (+/-0.000) Test scores 0.626 (+/-0.130) for {'criterion': 'entropy', 'max_features': 'sqrt', 'min_samples_leaf': 1, 'n_estimators': 350, 'n_jobs': -1}\n",
      "Train scores 0.993 (+/-0.013) Test scores 0.566 (+/-0.095) for {'criterion': 'entropy', 'max_features': 'sqrt', 'min_samples_leaf': 2, 'n_estimators': 200, 'n_jobs': -1}\n",
      "Train scores 0.993 (+/-0.007) Test scores 0.593 (+/-0.135) for {'criterion': 'entropy', 'max_features': 'sqrt', 'min_samples_leaf': 2, 'n_estimators': 250, 'n_jobs': -1}\n",
      "Train scores 0.997 (+/-0.014) Test scores 0.579 (+/-0.122) for {'criterion': 'entropy', 'max_features': 'sqrt', 'min_samples_leaf': 2, 'n_estimators': 300, 'n_jobs': -1}\n",
      "Train scores 0.995 (+/-0.009) Test scores 0.591 (+/-0.118) for {'criterion': 'entropy', 'max_features': 'sqrt', 'min_samples_leaf': 2, 'n_estimators': 350, 'n_jobs': -1}\n",
      "Train scores 0.937 (+/-0.028) Test scores 0.579 (+/-0.080) for {'criterion': 'entropy', 'max_features': 'sqrt', 'min_samples_leaf': 3, 'n_estimators': 200, 'n_jobs': -1}\n",
      "Train scores 0.935 (+/-0.038) Test scores 0.570 (+/-0.073) for {'criterion': 'entropy', 'max_features': 'sqrt', 'min_samples_leaf': 3, 'n_estimators': 250, 'n_jobs': -1}\n",
      "Train scores 0.941 (+/-0.026) Test scores 0.580 (+/-0.096) for {'criterion': 'entropy', 'max_features': 'sqrt', 'min_samples_leaf': 3, 'n_estimators': 300, 'n_jobs': -1}\n",
      "Train scores 0.944 (+/-0.027) Test scores 0.591 (+/-0.149) for {'criterion': 'entropy', 'max_features': 'sqrt', 'min_samples_leaf': 3, 'n_estimators': 350, 'n_jobs': -1}\n",
      "Train scores 1.000 (+/-0.000) Test scores 0.588 (+/-0.145) for {'criterion': 'entropy', 'max_features': 'log2', 'min_samples_leaf': 1, 'n_estimators': 200, 'n_jobs': -1}\n",
      "Train scores 1.000 (+/-0.000) Test scores 0.587 (+/-0.128) for {'criterion': 'entropy', 'max_features': 'log2', 'min_samples_leaf': 1, 'n_estimators': 250, 'n_jobs': -1}\n",
      "Train scores 1.000 (+/-0.000) Test scores 0.584 (+/-0.094) for {'criterion': 'entropy', 'max_features': 'log2', 'min_samples_leaf': 1, 'n_estimators': 300, 'n_jobs': -1}\n",
      "Train scores 1.000 (+/-0.000) Test scores 0.600 (+/-0.104) for {'criterion': 'entropy', 'max_features': 'log2', 'min_samples_leaf': 1, 'n_estimators': 350, 'n_jobs': -1}\n",
      "Train scores 0.993 (+/-0.013) Test scores 0.540 (+/-0.068) for {'criterion': 'entropy', 'max_features': 'log2', 'min_samples_leaf': 2, 'n_estimators': 200, 'n_jobs': -1}\n",
      "Train scores 0.993 (+/-0.013) Test scores 0.511 (+/-0.144) for {'criterion': 'entropy', 'max_features': 'log2', 'min_samples_leaf': 2, 'n_estimators': 250, 'n_jobs': -1}\n",
      "Train scores 0.996 (+/-0.009) Test scores 0.522 (+/-0.075) for {'criterion': 'entropy', 'max_features': 'log2', 'min_samples_leaf': 2, 'n_estimators': 300, 'n_jobs': -1}\n",
      "Train scores 0.997 (+/-0.014) Test scores 0.547 (+/-0.119) for {'criterion': 'entropy', 'max_features': 'log2', 'min_samples_leaf': 2, 'n_estimators': 350, 'n_jobs': -1}\n",
      "Train scores 0.918 (+/-0.037) Test scores 0.508 (+/-0.051) for {'criterion': 'entropy', 'max_features': 'log2', 'min_samples_leaf': 3, 'n_estimators': 200, 'n_jobs': -1}\n",
      "Train scores 0.934 (+/-0.020) Test scores 0.511 (+/-0.181) for {'criterion': 'entropy', 'max_features': 'log2', 'min_samples_leaf': 3, 'n_estimators': 250, 'n_jobs': -1}\n",
      "Train scores 0.934 (+/-0.021) Test scores 0.548 (+/-0.111) for {'criterion': 'entropy', 'max_features': 'log2', 'min_samples_leaf': 3, 'n_estimators': 300, 'n_jobs': -1}\n",
      "Train scores 0.932 (+/-0.044) Test scores 0.532 (+/-0.081) for {'criterion': 'entropy', 'max_features': 'log2', 'min_samples_leaf': 3, 'n_estimators': 350, 'n_jobs': -1}\n",
      "\n",
      "\n",
      "# Tuning hyper-parameters for recall_weighted\n",
      "\n"
     ]
    },
    {
     "name": "stderr",
     "output_type": "stream",
     "text": [
      "D:\\Softwares\\Anaconda\\lib\\site-packages\\sklearn\\model_selection\\_split.py:667: UserWarning: The least populated class in y has only 2 members, which is less than n_splits=5.\n",
      "  % (min_groups, self.n_splits)), UserWarning)\n"
     ]
    },
    {
     "name": "stdout",
     "output_type": "stream",
     "text": [
      "Best parameters set found on development set:\n",
      "\n",
      "{'criterion': 'gini', 'max_features': 'sqrt', 'min_samples_leaf': 1, 'n_estimators': 350, 'n_jobs': -1}\n",
      "\n",
      "Grid scores on development set:\n",
      "\n",
      "Train scores 1.000 (+/-0.000) Test scores 0.676 (+/-0.104) for {'criterion': 'gini', 'max_features': 'sqrt', 'min_samples_leaf': 1, 'n_estimators': 200, 'n_jobs': -1}\n",
      "Train scores 1.000 (+/-0.000) Test scores 0.689 (+/-0.117) for {'criterion': 'gini', 'max_features': 'sqrt', 'min_samples_leaf': 1, 'n_estimators': 250, 'n_jobs': -1}\n",
      "Train scores 1.000 (+/-0.000) Test scores 0.683 (+/-0.081) for {'criterion': 'gini', 'max_features': 'sqrt', 'min_samples_leaf': 1, 'n_estimators': 300, 'n_jobs': -1}\n",
      "Train scores 1.000 (+/-0.000) Test scores 0.695 (+/-0.086) for {'criterion': 'gini', 'max_features': 'sqrt', 'min_samples_leaf': 1, 'n_estimators': 350, 'n_jobs': -1}\n",
      "Train scores 1.000 (+/-0.000) Test scores 0.676 (+/-0.073) for {'criterion': 'gini', 'max_features': 'sqrt', 'min_samples_leaf': 2, 'n_estimators': 200, 'n_jobs': -1}\n",
      "Train scores 0.993 (+/-0.016) Test scores 0.682 (+/-0.096) for {'criterion': 'gini', 'max_features': 'sqrt', 'min_samples_leaf': 2, 'n_estimators': 250, 'n_jobs': -1}\n",
      "Train scores 0.990 (+/-0.012) Test scores 0.689 (+/-0.104) for {'criterion': 'gini', 'max_features': 'sqrt', 'min_samples_leaf': 2, 'n_estimators': 300, 'n_jobs': -1}\n",
      "Train scores 0.997 (+/-0.008) Test scores 0.689 (+/-0.104) for {'criterion': 'gini', 'max_features': 'sqrt', 'min_samples_leaf': 2, 'n_estimators': 350, 'n_jobs': -1}\n",
      "Train scores 0.940 (+/-0.022) Test scores 0.669 (+/-0.091) for {'criterion': 'gini', 'max_features': 'sqrt', 'min_samples_leaf': 3, 'n_estimators': 200, 'n_jobs': -1}\n",
      "Train scores 0.942 (+/-0.023) Test scores 0.669 (+/-0.055) for {'criterion': 'gini', 'max_features': 'sqrt', 'min_samples_leaf': 3, 'n_estimators': 250, 'n_jobs': -1}\n",
      "Train scores 0.945 (+/-0.025) Test scores 0.663 (+/-0.070) for {'criterion': 'gini', 'max_features': 'sqrt', 'min_samples_leaf': 3, 'n_estimators': 300, 'n_jobs': -1}\n",
      "Train scores 0.945 (+/-0.017) Test scores 0.675 (+/-0.049) for {'criterion': 'gini', 'max_features': 'sqrt', 'min_samples_leaf': 3, 'n_estimators': 350, 'n_jobs': -1}\n",
      "Train scores 1.000 (+/-0.000) Test scores 0.649 (+/-0.074) for {'criterion': 'gini', 'max_features': 'log2', 'min_samples_leaf': 1, 'n_estimators': 200, 'n_jobs': -1}\n",
      "Train scores 1.000 (+/-0.000) Test scores 0.656 (+/-0.085) for {'criterion': 'gini', 'max_features': 'log2', 'min_samples_leaf': 1, 'n_estimators': 250, 'n_jobs': -1}\n",
      "Train scores 1.000 (+/-0.000) Test scores 0.649 (+/-0.108) for {'criterion': 'gini', 'max_features': 'log2', 'min_samples_leaf': 1, 'n_estimators': 300, 'n_jobs': -1}\n",
      "Train scores 1.000 (+/-0.000) Test scores 0.669 (+/-0.135) for {'criterion': 'gini', 'max_features': 'log2', 'min_samples_leaf': 1, 'n_estimators': 350, 'n_jobs': -1}\n",
      "Train scores 0.992 (+/-0.011) Test scores 0.656 (+/-0.108) for {'criterion': 'gini', 'max_features': 'log2', 'min_samples_leaf': 2, 'n_estimators': 200, 'n_jobs': -1}\n",
      "Train scores 0.988 (+/-0.020) Test scores 0.649 (+/-0.074) for {'criterion': 'gini', 'max_features': 'log2', 'min_samples_leaf': 2, 'n_estimators': 250, 'n_jobs': -1}\n",
      "Train scores 0.990 (+/-0.012) Test scores 0.643 (+/-0.079) for {'criterion': 'gini', 'max_features': 'log2', 'min_samples_leaf': 2, 'n_estimators': 300, 'n_jobs': -1}\n",
      "Train scores 0.992 (+/-0.011) Test scores 0.662 (+/-0.046) for {'criterion': 'gini', 'max_features': 'log2', 'min_samples_leaf': 2, 'n_estimators': 350, 'n_jobs': -1}\n",
      "Train scores 0.934 (+/-0.028) Test scores 0.609 (+/-0.094) for {'criterion': 'gini', 'max_features': 'log2', 'min_samples_leaf': 3, 'n_estimators': 200, 'n_jobs': -1}\n",
      "Train scores 0.937 (+/-0.029) Test scores 0.610 (+/-0.111) for {'criterion': 'gini', 'max_features': 'log2', 'min_samples_leaf': 3, 'n_estimators': 250, 'n_jobs': -1}\n",
      "Train scores 0.942 (+/-0.021) Test scores 0.616 (+/-0.090) for {'criterion': 'gini', 'max_features': 'log2', 'min_samples_leaf': 3, 'n_estimators': 300, 'n_jobs': -1}\n",
      "Train scores 0.927 (+/-0.026) Test scores 0.623 (+/-0.050) for {'criterion': 'gini', 'max_features': 'log2', 'min_samples_leaf': 3, 'n_estimators': 350, 'n_jobs': -1}\n",
      "Train scores 1.000 (+/-0.000) Test scores 0.669 (+/-0.110) for {'criterion': 'entropy', 'max_features': 'sqrt', 'min_samples_leaf': 1, 'n_estimators': 200, 'n_jobs': -1}\n",
      "Train scores 1.000 (+/-0.000) Test scores 0.676 (+/-0.095) for {'criterion': 'entropy', 'max_features': 'sqrt', 'min_samples_leaf': 1, 'n_estimators': 250, 'n_jobs': -1}\n",
      "Train scores 1.000 (+/-0.000) Test scores 0.669 (+/-0.114) for {'criterion': 'entropy', 'max_features': 'sqrt', 'min_samples_leaf': 1, 'n_estimators': 300, 'n_jobs': -1}\n",
      "Train scores 1.000 (+/-0.000) Test scores 0.676 (+/-0.095) for {'criterion': 'entropy', 'max_features': 'sqrt', 'min_samples_leaf': 1, 'n_estimators': 350, 'n_jobs': -1}\n",
      "Train scores 0.995 (+/-0.013) Test scores 0.669 (+/-0.069) for {'criterion': 'entropy', 'max_features': 'sqrt', 'min_samples_leaf': 2, 'n_estimators': 200, 'n_jobs': -1}\n",
      "Train scores 0.997 (+/-0.008) Test scores 0.662 (+/-0.075) for {'criterion': 'entropy', 'max_features': 'sqrt', 'min_samples_leaf': 2, 'n_estimators': 250, 'n_jobs': -1}\n",
      "Train scores 0.998 (+/-0.007) Test scores 0.662 (+/-0.046) for {'criterion': 'entropy', 'max_features': 'sqrt', 'min_samples_leaf': 2, 'n_estimators': 300, 'n_jobs': -1}\n",
      "Train scores 0.992 (+/-0.011) Test scores 0.676 (+/-0.131) for {'criterion': 'entropy', 'max_features': 'sqrt', 'min_samples_leaf': 2, 'n_estimators': 350, 'n_jobs': -1}\n",
      "Train scores 0.945 (+/-0.029) Test scores 0.610 (+/-0.103) for {'criterion': 'entropy', 'max_features': 'sqrt', 'min_samples_leaf': 3, 'n_estimators': 200, 'n_jobs': -1}\n",
      "Train scores 0.947 (+/-0.017) Test scores 0.656 (+/-0.066) for {'criterion': 'entropy', 'max_features': 'sqrt', 'min_samples_leaf': 3, 'n_estimators': 250, 'n_jobs': -1}\n",
      "Train scores 0.952 (+/-0.012) Test scores 0.669 (+/-0.081) for {'criterion': 'entropy', 'max_features': 'sqrt', 'min_samples_leaf': 3, 'n_estimators': 300, 'n_jobs': -1}\n",
      "Train scores 0.947 (+/-0.017) Test scores 0.656 (+/-0.085) for {'criterion': 'entropy', 'max_features': 'sqrt', 'min_samples_leaf': 3, 'n_estimators': 350, 'n_jobs': -1}\n",
      "Train scores 1.000 (+/-0.000) Test scores 0.623 (+/-0.119) for {'criterion': 'entropy', 'max_features': 'log2', 'min_samples_leaf': 1, 'n_estimators': 200, 'n_jobs': -1}\n",
      "Train scores 1.000 (+/-0.000) Test scores 0.649 (+/-0.100) for {'criterion': 'entropy', 'max_features': 'log2', 'min_samples_leaf': 1, 'n_estimators': 250, 'n_jobs': -1}\n",
      "Train scores 1.000 (+/-0.000) Test scores 0.649 (+/-0.090) for {'criterion': 'entropy', 'max_features': 'log2', 'min_samples_leaf': 1, 'n_estimators': 300, 'n_jobs': -1}\n",
      "Train scores 1.000 (+/-0.000) Test scores 0.650 (+/-0.134) for {'criterion': 'entropy', 'max_features': 'log2', 'min_samples_leaf': 1, 'n_estimators': 350, 'n_jobs': -1}\n",
      "Train scores 0.993 (+/-0.012) Test scores 0.623 (+/-0.079) for {'criterion': 'entropy', 'max_features': 'log2', 'min_samples_leaf': 2, 'n_estimators': 200, 'n_jobs': -1}\n",
      "Train scores 0.993 (+/-0.016) Test scores 0.656 (+/-0.085) for {'criterion': 'entropy', 'max_features': 'log2', 'min_samples_leaf': 2, 'n_estimators': 250, 'n_jobs': -1}\n",
      "Train scores 0.995 (+/-0.013) Test scores 0.616 (+/-0.090) for {'criterion': 'entropy', 'max_features': 'log2', 'min_samples_leaf': 2, 'n_estimators': 300, 'n_jobs': -1}\n",
      "Train scores 0.997 (+/-0.008) Test scores 0.630 (+/-0.131) for {'criterion': 'entropy', 'max_features': 'log2', 'min_samples_leaf': 2, 'n_estimators': 350, 'n_jobs': -1}\n",
      "Train scores 0.937 (+/-0.027) Test scores 0.669 (+/-0.091) for {'criterion': 'entropy', 'max_features': 'log2', 'min_samples_leaf': 3, 'n_estimators': 200, 'n_jobs': -1}\n",
      "Train scores 0.942 (+/-0.023) Test scores 0.623 (+/-0.099) for {'criterion': 'entropy', 'max_features': 'log2', 'min_samples_leaf': 3, 'n_estimators': 250, 'n_jobs': -1}\n",
      "Train scores 0.939 (+/-0.027) Test scores 0.603 (+/-0.091) for {'criterion': 'entropy', 'max_features': 'log2', 'min_samples_leaf': 3, 'n_estimators': 300, 'n_jobs': -1}\n",
      "Train scores 0.942 (+/-0.015) Test scores 0.610 (+/-0.111) for {'criterion': 'entropy', 'max_features': 'log2', 'min_samples_leaf': 3, 'n_estimators': 350, 'n_jobs': -1}\n",
      "\n",
      "\n"
     ]
    }
   ],
   "source": [
    "def rf_hyperparameter_tuning(X_train,y_train):\n",
    "    print(\"RandomForest for predicting rating\")   \n",
    "\n",
    "    # Set the parameters by cross-validation\n",
    "\n",
    "    tuned_parameters = [{'n_estimators': [200,250,300,350], 'criterion':[\"gini\",\"entropy\"],'max_features':[\"sqrt\", \"log2\"],\n",
    "                        'min_samples_leaf':[1,2,3],'n_jobs':[-1]}\n",
    "                   ]\n",
    "    scores = ['f1_weighted','recall_weighted']\n",
    "    \n",
    "    for score in scores:\n",
    "        print(\"# Tuning hyper-parameters for %s\" % score)\n",
    "        print()\n",
    "    \n",
    "        clf = GridSearchCV(RandomForestClassifier(), tuned_parameters, cv=5,n_jobs=-1,return_train_score = True,\n",
    "                           scoring='%s' % score)\n",
    "        clf.fit(X_train, y_train)\n",
    "    \n",
    "        print(\"Best parameters set found on development set:\")\n",
    "        print()\n",
    "        print(clf.best_params_)\n",
    "        print()\n",
    "        print(\"Grid scores on development set:\")\n",
    "        print()\n",
    "        means_test = clf.cv_results_['mean_test_score']\n",
    "        stds_test = clf.cv_results_['std_test_score']\n",
    "        means_train = clf.cv_results_['mean_train_score']\n",
    "        stds_train = clf.cv_results_['std_train_score']\n",
    "        for mean_train, std_train,mean_test,std_test, params in zip(means_train,stds_train,means_test, stds_test, clf.cv_results_['params']):\n",
    "            print(\"Train scores %0.3f (+/-%0.03f) Test scores %0.3f (+/-%0.03f) for %r\"\n",
    "                  % (mean_train, std_train * 2, mean_test, std_test * 2, params))\n",
    "        print()\n",
    "        print()\n",
    "        \n",
    "rf_hyperparameter_tuning(x_train_minor_df,y_train_minor)"
   ]
  },
  {
   "cell_type": "code",
   "execution_count": 55,
   "metadata": {},
   "outputs": [
    {
     "name": "stdout",
     "output_type": "stream",
     "text": [
      "RandomForest Classification\n",
      "________________________________________________________________________________\n",
      "RandomForestClassifier(bootstrap=True, ccp_alpha=0.0, class_weight=None,\n",
      "                       criterion='gini', max_depth=None, max_features='sqrt',\n",
      "                       max_leaf_nodes=None, max_samples=None,\n",
      "                       min_impurity_decrease=0.0, min_impurity_split=None,\n",
      "                       min_samples_leaf=1, min_samples_split=2,\n",
      "                       min_weight_fraction_leaf=0.0, n_estimators=350,\n",
      "                       n_jobs=-1, oob_score=False, random_state=None, verbose=0,\n",
      "                       warm_start=False)\n",
      "Predictions\n",
      "[7 1 1 7 7 1 7 1 7 7 1 7 1 1 1 6 6 1 1 1 1 1 1 1 6 1 6 4 6 1 3 7 7 1 1 5 1\n",
      " 1 1 1 1 7 3 6 1 7 1 1 5 7 1]\n",
      "Train accuracy:   1.00000\n",
      "Test accuracy:   0.66667\n",
      "Train recall:   1.00000\n",
      "Test recall:   0.66667\n",
      "Cohen kappa score:   0.47928\n",
      "F1 Score: 0.64740\n",
      "classification report:\n",
      "              precision    recall  f1-score   support\n",
      "\n",
      "           1       0.82      0.82      0.82        28\n",
      "           3       0.50      0.20      0.29         5\n",
      "           4       0.00      0.00      0.00         2\n",
      "           5       0.50      1.00      0.67         1\n",
      "           6       0.67      0.80      0.73         5\n",
      "           7       0.42      0.56      0.48         9\n",
      "           9       0.00      0.00      0.00         1\n",
      "\n",
      "    accuracy                           0.67        51\n",
      "   macro avg       0.41      0.48      0.43        51\n",
      "weighted avg       0.65      0.67      0.65        51\n",
      "\n",
      "confusion matrix:\n",
      "[[23  0  0  1  0  4  0]\n",
      " [ 3  1  0  0  0  1  0]\n",
      " [ 1  0  0  0  1  0  0]\n",
      " [ 0  0  0  1  0  0  0]\n",
      " [ 0  0  0  0  4  1  0]\n",
      " [ 1  1  1  0  1  5  0]\n",
      " [ 0  0  0  0  0  1  0]]\n",
      "\n"
     ]
    },
    {
     "name": "stderr",
     "output_type": "stream",
     "text": [
      "D:\\Softwares\\Anaconda\\lib\\site-packages\\sklearn\\metrics\\_classification.py:1272: UndefinedMetricWarning: Precision and F-score are ill-defined and being set to 0.0 in labels with no predicted samples. Use `zero_division` parameter to control this behavior.\n",
      "  _warn_prf(average, modifier, msg_start, len(result))\n"
     ]
    },
    {
     "data": {
      "image/png": "[encoded data removed]",
      "text/plain": [
       "<Figure size 432x288 with 2 Axes>"
      ]
     },
     "metadata": {
      "needs_background": "light"
     },
     "output_type": "display_data"
    }
   ],
   "source": [
    "\n",
    "# {'criterion': 'entropy', 'max_features': 'sqrt', 'min_samples_leaf': 1, 'n_estimators': 200, 'n_jobs': -1}\n",
    "    \n",
    "print(\"RandomForest Classification\")\n",
    "clf = benchmark1(\"RF\",RandomForestClassifier(min_samples_leaf=1, criterion='gini',n_estimators=350,max_features=\"sqrt\",n_jobs=-1),x_train_minor_df,y_train_minor,x_test_minor_df,y_test_minor)\n",
    "\n",
    "\n"
   ]
  },
  {
   "cell_type": "markdown",
   "metadata": {},
   "source": [
    "## Combination of binary and minority"
   ]
  },
  {
   "cell_type": "code",
   "execution_count": 70,
   "metadata": {},
   "outputs": [
    {
     "data": {
      "text/plain": [
       "array([2, 2, 2, 1, 2, 2, 2, 2, 2, 2, 2, 2, 2, 2, 2, 1, 1, 2, 2, 2, 2, 2,\n",
       "       1, 2, 2, 1, 1, 2, 1, 2, 1, 2, 2, 1, 1, 2, 2, 1, 1, 2, 1, 1, 2, 1,\n",
       "       2, 2, 1, 1, 2, 2, 2, 1, 2, 2, 2, 2, 2, 1, 2, 2, 2, 1, 1, 1, 2, 1,\n",
       "       2, 1, 2, 2, 2, 1, 2, 2, 1, 2, 1, 2, 1, 2, 2, 2, 2, 1, 2, 2, 2, 2,\n",
       "       1, 1, 2, 2, 2, 2, 2, 1, 1, 2, 1, 1, 2, 2, 2, 2, 2, 1, 2, 2, 2, 2,\n",
       "       2, 2, 2, 2, 2, 2, 2, 1, 1, 2, 1, 2, 2, 2, 1, 2, 2, 2, 2, 1, 1, 1,\n",
       "       1, 2, 2, 1, 2, 1, 2, 2, 1, 2, 2, 2, 2, 2, 2, 2, 1, 2, 1, 2, 1, 2,\n",
       "       1, 2, 1, 2, 1, 1, 1, 1, 2, 2, 1, 2, 2, 2, 1, 1, 1, 1, 2, 2, 1, 2,\n",
       "       2, 1, 1, 2, 2, 2, 1, 2, 2, 2, 2, 2, 1, 2, 1, 1, 1, 1, 2, 1, 2, 2,\n",
       "       1, 2, 2, 2, 2, 2, 2, 1, 1, 2, 2, 2, 2, 2, 1, 2, 2, 2, 1, 2, 1, 2,\n",
       "       2, 2, 1, 1, 1, 2, 2, 2, 1, 2, 1, 2, 2, 1, 2, 2, 1, 1, 2, 2, 2, 1,\n",
       "       2, 2, 1, 1, 2, 1, 2])"
      ]
     },
     "execution_count": 70,
     "metadata": {},
     "output_type": "execute_result"
    }
   ],
   "source": [
    "y_predict"
   ]
  },
  {
   "cell_type": "code",
   "execution_count": 71,
   "metadata": {},
   "outputs": [
    {
     "data": {
      "text/plain": [
       "249"
      ]
     },
     "execution_count": 71,
     "metadata": {},
     "output_type": "execute_result"
    }
   ],
   "source": [
    "len(y_predict)"
   ]
  },
  {
   "cell_type": "code",
   "execution_count": 72,
   "metadata": {},
   "outputs": [],
   "source": [
    "y_predict_minor = clf.predict(x_test_minor_df)"
   ]
  },
  {
   "cell_type": "code",
   "execution_count": 73,
   "metadata": {},
   "outputs": [],
   "source": [
    "# y_predict_normal = clf_normal.predict(df2)"
   ]
  },
  {
   "cell_type": "code",
   "execution_count": 74,
   "metadata": {},
   "outputs": [],
   "source": [
    "count = 0\n",
    "for i in range (0,test_rowcount):\n",
    "    if y_predict[i] != 1 and y_test_1[i] == 1:\n",
    "        \n",
    "        count = count + 1\n",
    "    if y_predict[i] == 1 and y_test_1[i] == 1:\n",
    "        y_predict[i] = y_predict_minor[count]\n",
    "        count = count + 1\n",
    "        "
   ]
  },
  {
   "cell_type": "code",
   "execution_count": 75,
   "metadata": {},
   "outputs": [
    {
     "name": "stdout",
     "output_type": "stream",
     "text": [
      "[2 2 2 1 2 2 2 2 2 2 2 2 2 2 2 1 1 2 2 2 2 2 1 2 2 1 1 2 1 2 1 2 2 1 1 2 2\n",
      " 1 9 2 1 1 2 7 2 2 1 3 2 2 2 1 2 2 2 2 2 1 2 2 2 1 3 1 2 1 2 1 2 2 2 1 2 2\n",
      " 1 2 1 2 1 2 2 2 2 1 2 2 2 2 1 1 2 2 2 2 2 1 1 2 3 3 2 2 2 2 2 7 2 2 2 2 2\n",
      " 2 2 2 2 2 2 1 1 2 1 2 2 2 1 2 2 2 2 4 1 1 1 2 2 1 2 3 2 2 1 2 2 2 2 2 2 2\n",
      " 1 2 3 2 9 2 1 2 1 2 1 1 1 3 2 2 1 2 2 2 1 1 1 1 2 2 1 2 2 1 1 2 2 2 1 2 2\n",
      " 2 2 2 1 2 1 1 3 1 2 1 2 2 1 2 2 2 2 2 2 4 1 2 2 2 2 2 1 2 2 2 3 2 1 2 2 2\n",
      " 1 1 1 2 2 2 1 2 1 2 2 3 2 2 1 1 2 2 2 1 2 2 7 1 2 1 2] [2, 2, 2, 1, 2, 2, 2, 2, 2, 2, 2, 2, 2, 2, 2, 2, 2, 2, 2, 2, 2, 2, 2, 2, 2, 2, 1, 2, 1, 2, 2, 1, 2, 2, 2, 2, 2, 2, 1, 2, 1, 2, 2, 1, 2, 2, 2, 1, 2, 2, 2, 2, 1, 2, 2, 1, 2, 1, 2, 2, 2, 2, 1, 1, 2, 2, 2, 2, 2, 2, 2, 1, 2, 2, 2, 2, 2, 2, 1, 1, 2, 2, 1, 1, 2, 2, 2, 2, 1, 2, 2, 2, 2, 1, 2, 2, 1, 2, 1, 1, 2, 2, 2, 2, 2, 1, 2, 2, 2, 2, 2, 1, 2, 2, 2, 2, 2, 1, 2, 2, 2, 1, 2, 1, 2, 1, 2, 2, 2, 1, 2, 2, 2, 2, 2, 2, 2, 1, 2, 2, 2, 2, 2, 2, 1, 2, 2, 2, 2, 2, 1, 2, 1, 2, 2, 2, 2, 2, 2, 2, 2, 1, 2, 2, 2, 2, 2, 2, 2, 2, 2, 2, 2, 2, 2, 2, 1, 2, 2, 2, 2, 2, 2, 2, 2, 2, 2, 2, 1, 2, 2, 1, 1, 2, 2, 2, 2, 2, 2, 2, 2, 2, 2, 2, 2, 1, 1, 2, 2, 2, 2, 2, 1, 2, 2, 2, 1, 2, 2, 2, 2, 1, 2, 1, 2, 2, 2, 2, 2, 2, 2, 2, 2, 1, 2, 1, 1, 2, 1, 2, 2, 2, 2, 2, 1, 1, 2, 2, 2]\n"
     ]
    }
   ],
   "source": [
    "print (y_predict,y_test_1)"
   ]
  },
  {
   "cell_type": "code",
   "execution_count": 76,
   "metadata": {},
   "outputs": [
    {
     "name": "stdout",
     "output_type": "stream",
     "text": [
      "19\n"
     ]
    }
   ],
   "source": [
    "count = 0\n",
    "for i in range (0,test_rowcount):\n",
    "    if y_predict[i]==1 and y_test_1[i]==1:\n",
    "        count = count +1\n",
    "print (count)"
   ]
  },
  {
   "cell_type": "code",
   "execution_count": 77,
   "metadata": {},
   "outputs": [
    {
     "data": {
      "text/plain": [
       "249"
      ]
     },
     "execution_count": 77,
     "metadata": {},
     "output_type": "execute_result"
    }
   ],
   "source": [
    "len(y_predict)"
   ]
  },
  {
   "cell_type": "code",
   "execution_count": 78,
   "metadata": {},
   "outputs": [
    {
     "name": "stdout",
     "output_type": "stream",
     "text": [
      "0.708719122299253\n"
     ]
    }
   ],
   "source": [
    "print(metrics.f1_score(y_test,y_predict,average='weighted'))"
   ]
  },
  {
   "cell_type": "code",
   "execution_count": 79,
   "metadata": {},
   "outputs": [],
   "source": [
    "cm = metrics.confusion_matrix(y_test, y_predict)"
   ]
  },
  {
   "cell_type": "code",
   "execution_count": 80,
   "metadata": {},
   "outputs": [
    {
     "data": {
      "text/plain": [
       "Text(33.0, 0.5, 'true')"
      ]
     },
     "execution_count": 80,
     "metadata": {},
     "output_type": "execute_result"
    },
    {
     "data": {
      "image/png": "[encoded data removed]",
      "text/plain": [
       "<Figure size 432x432 with 1 Axes>"
      ]
     },
     "metadata": {
      "needs_background": "light"
     },
     "output_type": "display_data"
    }
   ],
   "source": [
    "import seaborn as sns\n",
    "plt.figure(figsize = (6,6))\n",
    "sns.heatmap(cm, annot=True, cbar=False, fmt='g')\n",
    "plt.xlabel(\"predicted\")\n",
    "plt.ylabel(\"true\")"
   ]
  },
  {
   "cell_type": "code",
   "execution_count": null,
   "metadata": {},
   "outputs": [],
   "source": []
  }
 ],
 "metadata": {
  "kernelspec": {
   "display_name": "Python 3",
   "language": "python",
   "name": "python3"
  },
  "language_info": {
   "codemirror_mode": {
    "name": "ipython",
    "version": 3
   },
   "file_extension": ".py",
   "mimetype": "text/x-python",
   "name": "python",
   "nbconvert_exporter": "python",
   "pygments_lexer": "ipython3",
   "version": "3.7.3"
  }
 },
 "nbformat": 4,
 "nbformat_minor": 4
}
